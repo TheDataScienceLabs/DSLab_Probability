{
 "cells": [
  {
   "cell_type": "markdown",
   "id": "aed88a21-a17a-4d3b-92d6-4df9baf612c8",
   "metadata": {},
   "source": [
    "You can run the cell below to build the HTML book locally, to preview what will happen after you upload to Github. Or you could just run the command `jupyter-book build book` in a terminal."
   ]
  },
  {
   "cell_type": "code",
   "execution_count": null,
   "id": "84d5341a-a540-49bc-aaca-99a2bfb3114b",
   "metadata": {},
   "outputs": [],
   "source": [
    "!{'jupyter-book build book'}"
   ]
  }
 ],
 "metadata": {
  "kernelspec": {
   "display_name": "Python 3 (ipykernel)",
   "language": "python",
   "name": "python3"
  },
  "language_info": {
   "codemirror_mode": {
    "name": "ipython",
    "version": 3
   },
   "file_extension": ".py",
   "mimetype": "text/x-python",
   "name": "python",
   "nbconvert_exporter": "python",
   "pygments_lexer": "ipython3",
   "version": "3.9.13"
  },
  "vscode": {
   "interpreter": {
    "hash": "31f2aee4e71d21fbe5cf8b01ff0e069b9275f58929596ceb00d14d90e3e16cd6"
   }
  }
 },
 "nbformat": 4,
 "nbformat_minor": 5
}
