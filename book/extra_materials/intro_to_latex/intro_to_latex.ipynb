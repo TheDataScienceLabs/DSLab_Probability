{
 "cells": [
  {
   "attachments": {},
   "cell_type": "markdown",
   "id": "a86c853b-b82f-4883-bf03-15a2c05b87db",
   "metadata": {},
   "source": [
    "# Introduction to $\\LaTeX$ #\n",
    "\n",
    "<font size=\"6\"> Extra material </font> <br>\n",
    "<font size=\"3\"> Last updated July 26, 2022 </font>"
   ]
  },
  {
   "attachments": {},
   "cell_type": "markdown",
   "id": "e90879f5-f730-44da-ad7a-be77ee8b2eaa",
   "metadata": {},
   "source": [
    "## <span style=\"color:orange;\"> 00. Content </span>"
   ]
  },
  {
   "attachments": {},
   "cell_type": "markdown",
   "id": "ba827722-0c2f-493b-a2d2-d7f0bda08882",
   "metadata": {},
   "source": [
    "<font size=\"5\"> Mathematics </font>\n",
    "- N/A\n",
    "     \n",
    "<font size=\"5\"> Programming Skills </font>\n",
    "- Latex    \n",
    "    \n",
    "<font size=\"5\"> Embedded Systems </font>\n",
    "- N/A"
   ]
  },
  {
   "attachments": {},
   "cell_type": "markdown",
   "id": "40ef17dd-1c68-43ed-9406-c2b55840c4b5",
   "metadata": {},
   "source": [
    "## <span style=\"color:orange;\"> 0. Required Hardware </span>"
   ]
  },
  {
   "attachments": {},
   "cell_type": "markdown",
   "id": "ec4e4a28-936f-4676-8286-c69f06d2ac08",
   "metadata": {},
   "source": [
    "- N/A"
   ]
  },
  {
   "attachments": {},
   "cell_type": "markdown",
   "id": "d0f19fc1-3d0b-43c1-969c-9385f645fd7a",
   "metadata": {},
   "source": [
    "## <span style=\"color:orange;\"> 1. A Very Brief Introduction to $\\LaTeX$ </span>"
   ]
  },
  {
   "attachments": {},
   "cell_type": "markdown",
   "id": "2535f7b3-5f7d-4742-83a7-71f424710364",
   "metadata": {},
   "source": [
    "$\\LaTeX$ (pronounced \"law-tek\" or \"lay-tek\") is a widely-used and well-established tool for creating beautifully typeset documents. It has been around for a long time and is commonly employed in various ways, such as:\n",
    "\n",
    " - writing submissions for academic journals\n",
    " - composing textbooks\n",
    " - preparing fiction books for publication\n",
    " - crafting assignments and exams for students\n",
    " - creating slide presentations (similar to PowerPoint)\n",
    " - writing personal letters to friends\n",
    " \n",
    "Many mathematicians rely heavily on $\\LaTeX$ when creating written documents. In this course, we will only utilize a small fraction of $\\LaTeX$—specifically, the part that allows us to display formulas nicely. Markdown interpreters, including the one integrated with JupyterLab, have the capability to convert $\\LaTeX$ expressions into beautifully rendered formulas. That's how it is possible to present a formula like:\n",
    "\n",
    "\n",
    "$$\n",
    "e^x = \\sum_{n=0}^\\infty \\frac{x^n}{n!}.\n",
    "$$\n",
    "\n",
    "By double-clicking on this cell, you can view the actual characters used to create the formula. Notably, the `$$` markers are employed at the beginning and end to indicate the presence of a formula in Markdown."
   ]
  },
  {
   "attachments": {},
   "cell_type": "markdown",
   "id": "6e1b8035-a2a9-4ca5-9d7f-ee49522fb5bd",
   "metadata": {},
   "source": [
    "### <span style=\"color:red\"> Exercise 1 </span> (5 pts)\n",
    "\n",
    "Copy and paste the formula from the cell above into the cell below. Change it so that instead of $x$, the variable is $y$.\n",
    "\n",
    "<h3 style=\"background-color:lightblue\"> Write Answers for Exercise 1 Below </h3>"
   ]
  },
  {
   "attachments": {},
   "cell_type": "markdown",
   "id": "b679e679-4dbc-470f-8766-7b1c6a446ac2",
   "metadata": {},
   "source": [
    "One of the reasons why $\\LaTeX$ is so popular is its ability to present the same formulas in different ways based on the context. If you want to include a formula within a line of text (without starting a new line), you can enclose the code with dollar signs `($)` like this: $e^x = \\sum_{n=0}^\\infty \\frac{x^n}{n!}$. Notice that the sum is displayed smaller to avoid disrupting the flow of the text, yet the code used remains the same.\n",
    "\n",
    "## Escape sequences\n",
    "\n",
    "Many mathematical symbols that we commonly use are not readily available on a typical keyboard. For instance, if you want to use a lowercase sigma, you might not find it directly. However, in $\\LaTeX$, you can represent a lowercase sigma by typing `\\sigma`, which will be displayed as $\\sigma$. Anything written after a backslash (symbol: `\\`, typically found below the backspace key on most keyboards) is treated as a command rather than being printed directly. In this case, the command is to \"insert a lowercase sigma here\". For a capital sigma, you can simply type `\\Sigma` with a capital 'S', resulting in $\\Sigma$.\n",
    "\n",
    "### <span style=\"color:red\"> Exercise 2 </span> (5 pts)\n",
    "\n",
    "Write some LaTeX code in the cell below to produce a lowercase phi, psi, gamma, and delta, followed by uppercase versions of each.\n",
    "\n",
    "<h3 style=\"background-color:lightblue\"> Write Answers for Exercise 2 Below </h3>"
   ]
  },
  {
   "attachments": {},
   "cell_type": "markdown",
   "id": "90f128b6-4c70-42a6-b3f5-b4060e7e3a45",
   "metadata": {},
   "source": [
    "## Subscripts, superscripts, and grouping\n",
    "\n",
    "It is quite common in mathematics to express superscripts, such as the exponent 2 in $x^2$ or the subscript $r$ in $\\varepsilon_r$. This is achieved using the caret (`^`) and underscore (`_`) keys. However, it is important to note that LaTeX differs from Python syntax. In Python, we would write $x^2$ as `x**2`, so it's crucial to avoid confusion when switching between the two.\n",
    "\n",
    "Another aspect to be mindful of is that the superscript or subscript applies only to the immediate element following it. Consequently, if we attempt to raise $x$ to the 23rd power using a single caret (`x^23`), the result will be $x^23$, which is incorrect. To rectify this, we need to group the numbers 2 and 3 together using braces ({ and }), as in `x^{23}`, resulting in $x^{23}$.\n",
    "\n",
    "### <span style=\"color:red\"> Exercise 3 </span> (5 pts)\n",
    "\n",
    "The formula below is all wrong! Put in braces to make it correct.\n",
    "\n",
    "<h3 style=\"background-color:lightblue\"> Write Answers for Exercise 3 Below </h3>"
   ]
  },
  {
   "attachments": {},
   "cell_type": "markdown",
   "id": "10acdb8d-a69c-40dd-a814-0c90e49d8100",
   "metadata": {},
   "source": [
    "$$\n",
    "\\cos(x) = \\sum_k=0^\\infty \\frac{(-1)^k x^2k}{(2k)!}\n",
    "$$"
   ]
  },
  {
   "attachments": {},
   "cell_type": "markdown",
   "id": "1d9d8df9-4cab-410c-bb23-bcf182f2edeb",
   "metadata": {},
   "source": [
    "## Fractions and parentheses\n",
    "\n",
    "Fractions in LaTeX behave differently compared to regular symbols. When writing a fraction, such as `\\frac12`, it affects the two symbols that follow it, resulting in $\\frac12$. However, in most cases, fractions involve more than one character in the numerator and denominator, so it is recommended to use two pairs of braces, like `\\frac{1}{2}`. This not only improves readability but also allows for more complex fractions, including fractions within fractions.\n",
    "\n",
    "For example, consider the following formula:\n",
    "\n",
    "$$\n",
    "\\frac{pq}{p+q} = \\frac{1}{\\frac{1}{p} + \\frac{1}{q}}\n",
    "$$\n",
    "\n",
    "When working in \"text mode\" (the smaller in-line text denoted by `$`), fractions appear smaller, while in \"display mode,\" they are larger by default. However, if you want to override this behavior, you can use the command `\\tfrac` to consistently display smaller-style fractions or the command `\\dfrac` to always use the display style.\n",
    "\n",
    "In expressions involving fractions, the height of the expression can often exceed that of a single character, resulting in unappealing visuals.\n",
    "\n",
    "\\begin{align*}\n",
    "1 = \\sum_{n=1}^\\infty (\\frac{1}{2})^n\n",
    "\\end{align*}\n",
    "\n",
    "To address this, we can use the commands `\\left` and `\\right` to transform regular parentheses into scaling parentheses. For instance:\n",
    "\n",
    "\\begin{align*}\n",
    "1 = \\sum_{n=1}^\\infty \\left( \\frac{1}{2} \\right)^n\n",
    "\\end{align*}\n",
    "\n",
    "By using `\\left`( and `\\right`), the parentheses adjust their size to encapsulate the content within them, creating a more visually pleasing equation.\n",
    "\n"
   ]
  },
  {
   "attachments": {},
   "cell_type": "markdown",
   "id": "2c4a36be-fc81-481f-8bd0-24581735799a",
   "metadata": {},
   "source": [
    "# Getting help\n",
    "\n",
    "Almost nobody knows every LaTeX command by heart. Fortunately, there are numerous ways to seek help on the internet. One popular tool for finding the escape sequence of a symbol is [Detexify](http://detexify.kirelabs.org/classify.html). Give it a try!\n",
    "\n",
    "### <span style=\"color:red\"> Exercise 4 </span> (5 pts)\n",
    "\n",
    "Use Detexify to find the escape sequence for the symbol ![symbol](https://raw.githubusercontent.com/TheDataScienceLabs/DSLab_Probability/main/book/extra_materials/intro_to_latex/additional_files/symbol.png), then type it using Latex below.\n",
    "\n",
    "<h3 style=\"background-color:lightblue\"> Write Answers for Exercise 4 Below </h3>"
   ]
  },
  {
   "attachments": {},
   "cell_type": "markdown",
   "id": "568ef5ae-71dd-416f-9c0d-213fb8e24bc3",
   "metadata": {},
   "source": []
  },
  {
   "attachments": {},
   "cell_type": "markdown",
   "id": "a25c5506-9df0-46b0-9e62-6de6825c8695",
   "metadata": {
    "tags": []
   },
   "source": [
    "Another powerful way is to copy someone else's working code. One great place to find it is on Wikipedia.\n",
    "\n",
    "### <span style=\"color:red\"> Exercise 5 </span> (5 pts)\n",
    "\n",
    "You haven't been informed yet about how to write a binomial coefficient in LaTeX. To figure it out, visit the [Wikipedia page](https://en.wikipedia.org/wiki/Binomial_theorem) for the binomial theorem and locate the formula shown below:\n",
    "\n",
    "![img](https://raw.githubusercontent.com/TheDataScienceLabs/DSLab_Probability/main/book/extra_materials/intro_to_latex/additional_files/binomial.png)\n",
    "\n",
    "Access the \"edit source\" section on Wikipedia to copy the LaTeX code provided for reproducing the formula. Then, modify the index of summation from $k$ to $i$.\n",
    "\n",
    "<h3 style=\"background-color:lightblue\"> Write Answers for Exercise 5 Below </h3>"
   ]
  }
 ],
 "metadata": {
  "kernelspec": {
   "display_name": "Python 3 (ipykernel)",
   "language": "python",
   "name": "python3"
  },
  "language_info": {
   "codemirror_mode": {
    "name": "ipython",
    "version": 3
   },
   "file_extension": ".py",
   "mimetype": "text/x-python",
   "name": "python",
   "nbconvert_exporter": "python",
   "pygments_lexer": "ipython3",
   "version": "3.11.1"
  },
  "vscode": {
   "interpreter": {
    "hash": "31f2aee4e71d21fbe5cf8b01ff0e069b9275f58929596ceb00d14d90e3e16cd6"
   }
  }
 },
 "nbformat": 4,
 "nbformat_minor": 5
}
