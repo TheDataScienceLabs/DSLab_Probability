{
 "cells": [
  {
   "attachments": {},
   "cell_type": "markdown",
   "metadata": {},
   "source": [
    "# Week 5-6: Image Quantization\n",
    "\n",
    "<font size=\"6\"> Laboratory 3 </font> <br>\n",
    "<font size=\"3\"> Last updated April 18, 2023 </font>"
   ]
  },
  {
   "attachments": {},
   "cell_type": "markdown",
   "metadata": {},
   "source": [
    "## <span style=\"color:orange;\"> 00. Content </span>"
   ]
  },
  {
   "attachments": {},
   "cell_type": "markdown",
   "metadata": {},
   "source": [
    "<font size=\"5\"> Mathematics </font>\n",
    "- Probability mass function\n",
    "- Cumulative distribution function\n",
    "     \n",
    "<font size=\"5\"> Programming Skills </font>\n",
    "- Functions\n",
    "- Loops\n",
    "- Multi-dimensional arrays\n",
    "    \n",
    "<font size=\"5\"> Embedded Systems </font>\n",
    "- Thonny and MicroPython"
   ]
  },
  {
   "attachments": {},
   "cell_type": "markdown",
   "metadata": {},
   "source": [
    "## <span style=\"color:orange;\"> 0. Required Hardware </span>"
   ]
  },
  {
   "attachments": {},
   "cell_type": "markdown",
   "metadata": {},
   "source": [
    "- Raspberry Pi Pico\n",
    "- Breadboard\n",
    "- USB connector\n",
    "- Camera (Arducam HM01B0)\n",
    "- 8 Wires\n"
   ]
  },
  {
   "attachments": {},
   "cell_type": "markdown",
   "metadata": {},
   "source": [
    "<h3 style=\"background-color:lightblue\"> Write your name and email below: </h3>\n",
    "\n",
    "**Name:** me \n",
    "\n",
    "**Email:** me @purdue.edu"
   ]
  },
  {
   "attachments": {},
   "cell_type": "markdown",
   "metadata": {},
   "source": [
    "## <span style=\"color:orange;\"> 1. Quantization  </span>\n",
    "\n",
    "In [The Data Science Labs on Mulitvariable Calculus](https://thedatasciencelabs.github.io/DataLab_Multivariate_Calculus/intro.html), we briefly introduce uniform quantization methods. Quantization of images refers to the process of reducing the information in an image from a wider range of values to a smaller range. Quantization is used for image compression to save storage space on devices, for creating image filters, and for processes like printing. As we saw observed in the previous lab on texture identification, grayscale images contain values between 0 and 255. However, what if we could only use 5 or 10 discrete values? In that case, we would require a mapping or function that transforms our original range of 0-255 to the 5 or 10 new discrete levels."
   ]
  },
  {
   "cell_type": "code",
   "execution_count": null,
   "metadata": {},
   "outputs": [],
   "source": [
    "import numpy as np\n",
    "import matplotlib.pyplot as plt    \n",
    "\n",
    "num_levels=5\n",
    "x = np.linspace(0,255,num_levels+1)\n",
    "y = np.linspace(0,255,num_levels)\n",
    "  \n",
    "plt.step(x, np.append(y,y[-1]), where='post')\n",
    "plt.xlabel('Grayscale Value')\n",
    "plt.ylabel('Quantized Value')\n",
    "plt.title('Uniform Quantization in 1D with 5 Levels')\n",
    "plt.show()"
   ]
  },
  {
   "attachments": {},
   "cell_type": "markdown",
   "metadata": {},
   "source": [
    "We can interpret uniform quantization from this graph. Given a image $I$ with dimensions $m\\times n$, at each pixel location $(i,j)$, we have a grayscale value, which is an integer ranging from 0 to 255. Then, based on the graph, we modify the grayscale value at $(i,j)$ to a new value. For instance, with 5 quantization levels, if the original grayscale value is 40, we will change it to 0."
   ]
  },
  {
   "attachments": {},
   "cell_type": "markdown",
   "metadata": {},
   "source": [
    "### <span style=\"color:red\"> Exercise 1</span>\n",
    "\n",
    "Write a function that takes in a grayscale image as a NumPy array and returns a uniformly quantized image with $k$ levels. Show your results on [low_contrast.jpg](**add link**) when $k=2,5,10,25$.\n",
    "\n",
    "<h3 style=\"background-color:lightblue\"> Write Answers for Exercise 1 Below </h3>"
   ]
  },
  {
   "cell_type": "code",
   "execution_count": null,
   "metadata": {},
   "outputs": [],
   "source": [
    "from PIL import Image                                   # needed for reading images\n",
    "\n",
    "img = np.array(Image.open('images/low_contrast.jpg'))          # read in the image and store it as a numpy array\n",
    "print(f'image size is {img.shape}')\n",
    "fig, ax = plt.subplots(figsize=(12,6))                  # create figure and set figure size\n",
    "ax.imshow(img, cmap='gray', vmin=0,vmax=255)            # display the image in grayscale between 0 and 255\n",
    "ax.axis('off')                                          \n",
    "plt.show()\n",
    "\n",
    "# COMPLETE YOUR FUNCTION HERE\n",
    "def uniform_quantization(img, k):\n",
    "    return\n",
    "\n",
    "# these are the test cases\n",
    "'''\n",
    "quantized_img = uniform_quantization(img, 2)            # uniform quantization with k = 2\n",
    "fig, ax = plt.subplots(figsize=(12,6))                  # create figure and set figure size\n",
    "ax.imshow(quantized_img, cmap='gray', vmin=0,vmax=255)            # display the image in grayscale between 0 and 255\n",
    "ax.axis('off')                                          \n",
    "plt.show()\n",
    "\n",
    "quantized_img = uniform_quantization(img, 5)            # uniform quantization with k = 5\n",
    "fig, ax = plt.subplots(figsize=(12,6))                  # create figure and set figure size\n",
    "ax.imshow(quantized_img, cmap='gray', vmin=0,vmax=255)            # display the image in grayscale between 0 and 255\n",
    "ax.axis('off')                                          \n",
    "plt.show()\n",
    "\n",
    "quantized_img = uniform_quantization(img, 10)           # uniform quantization with k = 10\n",
    "fig, ax = plt.subplots(figsize=(12,6))                  # create figure and set figure size\n",
    "ax.imshow(quantized_img, cmap='gray', vmin=0,vmax=255)            # display the image in grayscale between 0 and 255\n",
    "ax.axis('off')                                          \n",
    "plt.show()\n",
    "\n",
    "quantized_img = uniform_quantization(img, 25)           # uniform quantization with k = 25\n",
    "fig, ax = plt.subplots(figsize=(12,6))                  # create figure and set figure size\n",
    "ax.imshow(quantized_img, cmap='gray', vmin=0,vmax=255)            # display the image in grayscale between 0 and 255\n",
    "ax.axis('off')                                          \n",
    "plt.show()\n",
    "'''"
   ]
  },
  {
   "attachments": {},
   "cell_type": "markdown",
   "metadata": {},
   "source": [
    "### <span style=\"color:red\"> Exercise 2</span>\n",
    "\n",
    "Write a function that quantizes an image according to the power function shown below with $k$ levels and power $p$. This is an example of non-uniform quantization.\n",
    "\n",
    "<h3 style=\"background-color:lightblue\"> Write Answers for Exercise 2 Below </h3>"
   ]
  },
  {
   "cell_type": "code",
   "execution_count": null,
   "metadata": {},
   "outputs": [],
   "source": [
    "num_levels = 8\n",
    "power = 4.0 \n",
    "x = np.linspace(0,255,num_levels+1)\n",
    "y = np.power( np.linspace(0, 255**(1/power), num=num_levels), power) \n",
    "  \n",
    "plt.step(x, np.append(y,y[-1]), where='post')\n",
    "plt.xlabel('Grayscale Value')\n",
    "plt.ylabel('Quantized Value')\n",
    "plt.title('Non-uniform Quantization in 1D')\n",
    "plt.show()\n",
    "\n",
    "# COMPLETE YOUR FUNCTION HERE\n",
    "def power_quantization(img, k):\n",
    "    return\n"
   ]
  },
  {
   "attachments": {},
   "cell_type": "markdown",
   "metadata": {},
   "source": [
    "## <span style=\"color:orange;\"> 2. Histogram Equalization  </span>\n",
    "\n",
    "Histogram equalization is an adaptive image processing method, which means that the transformation depends on the image itself. It is commonly used in medical imaging applications, as well as in scientific imaging fields such as astronomy and microbiology. In contrast to the non-adaptive uniform quantization method we discussed in the previous exercise, histogram equalization takes into account the specific characteristics of each image. \n",
    "\n",
    "Let's consider an image $I$ of size $m \\times n$. We can determine the probability that a pixel value is at level $\\ell$ by calculating the frequency of $\\ell$ in the image. This probability, known as the probability mass function (pmf), can be expressed as:\n",
    "\n",
    "$$ p_I(\\ell) = \\frac{\\text{\\# of times $\\ell$ appears in $I$}}{m\\cdot n}\\quad \\text{ for } \\ell = 0,1,2,\\dots,255. $$\n",
    "The **cumulative distribution function** (cdf) of $I$ is \n",
    "$$ F_I(\\ell) = \\sum_{j=0}^\\ell p_I(j) \\quad \\text{ for } \\ell = 0,1,2,\\dots,255.$$"
   ]
  },
  {
   "cell_type": "code",
   "execution_count": null,
   "id": "12b7bdde",
   "metadata": {},
   "outputs": [],
   "source": []
  },
  {
   "attachments": {},
   "cell_type": "markdown",
   "metadata": {},
   "source": [
    "### <span style=\"color:red\"> Exercise 3</span>\n",
    "\n",
    "Plot the probability mass function and the cumulative distribution function of `low_contrast.jpg`.\n",
    "\n",
    "<h3 style=\"background-color:lightblue\"> Write Answers for Exercise 3 Below </h3>"
   ]
  },
  {
   "cell_type": "code",
   "execution_count": null,
   "metadata": {},
   "outputs": [],
   "source": []
  },
  {
   "attachments": {},
   "cell_type": "markdown",
   "metadata": {},
   "source": [
    "### <span style=\"color:red\"> Exercise 4</span>\n",
    "\n",
    "Plot the pmf and cdf of `low_contrast.jpg` after uniform quantization with $25$ levels. Describe how the quantization process changed these two functions. \n",
    "\n",
    "<h3 style=\"background-color:lightblue\"> Write Answers for Exercise 4 Below </h3>"
   ]
  },
  {
   "cell_type": "code",
   "execution_count": null,
   "metadata": {},
   "outputs": [],
   "source": []
  },
  {
   "attachments": {},
   "cell_type": "markdown",
   "metadata": {},
   "source": [
    "Now, we will derive the method of histogram equalization.\n",
    "\n",
    "We start with an image $I$ of size $m\\times n$, and our objective is to define a mapping that transforms the original pixel intensities to new values. Let's denote the transformed image as $I_{new}$.\n",
    "\n",
    "The goal of histogram equalization is to distribute pixel intensities evenly across the entire range of values from 0 to 255. This means that $I_{new}$ will have an equal number of pixels at each intensity level, resulting in a flat probability mass function (pmf) for $I_{new}$."
   ]
  },
  {
   "attachments": {},
   "cell_type": "markdown",
   "metadata": {},
   "source": [
    "### <span style=\"color:red\"> Exercise 5</span>\n",
    "\n",
    "If the pmf of $I_{new}$ will be flat, what will the cdf of $I_{new}$ look like? Why?\n",
    "\n",
    "<h3 style=\"background-color:lightblue\"> Write Answers for Exercise 5 Below </h3>"
   ]
  },
  {
   "attachments": {},
   "cell_type": "markdown",
   "metadata": {},
   "source": []
  },
  {
   "attachments": {},
   "cell_type": "markdown",
   "metadata": {},
   "source": [
    "Denote the cdf of $I_{new}$ by $$H(\\ell) = \\sum_{j=0}^\\ell p_{I_{new}}(j) \\quad \\text{ for } \\ell = 0,1,2,\\dots,255.$$\n",
    "\n",
    "If $I_{new}$ has the same number of pixels at each intensity, then there are $\\frac{m\\cdot n }{255}$ pixels with value $\\ell$ for $\\ell = 0,1,2,\\dots,255$."
   ]
  },
  {
   "attachments": {},
   "cell_type": "markdown",
   "metadata": {},
   "source": [
    "### <span style=\"color:red\"> Exercise 6</span>\n",
    "\n",
    "Explain why\n",
    "$$ H(\\ell) = \\frac{(\\ell + 1) \\cdot m\\cdot n}{255} \\quad \\text{ for } \\ell = 0,1,2,\\dots,255.$$\n",
    "\n",
    "<h3 style=\"background-color:lightblue\"> Write Answers for Exercise 6 Below </h3>"
   ]
  },
  {
   "attachments": {},
   "cell_type": "markdown",
   "metadata": {},
   "source": []
  },
  {
   "attachments": {},
   "cell_type": "markdown",
   "metadata": {},
   "source": [
    "Now, in image $I$, the grayscale value 0 will change to some new value between $0$ and $255$.\n",
    "Since we haven't defined the exact transformation map, let's call that new level $n_0$.\n",
    "In the same way, we will change pixel in $I$ with the grayscale value 1 to some new value $n_1$.\n",
    "Pixels with value 2 in $I$ will change to the value $n_2$ and so on until we reach $n_{255}$.\n",
    "\n",
    "In other words, in our transformed image $I_{new}$, we map the intensity levels $0,1,2,\\dots,255$ in the original image $I$ to some new levels $n_0,n_1,n_2,\\dots,n_{255}$.\n",
    "\n",
    "We want the number of pixels with intensity between $0$ and $\\ell$ in image $I$ to be the same as number of pixels with intensity between $0$ and $n_\\ell$ in image $I_{new}$.\n",
    "\n",
    "By definition, $F_I(\\ell)$ is the number pixels in $I$ with intensity between $0$ and $\\ell$.\n",
    "\n",
    "Similarly,  $H(n_\\ell)$ is the number pixels in $I_{new}$ with intensity between $0$ and $n_\\ell$.\n",
    "\n",
    "To figure what levels $n_0,n_1,n_2,\\dots,n_{255}$ are ideal to even out the grayscale intensity in the image $I$, we want to set\n",
    "$$ F_I(\\ell)  = H(n_\\ell)\\quad \\text{ for } \\ell = 0,1,2,\\dots,255.$$\n"
   ]
  },
  {
   "attachments": {},
   "cell_type": "markdown",
   "metadata": {},
   "source": [
    "### <span style=\"color:red\"> Exercise </span>\n",
    "\n",
    "In the last line, evaluate the function $H$ at $n_\\ell$ and solve for $n_\\ell$. Format your answer using $\\LaTeX$.\n",
    "\n",
    "<h3 style=\"background-color:lightblue\"> Write Answer for Exercise Below </h3>"
   ]
  },
  {
   "attachments": {},
   "cell_type": "markdown",
   "metadata": {},
   "source": []
  },
  {
   "attachments": {},
   "cell_type": "markdown",
   "metadata": {},
   "source": [
    "---\n",
    "**NOTE**\n",
    "\n",
    "This is a 2-week lab. Turn in the exercises above. Pick up from here during the next lab session.\n",
    "\n",
    "--- "
   ]
  },
  {
   "attachments": {},
   "cell_type": "markdown",
   "metadata": {},
   "source": [
    "### <span style=\"color:red\"> Exercise </span>\n",
    "\n",
    "Now that we know the values for $n_0,n_1,n_2,\\dots,n_{255}$, we are ready to implement the histogram equalization process.\n",
    "\n",
    "Implement histogram equalization on `low_contrast.jpg`. \n",
    "Plot the transformed image $I_{new}$ along with the pmf and cdf of $I_{new}$. \n",
    "\n",
    "*Hint: If the new levels $n_0,n_1,\\dots,n_{255}$ are not integers (which is likely), then use `np.floor` function to round down.*\n",
    "\n",
    "<h3 style=\"background-color:lightblue\"> Write Answer for Exercise Below </h3>"
   ]
  },
  {
   "cell_type": "code",
   "execution_count": null,
   "metadata": {},
   "outputs": [],
   "source": []
  },
  {
   "attachments": {},
   "cell_type": "markdown",
   "metadata": {},
   "source": [
    "## <span style=\"color:orange;\"> 3. Connecting the Camera </span>\n",
    "\n",
    "This time, we will be recording our own videos using the Arducam HM01B0, which is a small camera that can be hooked up to the Pico. \n",
    "\n",
    "### Wiring Instructions\n",
    "\n",
    "Please ensure that your microcontroller is not connected to the computer while you are wiring components together. If you are unsure about your wiring, please consult the instructor. Utilize your jumper wires to establish the following connections.\n",
    "\n",
    "| HM01B0 | Pico |\n",
    "|--------|------|\n",
    "| VCC    | 3V3  |\n",
    "| SCL    | GP5  |\n",
    "| SDA    | GP4  |\n",
    "| VSYNC  | GP16 |\n",
    "| HREF   | GP15 |\n",
    "| PCLK   | GP14 |\n",
    "| DO     | GP6  |\n",
    "| GND    | GND  |\n",
    "\n",
    "Here is an image of the completed breadboard:\n",
    "\n",
    "![img](./images/HM01B0_and_pico.png)\n",
    "\n",
    "<!-- ![img](camera.jpg)\n",
    "\n",
    "*Wiring the Arducam HM01B0 camera* \n",
    "\n",
    "![img](camerawiring.jpg)\n",
    "\n",
    "*Connections to the PICO on breadboard* -->\n",
    "\n",
    "To find the names of the pins on the Raspberry Pi Pico, you can refer to its pinout diagram located [here](https://datasheets.raspberrypi.com/pico/Pico-R3-A4-Pinout.pdf) or in the Extra Materials section. The HM01B0, on the other hand, should have its pins labeled.\n",
    "\n",
    "After confirming that the wiring is correct, press and hold the BOOTSEL button on the Pico while plugging it in. Download the [arducam.uf2](https://github.com/TheDataScienceLabs/DataLab_Multivariate_Calculus/blob/main/book/labs/2_Video_Labs/arducam.uf2) file and copy it onto the Pico's drive using your computer's file manager (it should be listed as an external drive: \"RPI-RP2\"). Once the file transfer is complete, the Pico will automatically disconnect, and its LED will start blinking rapidly. \n",
    "\n",
    "Once the Pico has been successfully connected, please execute the following cell to ensure that we have successfully detected the Pico."
   ]
  },
  {
   "cell_type": "code",
   "execution_count": null,
   "metadata": {},
   "outputs": [],
   "source": [
    "import time\n",
    "import serial\n",
    "from serial.tools import list_ports\n",
    "\n",
    "PICO_HWID = \"2E8A\"\n",
    "\n",
    "\n",
    "def get_pico_port():\n",
    "    pico_ports = list(list_ports.grep(PICO_HWID))\n",
    "    if len(pico_ports) == 0:\n",
    "        raise Exception(\n",
    "            \"No Raspberry Pi Pico was detected. Check to make sure it is plugged in, and that no other programs are accessing it\"\n",
    "        )\n",
    "    return pico_ports[0].device\n",
    "\n",
    "\n",
    "print(\"Here are all the serial devices detected:\")\n",
    "for port in list_ports.comports():\n",
    "    print(port.device, port.hwid)\n",
    "\n",
    "port = get_pico_port()\n",
    "print(f\"\\nselected port {port} as most likely to have a raspberry pi pico\")"
   ]
  },
  {
   "attachments": {},
   "cell_type": "markdown",
   "metadata": {},
   "source": [
    "### Capturing a still image\n",
    "\n",
    "Now that the Pico and camera have been connected, please the following cell to capture a still image."
   ]
  },
  {
   "cell_type": "code",
   "execution_count": null,
   "metadata": {},
   "outputs": [],
   "source": [
    "buffer = bytearray(96 * 96)\n",
    "img = np.zeros(shape=(96, 96), dtype=\"uint8\")\n",
    "\n",
    "with serial.Serial(port, timeout=1) as s:\n",
    "    s.read_until(b\"\\x55\\xAA\")\n",
    "    s.readinto(buffer)\n",
    "    img.flat[::-1] = buffer\n",
    "\n",
    "plt.imshow(img, cmap=\"gray\")\n",
    "plt.show()"
   ]
  },
  {
   "attachments": {},
   "cell_type": "markdown",
   "metadata": {},
   "source": [
    "### <span style=\"color:red\"> Exercise </span>\n",
    "\n",
    "Repeat the previous exercise on your own captured image using the Arducam HM01B0 connected to a Pico.\n",
    "\n",
    "<h3 style=\"background-color:lightblue\"> Write Answer for Exercise Below </h3>"
   ]
  },
  {
   "cell_type": "code",
   "execution_count": null,
   "metadata": {},
   "outputs": [],
   "source": []
  },
  {
   "attachments": {},
   "cell_type": "markdown",
   "metadata": {},
   "source": [
    "### <span style=\"color:red\"> Exercise </span>\n",
    "\n",
    "Can you think of any images that would not \"improve\" very much after applying histogram equalization?\n",
    "\n",
    "<h3 style=\"background-color:lightblue\"> Write Answer for Exercise Below </h3>"
   ]
  },
  {
   "attachments": {},
   "cell_type": "markdown",
   "metadata": {},
   "source": []
  },
  {
   "attachments": {},
   "cell_type": "markdown",
   "metadata": {},
   "source": [
    "### <span style=\"color:red\"> Exercise </span>\n",
    "\n",
    "What happens if we first quantize the image (either uniformly or non-uniformly) with $k$ levels and then apply the histogram equalization process?\n",
    "\n",
    "What about the reverse - doing histogram equaization and then uniform or non-uniform quantization?\n",
    "\n",
    "How will increasing or decreasing the number of quantization levels $k$ change the new pmf and cdf? Write your hypothesis in a paragraph or two.\n",
    "\n",
    "<h3 style=\"background-color:lightblue\"> Write Answer for Exercise Below </h3>"
   ]
  },
  {
   "attachments": {},
   "cell_type": "markdown",
   "id": "7ea7df0f",
   "metadata": {},
   "source": []
  },
  {
   "attachments": {},
   "cell_type": "markdown",
   "metadata": {},
   "source": [
    "## <span style=\"color:green;\"> Reflection </span>\n",
    "\n",
    "__1. Do you prefer uniform or non-uniform quantization, and why? <br>\n",
    "2. What are some things you learned today? <br>\n",
    "3. Are there any topics that could use more clarification? <br>\n",
    "4. Do you have any suggestions on parts of the lab to improve?__\n",
    "\n",
    "<h3 style=\"background-color:lightblue\"> Write Answers for the Reflection Below </h3>"
   ]
  },
  {
   "attachments": {},
   "cell_type": "markdown",
   "id": "1778f6be",
   "metadata": {},
   "source": []
  },
  {
   "attachments": {},
   "cell_type": "markdown",
   "metadata": {},
   "source": []
  }
 ],
 "metadata": {
  "interpreter": {
   "hash": "5733b5ebf5ecec2b002a59c36710d44decb4334b28aff8074b4cca610e6649ad"
  },
  "kernelspec": {
   "display_name": "Python 3",
   "language": "python",
   "name": "python3"
  },
  "language_info": {
   "codemirror_mode": {
    "name": "ipython",
    "version": 3
   },
   "file_extension": ".py",
   "mimetype": "text/x-python",
   "name": "python",
   "nbconvert_exporter": "python",
   "pygments_lexer": "ipython3",
   "version": "3.8.3"
  }
 },
 "nbformat": 4,
 "nbformat_minor": 5
}
