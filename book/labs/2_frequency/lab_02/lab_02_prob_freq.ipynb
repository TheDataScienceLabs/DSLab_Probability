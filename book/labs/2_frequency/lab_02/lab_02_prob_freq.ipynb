{
 "cells": [
  {
   "attachments": {},
   "cell_type": "markdown",
   "metadata": {},
   "source": [
    "# Week 3-4: Probability as a Frequency\n",
    "\n",
    "<font size=\"6\"> Laboratory 2 </font> <br>\n",
    "<font size=\"3\"> Last updated April 24, 2023 </font>\n"
   ]
  },
  {
   "attachments": {},
   "cell_type": "markdown",
   "metadata": {},
   "source": [
    "## <span style=\"color:orange;\"> 00. Content </span>\n"
   ]
  },
  {
   "attachments": {},
   "cell_type": "markdown",
   "metadata": {},
   "source": [
    "<font size=\"5\"> Mathematics </font>\n",
    "\n",
    "- Sample spaces and events\n",
    "- Conditional probability\n",
    "- Binary numbers\n",
    "\n",
    "<font size=\"5\"> Programming Skills </font>\n",
    "\n",
    "- Functions\n",
    "- Data visualization\n",
    "\n",
    "<font size=\"5\"> Embedded Systems </font>\n",
    "\n",
    "- Thonny and MicroPython\n"
   ]
  },
  {
   "attachments": {},
   "cell_type": "markdown",
   "metadata": {},
   "source": [
    "## <span style=\"color:orange;\"> 0. Required Hardware </span>\n",
    "\n",
    "- Raspberry Pi Pico\n",
    "- Breadboard\n",
    "- USB connector\n",
    "- Camera (Arducam HM01B0)\n",
    "- 8 Wires\n"
   ]
  },
  {
   "attachments": {},
   "cell_type": "markdown",
   "metadata": {},
   "source": [
    "<h3 style=\"background-color:lightblue\"> Write your name and email below: </h3>\n",
    "\n",
    "**Name:**\n",
    "\n",
    "**Email:** \n"
   ]
  },
  {
   "cell_type": "code",
   "execution_count": 1,
   "metadata": {},
   "outputs": [],
   "source": [
    "import numpy as np\n",
    "import matplotlib.pyplot as plt"
   ]
  },
  {
   "attachments": {},
   "cell_type": "markdown",
   "metadata": {},
   "source": [
    "## Week 3\n",
    "\n",
    "This week's portion of the lab can be done individually, but you may also collaborate with your peers.\n",
    "\n",
    "## <span style=\"color:orange;\">1. Probability as a Frequency </span>\n",
    "\n",
    "The **sample space** of an experiment is the set of all possible outcomes, and an **event** is any subset of the sample space. An event occurs if the outcome of an experiment is contained within the subset defining the event. When probability is viewed as a frequency, the probability of an event is the relative frequency at which the event occurs over many repetitions of the experiment.\n",
    "\n",
    "The Raspberry Pi Pico has its own internal temperature sensor that returns an integer between 0 and 65535. In this example, our experiment involves measuring the internal temperature of the Pico, and the sample space is represented by the set $\\{0,1,2,\\dots, 65535\\}$. We can easily calculate the temperature in Celsius from the sensor reading $r$ using the formula: $$ T_C = 27 - \\frac{\\frac{3.3r}{65535} - 0.706}{0.001721}.$$\n"
   ]
  },
  {
   "attachments": {},
   "cell_type": "markdown",
   "metadata": {},
   "source": [
    "### <span style=\"color:red\"> Exercise 1 </span>\n",
    "\n",
    "Let $E$ be the event that the Pico's internal temperature is between 70-72 degrees Fahrenheit. Which subset of outcomes from the sample space $\\{0,1,2,\\dots, 65535\\}$ define event $E$?\n",
    "\n",
    "<h3 style=\"background-color:lightblue\"> Write Answers for Exercise 1 Below </h3>\n"
   ]
  },
  {
   "cell_type": "code",
   "execution_count": null,
   "metadata": {},
   "outputs": [],
   "source": []
  },
  {
   "attachments": {},
   "cell_type": "markdown",
   "id": "6339c1d2",
   "metadata": {},
   "source": [
    "The Raspberry Pi Pico is equipped with 2MB of onboard memory or flash storage, enabling us to store small files of sensor data directly on the Pico. To begin, please download the `pico_temperature.py` script from [GitHub](https://github.com/TheDataScienceLabs/DSLab_Probability/blob/main/book/labs/pico_temperature.py) into your Downloads folder. The purpose of this script is to capture a total of 12 temperature readings, with measurements taken at intervals of 0.25 seconds, and save them to a file named `temp.txt` on the Pico.\n",
    "\n",
    "To perform the task, place the Pico on the breadboard and connect it to your computer using the USB cable. This is how you place the Pico:\n",
    "\n",
    "<img src=\"https://raw.githubusercontent.com/TheDataScienceLabs/DSLab_Probability/main/book/labs/2_frequency/lab_02/additional_files/temp_breadboard.jpg\" \n",
    "     width=\"400\" \n",
    "     height=\"500\" />\n",
    "\n",
    "Open Thonny and follow the directions [here](https://projects.raspberrypi.org/en/projects/getting-started-with-the-pico/3) to install the Micropython firmware on the Pico. The following page at that link has directions for testing to make sure it's working. Once the firmware is installed, you may need to press the `STOP/RESTART` button multiple times until the Micropython shell appears on the bottom tab of Thonny. Once you see the Micropython shell, the Pico is connected to Thonny.\n",
    "\n",
    "After completing the firmware installation, open Thonny and go to the top bar. Under *\"View\"*, select \"*File\"* to bring up a side bar that allows you to transfer files onto your Pico. In the side bar, navigate to your *\"Downloads\"* folder. If you're unsure, you can find it at `This Computer/home/shay/a/\"your username\"/Downloads`. Right-click the `pico_temperature.py` file and choose *\"Upload to /\"* to copy the file onto your Pico.\n",
    "\n",
    " In Thonny, execute the `pico_temperature.py` script on the Pico by pressing the `RUN` button, it should look like a green play button. Once the script finishes running, transfer the `temp.txt` file stored on the Pico to the folder you are currently working in, and then delete `temp.txt` from the Pico's storage. Feel free to modify the `pico_temperature.py` script as necessary to adjust the number of measurements or the measurement interval."
   ]
  },
  {
   "attachments": {},
   "cell_type": "markdown",
   "metadata": {},
   "source": [
    "### <span style=\"color:red\"> Exercise 2 </span>\n",
    "\n",
    "**Part 1:** Collect 1,000 temperature measurements from the Pico, ensuring a minimum time interval of 0.25 seconds between each measurement. Display a bar plot to visualize the values stored in the `temp.txt` file. Include clear and descriptive axis labels, as well as an informative title.\n",
    "\n",
    "**Part 2:** What value occurs the most frequently in `temp.txt`? What is the relative frequency of that value?\n",
    "\n",
    "<h3 style=\"background-color:lightblue\"> Write Answers for Exercise 2 Below </h3>\n"
   ]
  },
  {
   "cell_type": "code",
   "execution_count": null,
   "metadata": {},
   "outputs": [],
   "source": [
    "data = np.loadtxt(\"temp.txt\", dtype=int)  # make sure temp.txt is in the same directory as this notebook file\n",
    "                                          # dtype stands for data type, every line in the txt file will be read as an integer"
   ]
  },
  {
   "attachments": {},
   "cell_type": "markdown",
   "metadata": {},
   "source": [
    "---\n",
    "**NOTE**\n",
    "1. Press the STOP/RESTART button on Thonny to view the new `temp.txt` file.\n",
    "2. If you plan on running the program multiple times or overwriting the existing `temp.txt` file, make sure to keep the file closed.\n",
    "---\n"
   ]
  },
  {
   "attachments": {},
   "cell_type": "markdown",
   "metadata": {},
   "source": [
    "### <span style=\"color:red\"> Exercise 3</span>\n",
    "\n",
    "Find the mode $m$ (i.e., the value that occurs the most) among the first 11 temperature measurements.\n",
    "Define event $E$ as the occurrence of a temperature measurement that is equal to $m$. The complement of event $E$ is denoted as $E'$, representing the cases where the measurement differs from $m$.\n",
    "\n",
    "After obtaining the first 11 readings, calculate the frequency at which event $E$ occurs. Similarly, determine the frequency of event $E'$ in the given set of measurements. \n",
    "\n",
    "<h3 style=\"background-color:lightblue\"> Write Answers for Exercise 3 Below </h3>\n"
   ]
  },
  {
   "cell_type": "code",
   "execution_count": null,
   "metadata": {},
   "outputs": [],
   "source": []
  },
  {
   "attachments": {},
   "cell_type": "markdown",
   "metadata": {},
   "source": [
    "### <span style=\"color:red\"> Exercise 4</span>\n",
    "\n",
    "Let's focus solely on the first digit from the left of each temperature measurement. Plot a bar graph that displays the frequency at which each digit from 0 to 9 appears.\n",
    "\n",
    "<h3 style=\"background-color:lightblue\"> Write Answers for Exercise 4 Below </h3>\n"
   ]
  },
  {
   "cell_type": "code",
   "execution_count": null,
   "metadata": {},
   "outputs": [],
   "source": []
  },
  {
   "attachments": {},
   "cell_type": "markdown",
   "metadata": {},
   "source": [
    "### <span style=\"color:red\"> Exercise 5</span>\n",
    "\n",
    "Repeat the previous exercise, but this time, consider the second digit instead of the first. Additionally, repeat the exercise separately for the third, fourth, and fifth digits. This means you will create a total of four bar charts, each showing the frequency of digits 0 to 9 in their respective digit places.\n",
    "\n",
    "\n",
    "Which digit place exhibits the highest variability in your set of measurements?\n",
    "\n",
    "<h3 style=\"background-color:lightblue\"> Write Answers for Exercise 5 Below </h3>\n"
   ]
  },
  {
   "cell_type": "code",
   "execution_count": null,
   "metadata": {},
   "outputs": [],
   "source": []
  },
  {
   "attachments": {},
   "cell_type": "markdown",
   "metadata": {},
   "source": [
    "## <span style=\"color:orange;\">2. Conditional Probability </span>\n",
    "\n",
    "In the context of two events, denoted as $E$ and $F$, the probability of event $E$ occurring given that event $F$ has occurred is referred to as a  **conditional probability**. When we view probability as a frequency, this implies that the probability of event $E$ given event $F$ is calculated as the relative frequency of event $E$ occurring within the sample space defined by event $F$. Mathematically, this can be expressed as: $$ P(E\\mid F) = \\frac{P(E \\cap F)}{P(F)}. $$\n"
   ]
  },
  {
   "attachments": {},
   "cell_type": "markdown",
   "metadata": {},
   "source": [
    "### Binary Numbers\n",
    "\n",
    "For reasons that will be clear in the next section, let's take a detour into binary numbers.\n",
    "\n",
    "We are accustomed to the base-10 number system, where numbers such as $9234$ can be broken down as follows:\n",
    "\\begin{align*}\n",
    "9234 &= (9\\times 1000) +( 2\\times 100) + (3\\times 10) + (4\\times 1) \\\\\n",
    "&= (9\\times 10^3) + (2\\times 10^2) + (3\\times 10^1) + (4\\times 10^0)\n",
    "\\end{align*}\n",
    "\n",
    "Similarly, in the base-2 system (or binary), the binary number 1101 in base-10 is represented as:\n",
    "\\begin{align*}\n",
    "1101 &= (1\\times 2^3) + (1\\times 2^2) + (0\\times 2^1) + (1\\times 2^0) \\\\\n",
    "&= (1\\times 8) + (1\\times 4) + (0\\times 2) + (1\\times 1) \\\\\n",
    "&= 13\n",
    "\\end{align*}\n",
    "\n",
    "In python, the prefix `0b` indicates to the computer that the sequence should be interpreted as a base-2 number. To perform the reverse conversion, you can use the `bin` function, as demonstrated below.\n"
   ]
  },
  {
   "cell_type": "code",
   "execution_count": null,
   "metadata": {},
   "outputs": [],
   "source": [
    "x = 0b1101\n",
    "print(x)\n",
    "\n",
    "y = 13\n",
    "print(bin(13))\n",
    "\n",
    "# you can use underscores to make numbers more readable without affecting the value\n",
    "z = 0b_100_001_111_111_001_100_111_001_110_001_0101\n",
    "w = 9_123_456_789\n",
    "print(z == w)"
   ]
  },
  {
   "attachments": {},
   "cell_type": "markdown",
   "metadata": {},
   "source": [
    "### <span style=\"color:red\"> Exercise 6</span>\n",
    "\n",
    "What are the following binary numbers in base-10?\n",
    "\n",
    "- 110\n",
    "- 010\n",
    "- 101011\n",
    "- 110000\n",
    "\n",
    "<h3 style=\"background-color:lightblue\"> Write Answers for Exercise 6 Below </h3>\n"
   ]
  },
  {
   "attachments": {},
   "cell_type": "markdown",
   "metadata": {},
   "source": []
  },
  {
   "attachments": {},
   "cell_type": "markdown",
   "metadata": {},
   "source": [
    "### <span style=\"color:red\"> Exercise 7 </span>\n",
    "\n",
    "**Part 1:** What range of integers can be represented using 16 bits?\n",
    "\n",
    "**Part 2:** What is the minimum length of a random binary sequence required to obtain a random number between 0 and 100?\n",
    "\n",
    "<h3 style=\"background-color:lightblue\"> Write Answers for Exercise 7 Below </h3>\n"
   ]
  },
  {
   "attachments": {},
   "cell_type": "markdown",
   "metadata": {},
   "source": []
  },
  {
   "attachments": {},
   "cell_type": "markdown",
   "metadata": {},
   "source": [
    "---\n",
    "**NOTE**\n",
    "\n",
    "This is a 2-week lab. Turn in the exercises above. Pick up from here during the next lab session.\n",
    "\n",
    "---\n",
    "## Week 4\n",
    "\n",
    "**This week's portion of the lab must be completed in groups of 2-3; however, everyone must submit their lab individually.**"
   ]
  },
  {
   "attachments": {},
   "cell_type": "markdown",
   "metadata": {},
   "source": [
    "Identifying textures in images is an important task in many fields, such as medical imaging, remote sensing, and facial detection.\n",
    "A simple yet powerful method called local binary patterns (LBP) is commonly used to classify textures when employed in conjunction with certain machine learning algorithms.\n",
    "\n",
    "We will be working with the grayscale images in this [folder](https://github.com/TheDataScienceLabs/DSLab_Probability/tree/main/book/labs/textures). Please download the folder of images from GitHub.\n",
    "\n",
    "For an $m \\times n$ grayscale image, there are $m$ rows of pixels and $n$ columns of pixels. Each pixel describes the intensity of the image with an integer ranging from 0 and 255 (0 representing black and 255 representing white).\n",
    "\n",
    "Please refer to the cell below for instructions on how to read and display grayscale images in Python.\n"
   ]
  },
  {
   "cell_type": "code",
   "execution_count": null,
   "metadata": {},
   "outputs": [],
   "source": [
    "from PIL import Image  # needed for reading images\n",
    "\n",
    "img = np.array(\n",
    "    Image.open(\"textures/texture_1.jpg\")\n",
    ")  # read in the image and store it as a numpy array\n",
    "print(f\"image size is {img.shape}\")\n",
    "fig, ax = plt.subplots(figsize=(12, 6))  # create figure and set figure size\n",
    "ax.imshow(\n",
    "    img, cmap=\"gray\", vmin=0, vmax=255\n",
    ")  # display the image in grayscale between 0 and 255\n",
    "# ax.axis('off')                                        # uncomment this line to hide the axes\n",
    "plt.show()"
   ]
  },
  {
   "attachments": {},
   "cell_type": "markdown",
   "metadata": {},
   "source": [
    "### <span style=\"color:red\"> Exercise 8</span>\n",
    "\n",
    "Perform the following steps of LBP for each image in the textures [folder](https://github.com/TheDataScienceLabs/DSLab_Probability/tree/main/book/labs/textures):\n",
    "\n",
    "**1.** For each pixel, examine the values of its 8 neighboring pixels.\n",
    "\n",
    "> Ex:\n",
    "> | | | |\n",
    "> | --- | --- | ---|\n",
    "> | 10 | 15 | 12 |\n",
    "> | 19 | 12 | 11 |\n",
    "> | 20 | 16 | 12 |\n",
    "\n",
    "**2.** Starting from the pixel directly above the center pixel, proceed clockwise around the center to generate an 8-bit binary sequence. Assign '0' if the neighbor's value is greater than the center pixel's value, and '1' otherwise.\n",
    "\n",
    "> Using the given example, we begin at the center value of 12 and then move to the top neighbor, which is 15. Therefore, the binary sequence starts with `'0'`. \n",
    "> Continuing clockwise, we arrive at the top-right neighbor of 12. Hence, the binary sequence becomes `'01'`. If we continue this process, the final binary number will be `'01110001'`.\n",
    "\n",
    "**3.** Convert the 8-bit binary sequence to a base-10 integer.\n",
    "\n",
    "> In our example, the resulting LBP value is 113.\n",
    "\n",
    "**4.** Create a plot illustrating the frequency of each LBP value, ranging from 0 to 255. \n",
    "\n",
    "<h3 style=\"background-color:lightblue\"> Write Answer for Exercise 8 Below </h3>\n"
   ]
  },
  {
   "cell_type": "code",
   "execution_count": null,
   "metadata": {},
   "outputs": [],
   "source": []
  },
  {
   "attachments": {},
   "cell_type": "markdown",
   "metadata": {},
   "source": [
    "### <span style=\"color:red\"> Exercise 9</span>\n",
    "\n",
    "The maximum possible LBP value is 255, and it occurs frequently.\n",
    "If we only consider pixels that result in an LBP value of 255, which grayscales values (i.e., the value of the center pixel) are the most common?\n",
    "\n",
    "Please use a bar plot to summarize your answer. Remember to label the axes and title the plot.\n",
    "\n",
    "<h3 style=\"background-color:lightblue\"> Write Answers for Exercise 9 Below </h3>\n"
   ]
  },
  {
   "cell_type": "code",
   "execution_count": null,
   "metadata": {},
   "outputs": [],
   "source": []
  },
  {
   "attachments": {},
   "cell_type": "markdown",
   "metadata": {},
   "source": [
    "## <span style=\"color:orange;\"> 3. Connecting the Camera </span>\n",
    "\n",
    "This time, we will record our own videos using the Arducam HM01B0, which is a small camera that can be connected to the Pico. \n",
    "\n",
    "### Wiring Instructions\n",
    "\n",
    "Please ensure that your microcontroller is not connected to the computer while you are wiring components together. If you are unsure about your wiring, please consult the instructor. Use your jumper wires to establish the following connections:\n",
    "\n",
    "| HM01B0 | Pico |\n",
    "|--------|------|\n",
    "| VCC    | 3V3  |\n",
    "| SCL    | GP5  |\n",
    "| SDA    | GP4  |\n",
    "| VSYNC  | GP16 |\n",
    "| HREF   | GP15 |\n",
    "| PCLK   | GP14 |\n",
    "| DO     | GP6  |\n",
    "| GND    | GND  |\n",
    "\n",
    "Here is an image of the completed breadboard:\n",
    "\n",
    "![img](https://raw.githubusercontent.com/TheDataScienceLabs/DSLab_Probability/main/book/labs/shared_files/connecting_the_camera/HM01B0_and_pico.png)\n",
    "\n",
    "<!-- ![img](camera.jpg)\n",
    "\n",
    "*Wiring the Arducam HM01B0 camera* \n",
    "\n",
    "![img](camerawiring.jpg)\n",
    "\n",
    "*Connections to the PICO on breadboard* -->\n"
   ]
  },
  {
   "attachments": {},
   "cell_type": "markdown",
   "metadata": {},
   "source": [
    "To find the names of the pins on the Raspberry Pi Pico, you can refer to its pinout diagram located [here](https://datasheets.raspberrypi.com/pico/Pico-R3-A4-Pinout.pdf) or in the Extra Materials section. The HM01B0, on the other hand, should have its pins labeled."
   ]
  },
  {
   "attachments": {},
   "cell_type": "markdown",
   "metadata": {},
   "source": [
    "After confirming that the wiring is correct, press and hold the BOOTSEL button on the Pico while plugging it in. Download the [arducam.uf2](https://github.com/TheDataScienceLabs/DSLab_Probability/blob/main/book/labs/shared_files/connecting_the_camera/arducam.uf2) file and copy it onto the Pico's drive using your computer's file manager (it should be listed as an external drive: \"RPI-RP2\") and not with Thonny. Once the file transfer is complete, the Pico will automatically disconnect, and its LED will start blinking rapidly. \n",
    "\n",
    "Once the Pico has been successfully connected, please execute the following cell to ensure that we have successfully detected the Pico."
   ]
  },
  {
   "cell_type": "code",
   "execution_count": null,
   "metadata": {},
   "outputs": [],
   "source": [
    "import time\n",
    "import serial\n",
    "from serial.tools import list_ports\n",
    "\n",
    "PICO_HWID = \"2E8A\"\n",
    "\n",
    "\n",
    "def get_pico_port():\n",
    "    pico_ports = list(list_ports.grep(PICO_HWID))\n",
    "    if len(pico_ports) == 0:\n",
    "        raise Exception(\n",
    "            \"No Raspberry Pi Pico was detected. Check to make sure it is plugged in, and that no other programs are accessing it\"\n",
    "        )\n",
    "    return pico_ports[0].device\n",
    "\n",
    "\n",
    "print(\"Here are all the serial devices detected:\")\n",
    "for port in list_ports.comports():\n",
    "    print(port.device, port.hwid)\n",
    "\n",
    "port = get_pico_port()\n",
    "print(f\"\\nselected port {port} as most likely to have a raspberry pi pico\")"
   ]
  },
  {
   "attachments": {},
   "cell_type": "markdown",
   "metadata": {},
   "source": [
    "### Capturing a still image\n",
    "\n",
    "Now that the Pico and camera have been connected, execute the following cell to capture a still image."
   ]
  },
  {
   "cell_type": "code",
   "execution_count": null,
   "metadata": {},
   "outputs": [],
   "source": [
    "buffer = bytearray(96 * 96)\n",
    "img = np.zeros(shape=(96, 96), dtype=\"uint8\")\n",
    "\n",
    "with serial.Serial(port, timeout=1) as s:\n",
    "    s.read_until(b\"\\x55\\xAA\")\n",
    "    s.readinto(buffer)\n",
    "    img.flat[::-1] = buffer\n",
    "\n",
    "plt.imshow(img, cmap=\"gray\")\n",
    "plt.show()"
   ]
  },
  {
   "attachments": {},
   "cell_type": "markdown",
   "metadata": {},
   "source": [
    "### <span style=\"color:red\"> Exercise 10</span>\n",
    "\n",
    "Connect the camera to the Pico and capture at least 3 images of different surfaces, such as the desk, floor, your phone case, your hand, etc.\n",
    "\n",
    "Apply LBP to the captured images. Do you observe significant variations in the frequency of LBP values across different images?\n",
    "\n",
    "Can you propose a mathematical rule to differentiate between two distinct textures based on LBP?\n",
    "\n",
    "<h3 style=\"background-color:lightblue\"> Write Answers for Exercise 10 Below </h3>\n"
   ]
  },
  {
   "cell_type": "code",
   "execution_count": null,
   "metadata": {},
   "outputs": [],
   "source": []
  },
  {
   "attachments": {},
   "cell_type": "markdown",
   "metadata": {},
   "source": [
    "## <span style=\"color:green;\"> Reflection </span>\n",
    "\n",
    "1. How did working with others help you complete this lab?\n",
    "2. Which part of the lab did you find the most challenging?\n",
    "3. Which part of the lab was the easiest?\n",
    "\n",
    "<h3 style=\"background-color:lightblue\"> Write Answers for the Reflection Below </h3>\n"
   ]
  },
  {
   "attachments": {},
   "cell_type": "markdown",
   "metadata": {},
   "source": []
  }
 ],
 "metadata": {
  "interpreter": {
   "hash": "5733b5ebf5ecec2b002a59c36710d44decb4334b28aff8074b4cca610e6649ad"
  },
  "kernelspec": {
   "display_name": "Python 3",
   "language": "python",
   "name": "python3"
  },
  "language_info": {
   "codemirror_mode": {
    "name": "ipython",
    "version": 3
   },
   "file_extension": ".py",
   "mimetype": "text/x-python",
   "name": "python",
   "nbconvert_exporter": "python",
   "pygments_lexer": "ipython3",
   "version": "3.8.3"
  }
 },
 "nbformat": 4,
 "nbformat_minor": 5
}
