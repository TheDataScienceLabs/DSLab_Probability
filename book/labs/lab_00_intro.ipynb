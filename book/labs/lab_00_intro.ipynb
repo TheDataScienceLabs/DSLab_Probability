{
 "cells": [
  {
   "cell_type": "markdown",
   "metadata": {},
   "source": [
    "# Week 1: Introduction\n",
    "\n",
    "<font size=\"6\"> Laboratory 0 </font> <br>\n",
    "<font size=\"3\"> Last updated April 13, 2023 </font>"
   ]
  },
  {
   "cell_type": "markdown",
   "metadata": {},
   "source": [
    "## <span style=\"color:orange;\"> 00. Content </span>"
   ]
  },
  {
   "cell_type": "markdown",
   "metadata": {},
   "source": [
    "<font size=\"5\"> Mathematics </font>\n",
    "- N/A\n",
    "     \n",
    "<font size=\"5\"> Programming Skills </font>\n",
    "- Importing libraries\n",
    "- Latex\n",
    "    \n",
    "<font size=\"5\"> Embedded Systems </font>\n",
    "- N/A"
   ]
  },
  {
   "cell_type": "markdown",
   "metadata": {},
   "source": [
    "## <span style=\"color:orange;\"> 0. Required Hardware </span>\n",
    "\n",
    "- Breadboard\n",
    "- Wires\n",
    "- LED\n",
    "- 9V battery\n",
    "- Voltage Regulator IC (LM 7805)\n",
    "- 220 ohm resistor"
   ]
  },
  {
   "cell_type": "markdown",
   "metadata": {},
   "source": [
    "## <span style=\"color:orange;\"> 1. Before Starting </span>\n",
    "\n",
    "Before starting this course, please navigate to Brightspace and read through the syllabus.\n",
    "\n",
    "Once you have completed that, we will proceed to set up a folder for organizational purposes. This folder will be used to store all files throughout the course. To create the folder, go to the Home directory and right-click to add a new folder. Choose a name that is easy to locate, such as \"DSLab_Probability.\" If you want the folder to appear at the top of the list and be even more accessible, you can add a tilde (~) at the beginning of the chosen name.\n",
    "\n",
    "From now on, save all files, including those downloaded through links during labs, to this folder. This practice will make it much easier to find everything, especially when submitting labs at the end of each class. When you click on a file link, it will redirect you to the corresponding GitHub page. To download and save the file to your folder, click on the \"Raw\" button located at the top right of the file preview (unless it's a PDF, in which case, simply click \"Download\"). This will lead you to a white page displaying the information in black text. To view the file in the appropriate environment, right-click the screen and select \"Save as...\". Once you open it, the file should appear correctly.\n",
    "\n",
    "\n",
    "## Laboratory ethics\n",
    "“I pledge to behave ethically and with honesty in this course. I may discuss approaches for a solution with others, but my submitted lab report will be my own work, including all code. I will not make my finished reports available to other students, even after the semester is over. In particular, I will not post my labs on the Internet or make my files available to other people. I will not be a cheater.”\n"
   ]
  },
  {
   "cell_type": "markdown",
   "metadata": {},
   "source": [
    "## <span style=\"color:orange;\"> 2. Introduction to IPython Notebook </span>"
   ]
  },
  {
   "cell_type": "markdown",
   "metadata": {},
   "source": [
    "Hover your mouse over the blue banner and double-click to edit the contents of this cell.\n",
    "\n",
    "<h3 style=\"background-color:lightblue\"> Write your name and email below: </h3>\n",
    "\n",
    "**Name:** me \n",
    "\n",
    "**Email:** me @purdue.edu"
   ]
  },
  {
   "cell_type": "markdown",
   "metadata": {},
   "source": [
    "## Two types of cells\n",
    "\n",
    "The application you are currently using is an IPython Notebook. An IPython Notebook consists of two types of cells: **Markdown** cells and **Code** cells. Markdown cells are utilized to present text in a nicely-formatted manner for readers. On the other hand, code cells display code in a well-formatted structure, intended for both humans and computers to comprehend. The text you are currently reading belongs to a markdown cell. The code cell below, displayed in gray, is an example of a code cell. By executing the code cell, each line of code is sequentially executed, and the output of the last line is displayed beneath the cell. To execute cells, you can press the \"shift\" key while simultaneously pressing the \"enter\" key (`Shift+Enter`)."
   ]
  },
  {
   "cell_type": "code",
   "execution_count": null,
   "metadata": {},
   "outputs": [],
   "source": [
    "# this is a code cell\n",
    "print('hi!')"
   ]
  },
  {
   "cell_type": "markdown",
   "metadata": {},
   "source": [
    "## Markdown\n",
    "\n",
    "Throughout the semester, you will write your answers to exercises directly in this interactive textbook. Some answers will be strictly Python code, while others require nicely formatted text.\n",
    "\n",
    "Double-click in this cell to see some common markdown commands.\n",
    "\n",
    "1. numbered list item 1\n",
    "2. numbered list item 2\n",
    "\n",
    "- list item\n",
    "- another list item \\\n",
    "  with a line break\n",
    "- Markdown can be used to write mathematical expressions and equations with $\\LaTeX$ like $(xy)^n = x^n y^n$"
   ]
  },
  {
   "cell_type": "markdown",
   "metadata": {},
   "source": [
    "### <span style=\"color:red\"> Exercise 1 </span>\n",
    "\n",
    "You can use the `+` button at the top of the document to insert a cell. Inside a cell, you can use the dropdown menu to the right of the plus button to switch between code and markdown.\n",
    "\n",
    "**Part 1:** Add a markdown cell and type a short message.\n",
    "\n",
    "**Part 2:** Convert the markdown cell below to a code cell and run it.\n",
    "\n",
    "<h3 style=\"background-color:lightblue\"> Write Answers for Exercise 1 Below </h3>"
   ]
  },
  {
   "cell_type": "markdown",
   "metadata": {},
   "source": [
    "1+2*5       # change me to code"
   ]
  },
  {
   "cell_type": "markdown",
   "metadata": {},
   "source": [
    "## <span style=\"color:orange;\"> 3. Skill Checks <span>\n",
    "\n",
    "If you’re unfamiliar with $\\LaTeX$, here’s a [short refresher](https://github.com/TheDataScienceLabs/DSLab_Probability/blob/main/book/extra_materials/intro_to_latex/intro_to_latex.ipynb). This link will take you to the GitHub repository where the Jupyter Notebook is hosted. To download the notebook, click on the \"Download raw file\" button on the right.\n",
    "\n",
    "### <span style=\"color:red\"> Exercise 2 </span>\n",
    "\n",
    "Write the formula for the Gaussian integral from the [Wikipedia page](https://en.wikipedia.org/wiki/Gaussian_integral) using $\\LaTeX$. \n",
    "\n",
    "*Hint: [Detexify](http://detexify.kirelabs.org/classify.html) is a nice tool to help you find the command for a symbol.*\n",
    "\n",
    "<h3 style=\"background-color:lightblue\"> Write Answers for Exercise 2 Below </h3>"
   ]
  },
  {
   "cell_type": "markdown",
   "metadata": {},
   "source": [
    "### <span style=\"color:red\"> Exercise 3 </span>\n",
    "\n",
    "Import the two libraries **NumPy** and **matplotlib.pyplot** and rename them as \"np\" and \"plt\", respectively.\n",
    "\n",
    "<h3 style=\"background-color:lightblue\"> Write Answers for Exercise 3 Below </h3>"
   ]
  },
  {
   "cell_type": "markdown",
   "metadata": {},
   "source": [
    "### <span style=\"color:red\"> Exercise 4 </span>\n",
    "\n",
    "Download this [Jupyter Notebook](https://github.com/TheDataScienceLabs/DSLab_Probability/blob/main/book/extra_materials/intro_to_breadboards/intro_to_breadboards.ipynb) and complete the exercise on wiring an LED on a breadboard."
   ]
  },
  {
   "cell_type": "markdown",
   "metadata": {},
   "source": [
    "## <span style=\"color:orange;\"> 3. Submitting the Lab <span>\n",
    "\n",
    "Once you have finished the first lab, you will need to submit it.\n",
    "\n",
    "Before you submit, ensure everything is filled out and saved (either by typing `Ctrl+S` or by clicking the floppy disk icon in the top left of this application).\n",
    "\n",
    "Now, follow these steps:\n",
    "\n",
    "1. Navigate to *\"File\"* in the top left of the screen and find *\"Save and Export Notebook As…\"*. Once the drop-down comes up, click on *\"HTML\"*.\n",
    "\n",
    "1. The html file will now be saved in the Downloads folder. Open the html file in the web browser by double-clicking on the file in Downloads.\n",
    "\n",
    "1. Once the html file has been opened in the browser, right-click anywhere on the window and choose *\"Print…\"* or use `Ctrl+P` to open the print window. For Destination, select *\"Save as PDF\"* in the drop down menu and click *\"Save\"*.\n",
    "\n",
    "1. Turn in the PDF through Gradescope.\n",
    "    \n",
    "1. Assign the listed exercise numbers to the correct pages of the PDF you are uploading and hit the \"Submit\" button.\n",
    "\n",
    "Once you’ve submitted Lab 0, you are done and are free to leave!\n",
    "\n",
    "---\n",
    "**NOTE**\n",
    " \n",
    "You are expected to submit the lab every week before the end of class (unless the lab specifies otherwise).\n",
    "\n",
    "If you find yourself running short on time to complete a lab within the given time, please communicate with your TA. However, make sure to submit your partially completed lab by the end of class as per the usual submission process.\n",
    "\n",
    "--- \n",
    "\n"
   ]
  }
 ],
 "metadata": {
  "interpreter": {
   "hash": "5733b5ebf5ecec2b002a59c36710d44decb4334b28aff8074b4cca610e6649ad"
  },
  "kernelspec": {
   "display_name": "Python 3",
   "language": "python",
   "name": "python3"
  },
  "language_info": {
   "codemirror_mode": {
    "name": "ipython",
    "version": 3
   },
   "file_extension": ".py",
   "mimetype": "text/x-python",
   "name": "python",
   "nbconvert_exporter": "python",
   "pygments_lexer": "ipython3",
   "version": "3.8.3"
  }
 },
 "nbformat": 4,
 "nbformat_minor": 5
}
