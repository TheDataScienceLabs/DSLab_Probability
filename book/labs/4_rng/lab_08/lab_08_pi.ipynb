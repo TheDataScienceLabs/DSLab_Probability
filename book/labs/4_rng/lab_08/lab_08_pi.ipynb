{
 "cells": [
  {
   "attachments": {},
   "cell_type": "markdown",
   "id": "a86c853b-b82f-4883-bf03-15a2c05b87db",
   "metadata": {},
   "source": [
    "# Week 11-12: Estimating Pi with a RNG\n",
    "\n",
    "<font size=\"6\"> Laboratory 8 </font> <br>\n",
    "<font size=\"3\"> Last updated April 24, 2023 </font>"
   ]
  },
  {
   "attachments": {},
   "cell_type": "markdown",
   "id": "e90879f5-f730-44da-ad7a-be77ee8b2eaa",
   "metadata": {},
   "source": [
    "## <span style=\"color:orange;\"> 00. Content </span>"
   ]
  },
  {
   "attachments": {},
   "cell_type": "markdown",
   "id": "ba827722-0c2f-493b-a2d2-d7f0bda08882",
   "metadata": {},
   "source": [
    "<font size=\"5\"> Mathematics </font>\n",
    "- Probability Density Function\n",
    "- Expectation and Variance\n",
    "- Integrals in One Dimension\n",
    "\n",
    "     \n",
    "<font size=\"5\"> Programming Skills </font>\n",
    "- arrays\n",
    "    \n",
    "<font size=\"5\"> Embedded Systems </font>\n",
    "- MicroPython and Thonny"
   ]
  },
  {
   "attachments": {},
   "cell_type": "markdown",
   "id": "40ef17dd-1c68-43ed-9406-c2b55840c4b5",
   "metadata": {},
   "source": [
    "## <span style=\"color:orange;\"> 0. Required Hardware </span>"
   ]
  },
  {
   "attachments": {},
   "cell_type": "markdown",
   "id": "ec4e4a28-936f-4676-8286-c69f06d2ac08",
   "metadata": {},
   "source": [
    "- relevant equipment to build an RNG from the previous lab"
   ]
  },
  {
   "attachments": {},
   "cell_type": "markdown",
   "id": "60f85e09-35cc-47d9-b1d8-6e88b0fb6416",
   "metadata": {},
   "source": [
    "<h3 style=\"background-color:lightblue\"> Write your name and email below: </h3>\n",
    "\n",
    "**Name:** \n",
    "\n",
    "**Email:** "
   ]
  },
  {
   "attachments": {},
   "cell_type": "markdown",
   "id": "721a6c92",
   "metadata": {},
   "source": []
  },
  {
   "attachments": {},
   "cell_type": "markdown",
   "id": "0eeb0685",
   "metadata": {},
   "source": [
    "## <span style=\"color:orange;\"> A Monte Carlo Experiment </span>\n",
    "\n",
    "Recall that a uniform random variable $U$ on the interval $(0,1)$ has a probability density function defined as follows:\n",
    "$$ f_U(u) = \\begin{cases}\n",
    "    1 &, 0<u<1 \\\\\n",
    "    0 &, \\text{ otherwise}\n",
    "\\end{cases}. $$\n",
    "So the probability $U$ takes a value in a subinterval $(s,t)$ of $(0,1)$ is exactly the length $t-s$ of the subinterval.\n",
    "\n",
    "More genrerally, a uniform random variable $V$ on the interval $(a,b)$ has probability density function \n",
    "$$ f_V(v) = \\begin{cases}\n",
    "    \\frac{1}{b-a} &, a<v<b \\\\\n",
    "    0 &, \\text{ otherwise}\n",
    "\\end{cases}. $$"
   ]
  },
  {
   "attachments": {},
   "cell_type": "markdown",
   "id": "8072d94b",
   "metadata": {},
   "source": [
    "### <span style=\"color:red\"> Exercise 1</span>\n",
    "\n",
    "If $U_1$ and $U_2$ are uniform random variables on the interval $(0,1)$, then the ordered pair $(U_1,U_2)$ follows a uniform distribution within the square of side length 1 centered at $\\left(\\frac12,\\frac12\\right)$.\n",
    "\n",
    "Let's define two variables:\n",
    "\\begin{align*}\n",
    "X = 2U_1 - 1, \\\\\n",
    "Y = 2U_2 - 1.\n",
    "\\end{align*}\n",
    "\n",
    "Determine how $(X,Y)$ is distributed? \n",
    "\n",
    "<h3 style=\"background-color:lightblue\"> Write Answers for Exercise 1 Below </h3>"
   ]
  },
  {
   "attachments": {},
   "cell_type": "markdown",
   "id": "8d2a8f79",
   "metadata": {},
   "source": []
  },
  {
   "attachments": {},
   "cell_type": "markdown",
   "id": "096e5537",
   "metadata": {},
   "source": [
    "A Monte Carlo experiment is a technique used to study a response by using random samples. In our initial estimation of $\\pi$, we will generate a large number of uniform samples inside a square. By inscribing a circle within the square and counting the number of points that fall inside the circle, the proportion of points within the circle will approximate the proportion of the circle's area relative to the area of the square. Let's assume the circle has a radius of $r$. Intuitively, the probability that a randomly chosen point lands inside the circle is given by:\n",
    "$$ \\frac{\\text{area of circle}}{\\text{area of square}} = \\frac{\\pi r^2}{(2r)^2} = \\frac{\\pi r^2}{4r^2} = \\frac{\\pi}{4}.$$\n",
    "\n",
    "You can visualize an example of this experiment with 500 samples (points) by following this (link): [**insert link**]. In the accompanying image, 377 points are marked in red, representing the points falling within the circle's boundary. By taking the proportion of points within the circle and multiplying it by 4, we can approximate the value of $\\pi$. In this particular case, calculating $4 \\cdot \\frac{377}{500} = 3.016$, which is not particularly close to the value of $\\pi$. To obtain a better estimation, let's use a larger number of samples.\n",
    "\n",
    "![img](images/example_monte_carlo.jpg)"
   ]
  },
  {
   "attachments": {},
   "cell_type": "markdown",
   "id": "d7aa17e9",
   "metadata": {},
   "source": [
    "### <span style=\"color:red\"> Exercise 2</span>\n",
    "\n",
    "Using the $(X,Y)$ definition from Exercise 1, let's generate $n=10,000$ random pairs $(X,Y)$ using the `random.uniform()` or `np.random.uniform()` function. We will then create a scatter plot to visualize these points. Additionally, we'll modify the color or marker of the points that fall inside the inscribed circle. You don't have to draw the circle on the plot.\n",
    "\n",
    "<h3 style=\"background-color:lightblue\"> Write Answers for Exercise 2 Below </h3>"
   ]
  },
  {
   "cell_type": "code",
   "execution_count": null,
   "id": "759f3efd",
   "metadata": {},
   "outputs": [],
   "source": []
  },
  {
   "attachments": {},
   "cell_type": "markdown",
   "id": "a44ad411",
   "metadata": {},
   "source": [
    "### <span style=\"color:red\"> Exercise 3</span>\n",
    "\n",
    "We will use the proportion of points falling inside the circle to estimate the value of $\\pi$. Report the *relative and absolute error* of your approximation when  $n=$ 5,000; $n=$ 10,000; $n=$ 50,000; and $n=$ 100,000.\n",
    "\n",
    "<h3 style=\"background-color:lightblue\"> Write Answers for Exercise 3 Below </h3>"
   ]
  },
  {
   "cell_type": "code",
   "execution_count": null,
   "id": "054fb444",
   "metadata": {},
   "outputs": [],
   "source": []
  },
  {
   "attachments": {},
   "cell_type": "markdown",
   "id": "255696ab",
   "metadata": {},
   "source": [
    "Another approach to consider for estimating $\\pi$ involves using a sum of random variables. We begin by randomly generating $n$ points within the square. Let's define the random variables $Z_1,Z_2,\\dots,Z_n$ as follows:\n",
    "\n",
    "\n",
    "$$Z_i = \\begin{cases}\n",
    "    1 &, \\text{ if random point $i$ is in the circle} \\\\\n",
    "    0 &, \\text{ otherwise}\n",
    "\\end{cases} \\quad \\text{ for } i=1,2,\\dots,n.$$\n",
    "We say $Z_1,Z_2,\\dots,Z_n$ are **indicator variables**.\n",
    "Our approximation for $\\pi$ is then\n",
    "$$ 4\\cdot\\frac{Z_1 + Z_2 + \\cdots + Z_n}{n}.$$\n",
    "\n",
    "The expected value of $4Z_i$ is \n",
    "\\begin{align*}\n",
    "    E[4Z_i] &= (4\\cdot 1)\\cdot P(\\text{point $i$ is in the circle}) + (4\\cdot 0)\\cdot P(\\text{point $i$ is not in the circle}),  \\\\\n",
    "    &= 4\\cdot \\frac{\\pi}{4} + 0, \\\\\n",
    "    &= \\pi.\n",
    "\\end{align*}"
   ]
  },
  {
   "attachments": {},
   "cell_type": "markdown",
   "id": "8f03ad2f",
   "metadata": {},
   "source": [
    "### <span style=\"color:red\"> Exercise 4</span>\n",
    "\n",
    "Compute the expected value $E[(4Z_i)^2]$.\n",
    "\n",
    "<h3 style=\"background-color:lightblue\"> Write Answer for Exercise 4 Below </h3>"
   ]
  },
  {
   "attachments": {},
   "cell_type": "markdown",
   "id": "01d0b40a",
   "metadata": {},
   "source": []
  },
  {
   "attachments": {},
   "cell_type": "markdown",
   "id": "20d91852",
   "metadata": {},
   "source": [
    "### <span style=\"color:red\"> Exercise 5</span>\n",
    "\n",
    "We know for a random variable $X$ that $Var(X)=E[X^2]-(E[X])^2$.\n",
    "Use the formula below to compute the variance of the random variable $4Z_i$.\n",
    "$$ Var(4Z_i)  = E[(4Z_i)^2] - (E[4Z_i])^2.$$\n",
    "\n",
    "<h3 style=\"background-color:lightblue\"> Write Answer for Exercise 5 Below </h3>"
   ]
  },
  {
   "cell_type": "code",
   "execution_count": null,
   "id": "3f291b5b",
   "metadata": {},
   "outputs": [],
   "source": []
  },
  {
   "attachments": {},
   "cell_type": "markdown",
   "id": "c8ceab70",
   "metadata": {},
   "source": [
    "Recalling that for two independent random variables, $X$ and $Y$, and constants, $a$ and $b$, we have the following properties:\n",
    "$$ Var(X+Y)= Var(X)+Var(Y) \\quad \\text{and}\\quad Var(aX+b) = a^2 Var(X).$$\n",
    "Now, let's compute the variance in our estimation of $\\pi$ using these properties:\n",
    "\\begin{align*}\n",
    "    Var\\left(4\\cdot\\frac{Z_1 + Z_2 + \\cdots + Z_n}{n} \\right) &=  Var\\left(\\frac{4Z_1 + 4Z_2 + \\cdots + 4Z_n}{n} \\right), \\\\\n",
    "    &= \\frac{1}{n^2}Var(4Z_1 + 4Z_2 + \\cdots + 4Z_n), \\\\\n",
    "    &= \\frac{1}{n^2}[Var(4Z_1) + Var(4Z_2) + \\cdots + Var(4Z_n)], \\\\\n",
    "    &= \\frac{1}{n^2}nVar(4Z_1), \\quad\\quad\\text{ since $Var(4Z_i)$ is the same for $i=1,2,\\dots,n$},\\\\\n",
    "    &= \\frac{Var(4Z_i)}{n}.\n",
    "\\end{align*}"
   ]
  },
  {
   "attachments": {},
   "cell_type": "markdown",
   "id": "771779df",
   "metadata": {},
   "source": [
    "## <span style=\"color:orange;\"> Another Estimation </span>\n",
    "\n",
    "In our Monte Carlo experiment, we needed $2n$ samples of a uniform distribution to generate our $n$ random points in the square.\n",
    "Let's try to improve our estimation of $\\pi$; this time with only $n$ uniform samples.\n",
    "\n",
    "In our Monte Carlo experiment, we initially required $2n$ samples from a uniform distribution to generate $n$ random points within the square. Now, we aim to enhance our estimation of $\\pi$ using only $n$ uniform samples.\n",
    "\n",
    "Consider the integral: $$ \\int_{-1}^1 2 \\sqrt{1-x^2}dx = \\pi.$$\n",
    "\n",
    "We will rearrange this integral as an expected value. First, let's recall the following fact: If $X$ is a continuous random variable with a probability density function $f_X(x)$, and $g$ is any real-valued function, then the expected value of $g(X)$ is given by:\n",
    "$$ E[g(X)] = \\int_{-\\infty}^\\infty g(x)f(x)dx. $$\n"
   ]
  },
  {
   "attachments": {},
   "cell_type": "markdown",
   "id": "d9afda9d",
   "metadata": {},
   "source": [
    "### <span style=\"color:red\"> Exercise 6</span>\n",
    "\n",
    "Suppose $X$ is a uniform random variable on $(-1,1)$.\n",
    "What function $g$ would make\n",
    "$$ E[g(X)] = \\int_{-\\infty}^\\infty g(x)f(x)dx = \\int_{-1}^1 2 \\sqrt{1-x^2}dx = \\pi. $$\n",
    "\n",
    "<h3 style=\"background-color:lightblue\"> Write Answers for Exercise 6 Below </h3>"
   ]
  },
  {
   "attachments": {},
   "cell_type": "markdown",
   "id": "8b2488e5",
   "metadata": {},
   "source": []
  },
  {
   "attachments": {},
   "cell_type": "markdown",
   "id": "cf947c5f",
   "metadata": {},
   "source": [
    "---\n",
    "**NOTE**\n",
    "\n",
    "This is a 2-week lab. Turn in the exercises above. Pick up from here during the next lab session.\n",
    "\n",
    "--- "
   ]
  },
  {
   "attachments": {},
   "cell_type": "markdown",
   "id": "7521c3a6",
   "metadata": {},
   "source": [
    "By choosing an appropriate function $g$, we can approximate $\\pi$.\n",
    "\n",
    "Let $X_1,X_2,\\dots,X_n$ be independent uniform random variables on the interval $(-1,1)$. Then,\n",
    "$$ E\\left[ \\frac{g(X_1)+g(X_2)+\\cdots + g(X_n)}{n} \\right] = \\frac 1n E[g(X_1)+g(X_2)+\\cdots + g(X_n)] = \\frac{nE[g(X_1)]}{n} = \\pi.$$"
   ]
  },
  {
   "attachments": {},
   "cell_type": "markdown",
   "id": "3cbbfe4a",
   "metadata": {},
   "source": [
    "### <span style=\"color:red\"> Exercise 7</span>\n",
    "\n",
    "Generate $n$ uniform random samples $x_1,x_2,\\dots,x_n$ and calculate the average\n",
    "$$ \\frac{g(x_1)+g(x_2)+\\cdots + g(x_n)}{n}. $$\n",
    "\n",
    "Report the *absolute error* of your approximation using this method when $n=$ 5,000; $n=$ 10,000; $n=$ 50,000; and $n=$ 100,000.\n",
    "How does it compare to our first method with the circle in the square?\n",
    "\n",
    "<h3 style=\"background-color:lightblue\"> Write Answers for Exercise 7 Below </h3>"
   ]
  },
  {
   "cell_type": "code",
   "execution_count": null,
   "id": "9571dd10",
   "metadata": {},
   "outputs": [],
   "source": []
  },
  {
   "attachments": {},
   "cell_type": "markdown",
   "id": "15309f16",
   "metadata": {},
   "source": [
    "Similar to how we computed the expected value of $g(X)$, we can also calculate the expected value of $g(X)\\cdot g(X) = (g(X))^2$ by evaluating the integral\n",
    "$$ E[(g(X))^2] = \\int_{-\\infty}^\\infty (g(x))^2f(x)dx .$$"
   ]
  },
  {
   "attachments": {},
   "cell_type": "markdown",
   "id": "6eda8761",
   "metadata": {},
   "source": [
    "### <span style=\"color:red\"> Exercise 8</span>\n",
    "\n",
    "What is the value of $Var(g(X))$?\n",
    "\n",
    "<h3 style=\"background-color:lightblue\"> Write Answers for Exercise 8 Below </h3>"
   ]
  },
  {
   "attachments": {},
   "cell_type": "markdown",
   "id": "19c4e472",
   "metadata": {},
   "source": []
  },
  {
   "attachments": {},
   "cell_type": "markdown",
   "id": "ce6ae391",
   "metadata": {},
   "source": [
    "Now, let's compute the variance in our alternative estimation of $\\pi$.\n",
    "\\begin{align*}\n",
    "    Var\\left(\\frac{g(X_1)+g(X_2)+\\cdots + g(X_n)}{n} \\right) &= \\frac{1}{n^2} Var(g(X_1)+g(X_2)+\\cdots + g(X_n)), \\\\\n",
    "    &= \\frac{1}{n^2} n Var(g(X_1)), \\quad\\quad\\text{ since $Var(g(X_i))$ is the same for $i=1,2,\\dots,n$},\\\\\n",
    "    &= \\frac{Var(g(X_1))}{n}.\n",
    "\\end{align*}"
   ]
  },
  {
   "attachments": {},
   "cell_type": "markdown",
   "id": "11b95447",
   "metadata": {},
   "source": [
    "### <span style=\"color:red\"> Exercise 9</span>\n",
    "\n",
    "How much smaller is the variance in this second method of approximating $\\pi$ compared to the first method?\n",
    "\n",
    "<h3 style=\"background-color:lightblue\"> Write Answers for Exercise 9 Below </h3>"
   ]
  },
  {
   "cell_type": "code",
   "execution_count": null,
   "id": "3c2966a5",
   "metadata": {},
   "outputs": [],
   "source": []
  },
  {
   "attachments": {},
   "cell_type": "markdown",
   "id": "e3b78c78",
   "metadata": {},
   "source": [
    "### <span style=\"color:red\"> Exercise 10</span>\n",
    "\n",
    "If we generate a sequence of 16 binary digits, it is straightforward to convert it into a floating-point number ranging from 0 to 1. First, convert the binary number to base-10 and then divide it by $2^{16}-1$. Now, we have a method to simulate a uniform random variable on the interval $(0, 1)$ or any other interval of our choosing.\n",
    "\n",
    "Using the \"best\" RNG as determined in the previous lab on RNGs, estimate $\\pi$ using both methods described here for different values of $n$. Do your estimations of $\\pi$ improve if you use 32 binary digits instead of 16?\n",
    "\n",
    "<h3 style=\"background-color:lightblue\"> Write Answers for Exercise 10 Below </h3>"
   ]
  },
  {
   "cell_type": "code",
   "execution_count": null,
   "id": "2d12d541",
   "metadata": {},
   "outputs": [],
   "source": []
  },
  {
   "cell_type": "code",
   "execution_count": 43,
   "id": "1e597917",
   "metadata": {},
   "outputs": [
    {
     "name": "stdout",
     "output_type": "stream",
     "text": [
      "[-0.00755265 -0.00065555]\n"
     ]
    }
   ],
   "source": [
    "# remove solution\n",
    "import numpy as np\n",
    "import matplotlib.pyplot as plt\n",
    "\n",
    "n = 100_000\n",
    "x,y = zip(*np.random.uniform(-1,1,size=(n,2)))\n",
    "circle = np.array([x[i]**2 + y[i]**2 for i in range(n)])\n",
    "col = np.where(circle < 1,'r','b')\n",
    "\n",
    "# plt.scatter(x,y,c=col,s=1)\n",
    "# plt.axis('square')\n",
    "# plt.xlim((-1,1))\n",
    "# plt.ylim((-1,1))\n",
    "# plt.show()\n",
    "\n",
    "est_1 = sum(col == 'r')/n * 4\n",
    "\n",
    "x = np.array(x)\n",
    "est_2 = 4*np.average(np.sqrt(1-x**2))\n",
    "\n",
    "print(np.array([est_1,est_2])-np.pi)"
   ]
  },
  {
   "attachments": {},
   "cell_type": "markdown",
   "id": "e6524592",
   "metadata": {},
   "source": [
    "## <span style=\"color:green;\"> Reflection </span>\n",
    "\n",
    "1. \n",
    "2. Which part of the lab did you find the most challenging?\n",
    "3. Which part of the lab was the easiest?\n",
    "\n",
    "<h3 style=\"background-color:lightblue\"> Write Answers for the Reflection Below </h3>"
   ]
  },
  {
   "attachments": {},
   "cell_type": "markdown",
   "id": "19dfaeca",
   "metadata": {},
   "source": []
  }
 ],
 "metadata": {
  "interpreter": {
   "hash": "5733b5ebf5ecec2b002a59c36710d44decb4334b28aff8074b4cca610e6649ad"
  },
  "kernelspec": {
   "display_name": "Python 3 (ipykernel)",
   "language": "python",
   "name": "python3"
  },
  "language_info": {
   "codemirror_mode": {
    "name": "ipython",
    "version": 3
   },
   "file_extension": ".py",
   "mimetype": "text/x-python",
   "name": "python",
   "nbconvert_exporter": "python",
   "pygments_lexer": "ipython3",
   "version": "3.8.5"
  }
 },
 "nbformat": 4,
 "nbformat_minor": 5
}
