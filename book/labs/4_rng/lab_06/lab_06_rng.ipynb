{
 "cells": [
  {
   "attachments": {},
   "cell_type": "markdown",
   "metadata": {},
   "source": [
    "# Week 9: Random Number Generators\n",
    "\n",
    "<font size=\"6\"> Laboratory 6 </font> <br>\n",
    "<font size=\"3\"> Last updated May 8, 2023 </font>"
   ]
  },
  {
   "attachments": {},
   "cell_type": "markdown",
   "metadata": {},
   "source": [
    "## <span style=\"color:orange;\"> 00. Content </span>"
   ]
  },
  {
   "attachments": {},
   "cell_type": "markdown",
   "metadata": {},
   "source": [
    "<font size=\"5\"> Mathematics </font>\n",
    "- N/A\n",
    "     \n",
    "<font size=\"5\"> Programming Skills </font>\n",
    "- Multi-dimensional arrays\n",
    "- Reading and Writing Files\n",
    "    \n",
    "<font size=\"5\"> Embedded Systems </font>\n",
    "- Thonny & MicroPython"
   ]
  },
  {
   "attachments": {},
   "cell_type": "markdown",
   "metadata": {},
   "source": [
    "## <span style=\"color:orange;\"> 0. Required Hardware </span>"
   ]
  },
  {
   "attachments": {},
   "cell_type": "markdown",
   "metadata": {},
   "source": [
    "- Raspberry Pi Pico\n",
    "- MAX30102 Pulse sensor\n",
    "- Camera (Arducam HM01B0)\n",
    "- Ceramic Capacitor\n",
    "- Breadboard\n",
    "- USB connector\n",
    "- 8 Wires"
   ]
  },
  {
   "attachments": {},
   "cell_type": "markdown",
   "metadata": {},
   "source": [
    "<h3 style=\"background-color:lightblue\"> Write your name and email below: </h3>\n",
    "\n",
    "**Name:** \n",
    "\n",
    "**Email:** "
   ]
  },
  {
   "cell_type": "code",
   "execution_count": null,
   "metadata": {},
   "outputs": [],
   "source": [
    "import numpy as np\n",
    "import matplotlib.pyplot as plt  "
   ]
  },
  {
   "attachments": {},
   "cell_type": "markdown",
   "metadata": {},
   "source": [
    "## <span style=\"color:orange;\">1. Applications of Random Number Generators </span>\n",
    "Random number generators (RNGs) are the foundation of computer security. The ability to send encrypted messages depends on RNGs. Secure systems are undoubtedly important as the value of our personal data is ever increasing. Whether it's financial information, medical records, or simply messages to a friend, information is protected by generating random numbers unpredictable enough to prevent a hacker from guessing what's next. Random numbers are needed for a variety of tasks like drawing lottery numbers, choosing random samples for scientific studies, and creating video games.\n",
    "\n",
    "RNGs have a surprisingly long history, dating back 5000 years ago with coin-flipping and dice-rolling as the main methods. Many modern approaches are hardware-based as well but much faster than rolling dice repeatedly. For example, in 1996, Silicon Graphics patented a system of random number generation using a wall of lava lamps. The exact state of a lava lamp, let alone multiple, at any time is too complex to model and predict, and so any number based on this chaotic system is secure. Another true RNG is RANDOM.ORG, which uses multiple radio receivers capturing atmospheric noise to create its random numbers.\n",
    "\n",
    "True RNGs (TRNGs) are characterized by having no predictable patterns in generated sequences and are generally slow to output a large amount of random numbers. TRNGs are relatively hard to implement as a computer program, so pseudorandom number generators (PRNGs) allow computers to simulate randomness through a deterministic process or an easy rule for the program to follow. PRNGs need a starting value called a seed and then based on the seed value pull up a previously created list of random numbers. PRNGs are not always safe enough to use for cryptographic purposes, but having a truly random seed makes them less predictable.\n",
    "\n",
    "In this lab, we will create a random binary sequence of ones and zeros using different hardware methods and test them mathematically to judge the randomness of the results.\n",
    "\n",
    "We only need a random binary sequence to generate random numbers in any range. The reasons behind this are that we can convert between number bases and that computers store numbers in a finite amount of bits. A bit is the smallest unit of information a computer can store. Bits are either 0 or 1. Python uses 32 or 64 bits to store floating-point numbers and integers."
   ]
  },
  {
   "attachments": {},
   "cell_type": "markdown",
   "metadata": {},
   "source": [
    "## <span style=\"color:orange;\">2. Making an RNG </span>\n",
    "\n",
    "### Method A\n",
    "\n",
    "We will use the Raspberry Pi Pico's internal temperature sensor, as in Lab 2.\n",
    "\n",
    "Collect a thousand temperature measurements. For each measurement, subtract 10,000 and convert the result to binary. Continue this process for each measurement. The result will be our random sequence.\n",
    "\n",
    "For example, if the temperature measurements are $10003, 10002, 10003$, and $10005$, after subtracting, we get $3, 2, 3, 5$.\n",
    "The number 3 is represented as 11 in binary, 2 as 10, and 5 as 101.\n",
    "Therefore, our final binary sequence is `111011101`."
   ]
  },
  {
   "attachments": {},
   "cell_type": "markdown",
   "metadata": {},
   "source": [
    "### <span style=\"color:red\"> Exercise 1</span>\n",
    "\n",
    "Use Method A and print the first 10 binary digits of the sequence. \n",
    "\n",
    "<h3 style=\"background-color:lightblue\"> Write Answers for Exercise 1 Below </h3>"
   ]
  },
  {
   "cell_type": "code",
   "execution_count": 18,
   "metadata": {},
   "outputs": [
    {
     "name": "stdout",
     "output_type": "stream",
     "text": [
      "[0 1]\n",
      "[7216 5784]\n",
      "0.555076923076923\n"
     ]
    },
    {
     "data": {
      "image/png": "[encoded data removed]",
      "text/plain": [
       "<Figure size 432x288 with 1 Axes>"
      ]
     },
     "metadata": {
      "needs_background": "light"
     },
     "output_type": "display_data"
    }
   ],
   "source": [
    "# remove solution\n",
    "data = np.loadtxt(\"temp_25_sleep_3.txt\", dtype=int) \n",
    "\n",
    "binary_digits = [int(d) for n in data for d in bin(n-10_000)[2:]]\n",
    "\n",
    "values, counts = np.unique(binary_digits, return_counts=True)\n",
    "print(values)\n",
    "print(counts)\n",
    "print(counts[0]/sum(counts))\n",
    "plt.bar(values, counts)\n",
    "plt.xticks([0,1])\n",
    "plt.show()"
   ]
  },
  {
   "attachments": {},
   "cell_type": "markdown",
   "metadata": {},
   "source": [
    "### Method B\n",
    "\n",
    "#### Heart Rate Sensor\n",
    "\n",
    "You will collect data today using a **MAX30102 Pulse Oximeter and Heart Rate Sensor**, but you will only use the Heart Rate Sensor. The MAX30102 module consists of two different types of LEDs (Red and IR) and a photodetector.\n",
    "\n",
    "|<img src=\"images/MAX30102.png\" alt=\"MAX30102\" width=\"500\"/>|\n",
    "|:--:| \n",
    "| *MAX30102 Pulse Oximeter and Heart Rate Sensor* |\n",
    "\n",
    "The main idea is that the light emitted by each LED is directed to the skin, and the photodetector measures the amount of light reflected. This method of pulse detection through light is called Photoplethysmogram. The reflection of infrared light (IR) changes proportionally to the volume of blood in the artery and is synchronized with the cardiac cycle. During the heartbeat, the volume of blood is high, and after each heartbeat, it is low.\n",
    "\n",
    "\n",
    "\"During the systolic phase, the volume of blood in arteries is more; this is because during this phase heart contracts and pushes oxygen-rich blood to all the tissues and organs. The systolic phase causes more light is absorbed by the blood cells. Therefore the amount of light detected by the photode-tector during the systolic phase is low. During the diastolic phase, the blood has flown back into the heart. Therefore, during the diastole phase, the light detected by the photo-detector increases due to a decrease in the blood volume.\" [3]\n",
    "\n",
    "|<img src=\"images/PPG_generation_and_waveform_features.jpg\" alt=\"Principle of phototoplethysmogram generation and waveform features\" width=\"300\"/>| \n",
    "|:--:| \n",
    "| *Principle of phototoplethysmogram generation and waveform features* [2]|\n",
    "\n",
    "The figure above shows that the PPG waveform is obtained by inverting the intensity of the light detected with the photodetector after the light is reflected or transmitted through the human tissue [2]. In the case of our sensor, it would be reflected since the MAX30102 is of the reflective type."
   ]
  },
  {
   "attachments": {},
   "cell_type": "markdown",
   "metadata": {},
   "source": [
    "#### Wiring It Up\n",
    "\n",
    "**MAKE SURE PICO IS UNPLUGGED FROM COMPUTER BEFORE WIRING**\n",
    "\n",
    "To use the heart rate sensor, there are only four pins to connect with our microcontroller: power (VIN), ground (GND), and the two I2C pins (SCL and SDA).\n",
    "\n",
    "|<img src=\"images/MAX30102_pins.png\" alt=\"MAX30102_pins\" width=\"500\"/>|\n",
    "|:--:| \n",
    "| *MAX30102 pins* |\n",
    "\n",
    "Unplug your microcontroller from the computer and wire up the MAX30102 sensor according to the following instructions, inspecting the data sheet for the Pico:\n",
    "\n",
    "![pico_datasheet](./images/Pico%20Datasheet.png)\n",
    "\n",
    "\n",
    "|MAX30102 | Module MAX30102|\n",
    "| ----------- | ----------- |\n",
    "|GND|GND|\n",
    "|SCL|I2C0 SCL or I2C1 SCL|\n",
    "|SDA|I2C0 SDA or I2C1 SDA|\n",
    "|VCC|3V3(OUT)|\n",
    "\n",
    "You will also need to connect a ceramic capacitor between the 3V3(OUT) pin and the GND pin you are using.\n",
    "\n",
    "Here are some images of the completed breadboard:\n",
    "\n",
    "![wiring_example](./images/wiring_example.jpg)\n",
    "\n",
    "![capacitor_placement](./images/capacitor_placement.jpg)\n",
    "\n",
    "**Note: Have your TA check over your wiring before continuing onward.**"
   ]
  },
  {
   "attachments": {},
   "cell_type": "markdown",
   "metadata": {},
   "source": [
    "#### Loading firmware onto the microcontroller\n",
    "\n",
    "Plug the pico into your computer while holding the BOOTSEL button. Open up Thonny. [Follow the directions here](https://projects.raspberrypi.org/en/projects/getting-started-with-the-pico/3) to install the MicroPython firmware on the Pico. [The following page at that link](https://projects.raspberrypi.org/en/projects/getting-started-with-the-pico/4) has directions for testing to make sure it’s working.\n",
    "\n",
    "Use Thonny’s file manager to transfer `main.py` file and the `max30102` folder to the Pico. You can find these in [this github repository](https://github.com/TheDataScienceLabs/DSLab_Probability). The `max30102` folder is a module that functions as the MAX30102 sensor driver ported to MicroPython, and the `main.py` file has the necessary to connect to the sensor and start reading your pulse when you put your finger on the sensor. \n",
    "- - -\n",
    "Note: You may have to modify the lines of the `main.py` file that set up the I2C bus according to whichever specific SCL and SDA pins you are using - remember to use the number labeled with GP on the diagram\n",
    "- - -"
   ]
  },
  {
   "attachments": {},
   "cell_type": "markdown",
   "metadata": {},
   "source": [
    "### Acquiring data!\n",
    "\n",
    "**Read this carefully.** In Thonny, run `main.py`. You should see numbers printing on the terminal, and the LED on your Pico should be on. (If this is not the case, go back and check your wiring and ensure you have uploaded the required files onto the Pico).\n",
    "\n",
    "Next, while the readings are printing, open up the *\"Run\"* dropdown menu in the top left corner of Thonny and click on *\"Disconnect\"* at the bottom of the menu. This will allow the notebook to access the MAX30102 data from the Pico. Once the Pico is disconnected, you can run the two code cells below to create a live graph of your pulse."
   ]
  },
  {
   "attachments": {},
   "cell_type": "markdown",
   "metadata": {},
   "source": [
    "#### Using the sensor\n",
    "\n",
    "Download the [hbconnection.py](hbconnection.py) file from the repository and add it to your lab folder to access its functions in the following cell.\n",
    "\n",
    "The following cell will show you the data taken by the sensor in real-time."
   ]
  },
  {
   "cell_type": "code",
   "execution_count": null,
   "metadata": {},
   "outputs": [
    {
     "data": {
      "application/vnd.jupyter.widget-view+json": {
       "model_id": "b9e26a5c76b045ccbbde127b22f94802",
       "version_major": 2,
       "version_minor": 0
      },
      "image/png": "[encoded data removed]",
      "text/html": [
       "\n",
       "            <div style=\"display: inline-block;\">\n",
       "                <div class=\"jupyter-widgets widget-label\" style=\"text-align: center;\">\n",
       "                    Figure\n",
       "                </div>\n",
       "                <img src='data:image/png;base64,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' width=640.0/>\n",
       "            </div>\n",
       "        "
      ],
      "text/plain": [
       "Canvas(toolbar=Toolbar(toolitems=[('Home', 'Reset original view', 'home', 'home'), ('Back', 'Back to previous …"
      ]
     },
     "metadata": {},
     "output_type": "display_data"
    }
   ],
   "source": [
    "import numpy as np\n",
    "import matplotlib.pyplot as plt\n",
    "from hbconnection import acquire\n",
    "%matplotlib widget\n",
    "\n",
    "\n",
    "sampling_rate = 200 # You must fill this in! - Options: 50, 100, 200, 400, 800, 1000, 1600, 3200\n",
    "sampling_duration = 5 # seconds\n",
    "number_of_samples = sampling_rate * sampling_duration\n",
    "\n",
    "x = np.arange(number_of_samples)/sampling_rate\n",
    "y = np.full_like(x, np.nan)\n",
    "\n",
    "fig, ax = plt.subplots()\n",
    "line,  = plt.plot(x, y)\n",
    "plt.xlim(0, sampling_duration)\n",
    "plt.ylim(29_000, 32_000) #Change this to fit heartbeat to graph\n",
    "plt.title('Real time data')\n",
    "plt.show()"
   ]
  },
  {
   "attachments": {},
   "cell_type": "markdown",
   "metadata": {},
   "source": [
    "Now, put your finger on the sensor, making sure it covers both the photodetector and the LEDs. **Do not apply too much or too little pressure**. Your finger should barely touch the sensor. **Once you have it situated correctly, run the following cell to acquire data.** This cell contains a while True loop, which will run indefinitely until we take action to stop it. **Once you have detected your pulse, click the *\"Stop\"* button** at the top of the page to exit the loop. The displayed data will be stored.\n",
    "\n",
    "- - -\n",
    "Note: You may need to adjust the bounds of the `plt.ylim()` function for a better representation of your data.\n",
    "- - -"
   ]
  },
  {
   "cell_type": "code",
   "execution_count": null,
   "metadata": {},
   "outputs": [
    {
     "name": "stdout",
     "output_type": "stream",
     "text": [
      "done acquiring!\n"
     ]
    }
   ],
   "source": [
    "try:\n",
    "    while True:\n",
    "        acquire(sampling_rate, y, line, fig, number_of_samples)\n",
    "except KeyboardInterrupt:\n",
    "    print('done acquiring!')\n",
    "    np.savetxt('heartbeat_ini.txt', y)"
   ]
  },
  {
   "attachments": {},
   "cell_type": "markdown",
   "metadata": {},
   "source": [
    "Re-run the above cell as many times as necessary to obtain a good, clean measurement that shows a clear heartbeat pattern. You can modify the y-axis limits to improve the visibility of the signal behavior.\n",
    "\n",
    "Take a look at the file you just created, if needed. You should be able to open it right here in JupyterLab. It will display a long list of numbers.\n",
    "\n",
    "It is good practice to use a separate document to store your data. By storing your data outside of the document used for analysis, you can perform multiple analyses without the risk of modifying your original data. Therefore, **save a copy of the data as `heartbeat_backup.txt` before proceeding with the lab.**"
   ]
  },
  {
   "attachments": {},
   "cell_type": "markdown",
   "metadata": {},
   "source": [
    "### <span style=\"color:red\"> Exercise 2</span>\n",
    "\n",
    "To get to a final random sequence, use your measurements from `heartbeat_ini.txt` (or `heartbeat_backup.txt` if you were having trouble with the data collection). For each measurement, subtract the minimum value and convert the result to binary. Continue for all the measurements like in Method A.\n",
    "\n",
    "After collecting a few seconds' worth of heartbeat measurements, apply Method B and print the first 10 binary digits of the resulting sequence.\n",
    "\n",
    "(Hint: look into the np.loadtxt() function)\n",
    "\n",
    "<h3 style=\"background-color:lightblue\"> Write Answers for Exercise 2 Below </h3>"
   ]
  },
  {
   "cell_type": "code",
   "execution_count": null,
   "metadata": {},
   "outputs": [],
   "source": []
  },
  {
   "attachments": {},
   "cell_type": "markdown",
   "metadata": {},
   "source": [
    "### Method C\n",
    "\n",
    "A camera, like any sensor, is susceptible to noise, and we can utilize this noise for a random number generator (RNG). Follow the wiring instructions from Lab 4 to connect the camera component to the Pico.\n",
    "\n",
    "Our cameras return a grayscale image with dimensions of $96\\times 96$. If we capture a noisy scene, we can flatten the image into a 1-dimensional sequence of length $96^2 = 9216$ and transform it into a binary sequence based on parity (whether the values are even or odd). You can choose how to transform the $96\\times 96$ image array into a 1-dimensional sequence. For the noisy scene, we'll use the floor."
   ]
  },
  {
   "attachments": {},
   "cell_type": "markdown",
   "metadata": {},
   "source": [
    "### <span style=\"color:red\"> Exercise 3</span>\n",
    "\n",
    "Use Method C on an image you captured and print the first 10 binary digits of the sequence. "
   ]
  },
  {
   "cell_type": "code",
   "execution_count": null,
   "metadata": {},
   "outputs": [],
   "source": [
    "import time\n",
    "import serial\n",
    "from serial.tools import list_ports\n",
    "%matplotlib widget\n",
    "\n",
    "PICO_HWID = \"2E8A\"\n",
    "\n",
    "\n",
    "def get_pico_port():\n",
    "    pico_ports = list(list_ports.grep(PICO_HWID))\n",
    "    if len(pico_ports) == 0:\n",
    "        raise Exception(\n",
    "            \"No Raspberry Pi Pico was detected. Check to make sure it is plugged in, and that no other programs are accessing it\"\n",
    "        )\n",
    "    return pico_ports[0].device\n",
    "\n",
    "\n",
    "print(\"Here are all the serial devices detected:\")\n",
    "for port in list_ports.comports():\n",
    "    print(port.device, port.hwid)\n",
    "\n",
    "port = get_pico_port()\n",
    "print(f\"\\nselected port {port} as most likely to have a raspberry pi pico\")"
   ]
  },
  {
   "cell_type": "code",
   "execution_count": null,
   "metadata": {},
   "outputs": [],
   "source": [
    "buffer = bytearray(96 * 96)\n",
    "img = np.zeros(shape=(96, 96), dtype=\"uint8\")\n",
    "\n",
    "with serial.Serial(port, timeout=1) as s:\n",
    "    s.read_until(b\"\\x55\\xAA\")\n",
    "    s.readinto(buffer)\n",
    "    img.flat[::-1] = buffer\n",
    "\n",
    "plt.imshow(img, cmap=\"gray\")\n",
    "plt.show()"
   ]
  },
  {
   "attachments": {},
   "cell_type": "markdown",
   "metadata": {},
   "source": [
    "<h3 style=\"background-color:lightblue\"> Write Answers for Exercise 3 Below </h3>"
   ]
  },
  {
   "cell_type": "code",
   "execution_count": null,
   "metadata": {},
   "outputs": [],
   "source": []
  },
  {
   "attachments": {},
   "cell_type": "markdown",
   "metadata": {},
   "source": [
    "### Method D\n",
    "\n",
    "The Mersenne Twister is a pseudorandom number generator (PRNG) implemented in many products, including Python. It derives its name from a special type of prime number known as a Mersenne prime. Mersenne primes are prime numbers in the form of $2^p-1$, and as of December 2022, only 51 Mersenne primes have been discovered (with 48 verified). The intricate details of the Mersenne Twister algorithm go beyond the scope of this lab. Surprisingly, the algorithm itself doesn't involve complex arithmetic operations like multiplication or addition.\n",
    "\n",
    "Here's a quick example on how to use the `randint` function from Python's random module, which relies on the Mersenne Twister.\n"
   ]
  },
  {
   "cell_type": "code",
   "execution_count": null,
   "metadata": {},
   "outputs": [],
   "source": [
    "from random import randint\n",
    "\n",
    "x = [randint(0,1) for i in range(10)]\n",
    "print(x)"
   ]
  },
  {
   "attachments": {},
   "cell_type": "markdown",
   "metadata": {},
   "source": []
  },
  {
   "attachments": {},
   "cell_type": "markdown",
   "metadata": {},
   "source": [
    "## <span style=\"color:green;\"> Reflection </span>\n",
    "\n",
    "1. List whether each method was truly random or pseudorandom.<br>\n",
    "2. Which part of the lab did you find the most challenging? <br>\n",
    "3. Which part of the lab did was the easiest?\n",
    "\n",
    "<h3 style=\"background-color:lightblue\"> Write Answers for the Reflection Below </h3>"
   ]
  },
  {
   "attachments": {},
   "cell_type": "markdown",
   "metadata": {},
   "source": []
  },
  {
   "attachments": {},
   "cell_type": "markdown",
   "metadata": {},
   "source": [
    "## References\n",
    "1. Elgendi M. On the analysis of fingertip photoplethysmogram signals. Curr Cardiol Rev. 2012 Feb;8(1):14-25. doi: 10.2174/157340312801215782.\n",
    "\n",
    "2. Junyung Park, Hyeon Seok Seok, Sang-Su Kim1 and Hangsik Shin. Photoplethysmogram Analysis and Applications: An Integrative Review. Front. Physiol., 01 March 2022. Sec. Vascular Physiology. https://doi.org/10.3389/fphys.2021.808451. \n",
    "\n",
    "3. Pankaj, Kumar, A., Komaragiri, R. et al. A Review on Computation Methods Used in Photoplethysmography Signal Analysis for Heart Rate Estimation. Arch Computat Methods Eng 29, 921–940 (2022). https://doi.org/10.1007/s11831-021-09597-4"
   ]
  }
 ],
 "metadata": {
  "interpreter": {
   "hash": "5733b5ebf5ecec2b002a59c36710d44decb4334b28aff8074b4cca610e6649ad"
  },
  "kernelspec": {
   "display_name": "Python 3",
   "language": "python",
   "name": "python3"
  },
  "language_info": {
   "codemirror_mode": {
    "name": "ipython",
    "version": 3
   },
   "file_extension": ".py",
   "mimetype": "text/x-python",
   "name": "python",
   "nbconvert_exporter": "python",
   "pygments_lexer": "ipython3",
   "version": "3.8.3"
  }
 },
 "nbformat": 4,
 "nbformat_minor": 5
}
