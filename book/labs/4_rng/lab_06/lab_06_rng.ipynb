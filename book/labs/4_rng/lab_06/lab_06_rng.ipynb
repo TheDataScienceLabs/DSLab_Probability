{
 "cells": [
  {
   "attachments": {},
   "cell_type": "markdown",
   "metadata": {},
   "source": [
    "# Week 9: Random Number Generators\n",
    "\n",
    "<font size=\"6\"> Laboratory 6 </font> <br>\n",
    "<font size=\"3\"> Last updated May 8, 2023 </font>"
   ]
  },
  {
   "attachments": {},
   "cell_type": "markdown",
   "metadata": {},
   "source": [
    "## <span style=\"color:orange;\"> 00. Content </span>"
   ]
  },
  {
   "attachments": {},
   "cell_type": "markdown",
   "metadata": {},
   "source": [
    "<font size=\"5\"> Mathematics </font>\n",
    "- N/A\n",
    "     \n",
    "<font size=\"5\"> Programming Skills </font>\n",
    "- Multi-dimensional arrays\n",
    "- Reading and Writing Files\n",
    "    \n",
    "<font size=\"5\"> Embedded Systems </font>\n",
    "- Thonny & MicroPython"
   ]
  },
  {
   "attachments": {},
   "cell_type": "markdown",
   "metadata": {},
   "source": [
    "## <span style=\"color:orange;\"> 0. Required Hardware </span>"
   ]
  },
  {
   "attachments": {},
   "cell_type": "markdown",
   "metadata": {},
   "source": [
    "- Raspberry Pi Pico\n",
    "- MAX30102 Pulse sensor\n",
    "- Camera (Arducam HM01B0)\n",
    "- Ceramic Capacitor\n",
    "- Breadboard\n",
    "- USB connector\n",
    "- 8 Wires"
   ]
  },
  {
   "attachments": {},
   "cell_type": "markdown",
   "metadata": {},
   "source": [
    "<h3 style=\"background-color:lightblue\"> Write your name and email below: </h3>\n",
    "\n",
    "**Name:** \n",
    "\n",
    "**Email:** "
   ]
  },
  {
   "cell_type": "code",
   "execution_count": null,
   "metadata": {},
   "outputs": [],
   "source": [
    "import numpy as np\n",
    "import matplotlib.pyplot as plt  "
   ]
  },
  {
   "attachments": {},
   "cell_type": "markdown",
   "metadata": {},
   "source": [
    "## <span style=\"color:orange;\">1. Applications of Random Number Generators </span>\n",
    "Random number generators (RNGs) are the foundation of computer security. The ability to send encrypted messages depends on RNGs. Secure systems are undoubtedly important as the value of our personal data is ever increasing. Whether it's financial information, medical records, or simply messages to a friend, information is protected by generating random numbers unpredictable enough to prevent a hacker from guessing what's next. Random numbers are needed for a variety of tasks like drawing lottery numbers, choosing random samples for scientific studies, and creating video games.\n",
    "\n",
    "RNGs have a surprisingly long history, dating back 5000 years ago with coin-flipping and dice-rolling as the main methods. Many modern approaches are hardware-based as well but much faster than rolling dice repeatedly. For example, in 1996, Silicon Graphics patented a system of random number generation using a wall of lava lamps. The exact state of a lava lamp, let alone multiple, at any time is too complex to model and predict, and so any number based on this chaotic system is secure. Another true RNG is RANDOM.ORG, which uses multiple radio receivers capturing atmospheric noise to create its random numbers.\n",
    "\n",
    "True RNGs (TRNGs) are characterized by having no predictable patterns in generated sequences and are generally slow to output a large amount of random numbers. TRNGs are relatively hard to implement as a computer program, so pseudorandom number generators (PRNGs) allow computers to simulate randomness through a deterministic process or an easy rule for the program to follow. PRNGs need a starting value called a seed and then based on the seed value pull up a previously created list of random numbers. PRNGs are not always safe enough to use for cryptographic purposes, but having a truly random seed makes them less predictable.\n",
    "\n",
    "In this lab, we will create a random binary sequence of ones and zeros using different hardware methods and test them mathematically to judge the randomness of the results.\n",
    "\n",
    "We only need a random binary sequence to generate random numbers in any range. The reasons behind this are that we can convert between number bases and that computers store numbers in a finite amount of bits. A bit is the smallest unit of information a computer can store. Bits are either 0 or 1. Python uses 32 or 64 bits to store floating-point numbers and integers."
   ]
  },
  {
   "attachments": {},
   "cell_type": "markdown",
   "metadata": {},
   "source": [
    "## <span style=\"color:orange;\">2. Making an RNG </span>\n",
    "\n",
    "### Method A\n",
    "\n",
    "We will use the Raspberry Pi Pico's internal temperature sensor, as in Lab 2.\n",
    "\n",
    "Collect a thousand temperature measurements. For each measurement, subtract 10,000 and convert the result to binary. Continue this process for each measurement. The result will be our random sequence.\n",
    "\n",
    "For example, if the temperature measurements are $10003, 10002, 10003$, and $10005$, after subtracting, we get $3, 2, 3, 5$.\n",
    "The number 3 is represented as 11 in binary, 2 as 10, and 5 as 101.\n",
    "Therefore, our final binary sequence is `111011101`."
   ]
  },
  {
   "attachments": {},
   "cell_type": "markdown",
   "metadata": {},
   "source": [
    "### <span style=\"color:red\"> Exercise 1</span>\n",
    "\n",
    "Use Method A and print the first 10 binary digits of the sequence. \n",
    "\n",
    "<h3 style=\"background-color:lightblue\"> Write Answers for Exercise 1 Below </h3>"
   ]
  },
  {
   "cell_type": "code",
   "execution_count": null,
   "metadata": {},
   "outputs": [],
   "source": [
    "# remove solution\n",
    "data = np.loadtxt(\"temp_25_sleep_3.txt\", dtype=int) \n",
    "\n",
    "binary_digits = [int(d) for n in data for d in bin(n-10_000)[2:]]\n",
    "\n",
    "values, counts = np.unique(binary_digits, return_counts=True)\n",
    "print(values)\n",
    "print(counts)\n",
    "print(counts[0]/sum(counts))\n",
    "plt.bar(values, counts)\n",
    "plt.xticks([0,1])\n",
    "plt.show()"
   ]
  },
  {
   "attachments": {},
   "cell_type": "markdown",
   "metadata": {},
   "source": [
    "### Method B\n",
    "\n",
    "#### Heart Rate Sensor\n",
    "\n",
    "You will collect data today using a **MAX30102 Pulse Oximeter and Heart Rate Sensor**, but you will only use the Heart Rate Sensor. The MAX30102 module consists of two different types of LEDs (Red and IR) and a photodetector.\n",
    "\n",
    "|<img src=\"https://raw.githubusercontent.com/TheDataScienceLabs/DSLab_Probability/main/book/labs/shared_files/heart_rate_estimation/MAX30102.png\" alt=\"MAX30102\" width=\"500\"/>|\n",
    "|:--:| \n",
    "| *MAX30102 Pulse Oximeter and Heart Rate Sensor* |\n",
    "\n",
    "The main idea is that the light emitted by each LED is directed to the skin, and the photodetector measures the amount of light reflected. This method of pulse detection through light is called Photoplethysmogram. The reflection of infrared light (IR) changes proportionally to the volume of blood in the artery and is synchronized with the cardiac cycle. During the heartbeat, the volume of blood is high, and after each heartbeat, it is low.\n",
    "\n",
    "\n",
    "\"During the systolic phase, the volume of blood in arteries is more; this is because during this phase heart contracts and pushes oxygen-rich blood to all the tissues and organs. The systolic phase causes more light is absorbed by the blood cells. Therefore the amount of light detected by the photode-tector during the systolic phase is low. During the diastolic phase, the blood has flown back into the heart. Therefore, during the diastole phase, the light detected by the photo-detector increases due to a decrease in the blood volume.\" [3]\n",
    "\n",
    "|<img src=\"https://raw.githubusercontent.com/TheDataScienceLabs/DSLab_Probability/main/book/labs/shared_files/heart_rate_estimation/PPG_generation_and_waveform_features.jpg\" alt=\"Principle of phototoplethysmogram generation and waveform features\" width=\"300\"/>| \n",
    "|:--:| \n",
    "| *Principle of phototoplethysmogram generation and waveform features* [2]|\n",
    "\n",
    "The figure above shows that the PPG waveform is obtained by inverting the intensity of the light detected with the photodetector after the light is reflected or transmitted through the human tissue [2]. In the case of our sensor, it would be reflected since the MAX30102 is of the reflective type."
   ]
  },
  {
   "attachments": {},
   "cell_type": "markdown",
   "metadata": {},
   "source": [
    "#### Wiring It Up\n",
    "\n",
    "**MAKE SURE PICO IS UNPLUGGED FROM COMPUTER BEFORE WIRING**\n",
    "\n",
    "To use the heart rate sensor, there are only four pins to connect with our microcontroller: power (VIN), ground (GND), and the two I2C pins (SCL and SDA).\n",
    "\n",
    "|<img src=\"https://raw.githubusercontent.com/TheDataScienceLabs/DSLab_Probability/main/book/labs/shared_files/heart_rate_estimation/MAX30102_pins.png\" alt=\"MAX30102_pins\" width=\"500\"/>|\n",
    "|:--:| \n",
    "| *MAX30102 pins* |\n",
    "\n",
    "Unplug your microcontroller from the computer and wire up the MAX30102 sensor according to the following instructions, inspecting the data sheet for the Pico:\n",
    "\n",
    "![pico_datasheet](./images/Pico%20Datasheet.png)\n",
    "\n",
    "\n",
    "|MAX30102 | Module MAX30102|\n",
    "| ----------- | ----------- |\n",
    "|GND|GND|\n",
    "|SCL|I2C0 SCL or I2C1 SCL|\n",
    "|SDA|I2C0 SDA or I2C1 SDA|\n",
    "|VCC|3V3(OUT)|\n",
    "\n",
    "You will also need to connect a ceramic capacitor between the 3V3(OUT) pin and the GND pin you are using.\n",
    "\n",
    "Here are some images of the completed breadboard:\n",
    "\n",
    "![wiring_example](https://raw.githubusercontent.com/TheDataScienceLabs/DSLab_Probability/main/book/labs/shared_files/heart_rate_estimation/wiring_example.jpg)\n",
    "\n",
    "![capacitor_placement](https://raw.githubusercontent.com/TheDataScienceLabs/DSLab_Probability/main/book/labs/shared_files/heart_rate_estimation/capacitor_placement.jpg)\n",
    "\n",
    "**Note: Have your TA check over your wiring before continuing onward.**"
   ]
  },
  {
   "attachments": {},
   "cell_type": "markdown",
   "metadata": {},
   "source": [
    "#### Loading firmware onto the microcontroller\n",
    "\n",
    "Plug the pico into your computer while holding the BOOTSEL button. Open up Thonny. [Follow the directions here](https://projects.raspberrypi.org/en/projects/getting-started-with-the-pico/3) to install the MicroPython firmware on the Pico. [The following page at that link](https://projects.raspberrypi.org/en/projects/getting-started-with-the-pico/4) has directions for testing to make sure it’s working.\n",
    "\n",
    "Use Thonny’s file manager to transfer `main.py` file and the `max30102` folder to the Pico. You can find these in [this github repository](https://github.com/TheDataScienceLabs/DSLab_Probability). The `max30102` folder is a module that functions as the MAX30102 sensor driver ported to MicroPython, and the `main.py` file has the necessary to connect to the sensor and start reading your pulse when you put your finger on the sensor. \n",
    "- - -\n",
    "Note: You may have to modify the lines of the `main.py` file that set up the I2C bus according to whichever specific SCL and SDA pins you are using - remember to use the number labeled with GP on the diagram\n",
    "- - -"
   ]
  },
  {
   "attachments": {},
   "cell_type": "markdown",
   "metadata": {},
   "source": [
    "### Acquiring data!\n",
    "\n",
    "**Read this carefully.** In Thonny, run `main.py`. You should see numbers printing on the terminal, and the LED on your Pico should be on. (If this is not the case, go back and check your wiring and ensure you have uploaded the required files onto the Pico).\n",
    "\n",
    "Next, while the readings are printing, open up the *\"Run\"* dropdown menu in the top left corner of Thonny and click on *\"Disconnect\"* at the bottom of the menu. This will allow the notebook to access the MAX30102 data from the Pico. Once the Pico is disconnected, you can run the two code cells below to create a live graph of your pulse."
   ]
  },
  {
   "attachments": {},
   "cell_type": "markdown",
   "metadata": {},
   "source": [
    "#### Using the sensor\n",
    "\n",
    "Download the [hbconnection.py](hbconnection.py) file from the repository and add it to your lab folder to access its functions in the following cell.\n",
    "\n",
    "The following cell will show you the data taken by the sensor in real-time."
   ]
  },
  {
   "cell_type": "code",
   "execution_count": null,
   "metadata": {},
   "outputs": [],
   "source": [
    "import numpy as np\n",
    "import matplotlib.pyplot as plt\n",
    "from hbconnection import acquire\n",
    "%matplotlib widget\n",
    "\n",
    "\n",
    "sampling_rate = 200 # You must fill this in! - Options: 50, 100, 200, 400, 800, 1000, 1600, 3200\n",
    "sampling_duration = 5 # seconds\n",
    "number_of_samples = sampling_rate * sampling_duration\n",
    "\n",
    "x = np.arange(number_of_samples)/sampling_rate\n",
    "y = np.full_like(x, np.nan)\n",
    "\n",
    "fig, ax = plt.subplots()\n",
    "line,  = plt.plot(x, y)\n",
    "plt.xlim(0, sampling_duration)\n",
    "plt.ylim(29_000, 32_000) #Change this to fit heartbeat to graph\n",
    "plt.title('Real time data')\n",
    "plt.show()"
   ]
  },
  {
   "attachments": {},
   "cell_type": "markdown",
   "metadata": {},
   "source": [
    "Now, put your finger on the sensor, making sure it covers both the photodetector and the LEDs. **Do not apply too much or too little pressure**. Your finger should barely touch the sensor. **Once you have it situated correctly, run the following cell to acquire data.** This cell contains a while True loop, which will run indefinitely until we take action to stop it. **Once you have detected your pulse, click the *\"Stop\"* button** at the top of the page to exit the loop. The displayed data will be stored.\n",
    "\n",
    "- - -\n",
    "Note: You may need to adjust the bounds of the `plt.ylim()` function for a better representation of your data.\n",
    "- - -"
   ]
  },
  {
   "cell_type": "code",
   "execution_count": null,
   "metadata": {},
   "outputs": [],
   "source": [
    "try:\n",
    "    while True:\n",
    "        acquire(sampling_rate, y, line, fig, number_of_samples)\n",
    "except KeyboardInterrupt:\n",
    "    print('done acquiring!')\n",
    "    np.savetxt('heartbeat_ini.txt', y)"
   ]
  },
  {
   "attachments": {},
   "cell_type": "markdown",
   "metadata": {},
   "source": [
    "Re-run the above cell as many times as necessary to obtain a good, clean measurement that shows a clear heartbeat pattern. You can modify the y-axis limits to improve the visibility of the signal behavior.\n",
    "\n",
    "Take a look at the file you just created, if needed. You should be able to open it right here in JupyterLab. It will display a long list of numbers.\n",
    "\n",
    "It is good practice to use a separate document to store your data. By storing your data outside of the document used for analysis, you can perform multiple analyses without the risk of modifying your original data. Therefore, **save a copy of the data as `heartbeat_backup.txt` before proceeding with the lab.**"
   ]
  },
  {
   "attachments": {},
   "cell_type": "markdown",
   "metadata": {},
   "source": [
    "### <span style=\"color:red\"> Exercise 2</span>\n",
    "\n",
    "To get to a final random sequence, use your measurements from `heartbeat_ini.txt` (or `heartbeat_backup.txt` if you were having trouble with the data collection). For each measurement, subtract the minimum value and convert the result to binary. Continue for all the measurements like in Method A.\n",
    "\n",
    "After collecting a few seconds' worth of heartbeat measurements, apply Method B and print the first 10 binary digits of the resulting sequence.\n",
    "\n",
    "(Hint: look into the np.loadtxt() function)\n",
    "\n",
    "<h3 style=\"background-color:lightblue\"> Write Answers for Exercise 2 Below </h3>"
   ]
  },
  {
   "cell_type": "code",
   "execution_count": null,
   "metadata": {},
   "outputs": [],
   "source": []
  },
  {
   "attachments": {},
   "cell_type": "markdown",
   "metadata": {},
   "source": [
    "### Method C\n",
    "\n",
    "A camera, like any sensor, is susceptible to noise, and we can utilize this noise for a random number generator (RNG). Follow the wiring instructions from Lab 4 to connect the camera component to the Pico.\n",
    "\n",
    "Our cameras return a grayscale image with dimensions of $96\\times 96$. If we capture a noisy scene, we can flatten the image into a 1-dimensional sequence of length $96^2 = 9216$ and transform it into a binary sequence based on parity (whether the values are even or odd). You can choose how to transform the $96\\times 96$ image array into a 1-dimensional sequence. For the noisy scene, we'll use the floor."
   ]
  },
  {
   "attachments": {},
   "cell_type": "markdown",
   "metadata": {},
   "source": [
    "### <span style=\"color:red\"> Exercise 3</span>\n",
    "\n",
    "Use Method C on an image you captured and print the first 10 binary digits of the sequence. "
   ]
  },
  {
   "cell_type": "code",
   "execution_count": null,
   "metadata": {},
   "outputs": [],
   "source": [
    "import time\n",
    "import serial\n",
    "from serial.tools import list_ports\n",
    "%matplotlib widget\n",
    "\n",
    "PICO_HWID = \"2E8A\"\n",
    "\n",
    "\n",
    "def get_pico_port():\n",
    "    pico_ports = list(list_ports.grep(PICO_HWID))\n",
    "    if len(pico_ports) == 0:\n",
    "        raise Exception(\n",
    "            \"No Raspberry Pi Pico was detected. Check to make sure it is plugged in, and that no other programs are accessing it\"\n",
    "        )\n",
    "    return pico_ports[0].device\n",
    "\n",
    "\n",
    "print(\"Here are all the serial devices detected:\")\n",
    "for port in list_ports.comports():\n",
    "    print(port.device, port.hwid)\n",
    "\n",
    "port = get_pico_port()\n",
    "print(f\"\\nselected port {port} as most likely to have a raspberry pi pico\")"
   ]
  },
  {
   "cell_type": "code",
   "execution_count": null,
   "metadata": {},
   "outputs": [],
   "source": [
    "buffer = bytearray(96 * 96)\n",
    "img = np.zeros(shape=(96, 96), dtype=\"uint8\")\n",
    "\n",
    "with serial.Serial(port, timeout=1) as s:\n",
    "    s.read_until(b\"\\x55\\xAA\")\n",
    "    s.readinto(buffer)\n",
    "    img.flat[::-1] = buffer\n",
    "\n",
    "plt.imshow(img, cmap=\"gray\")\n",
    "plt.show()"
   ]
  },
  {
   "attachments": {},
   "cell_type": "markdown",
   "metadata": {},
   "source": [
    "<h3 style=\"background-color:lightblue\"> Write Answers for Exercise 3 Below </h3>"
   ]
  },
  {
   "cell_type": "code",
   "execution_count": null,
   "metadata": {},
   "outputs": [],
   "source": []
  },
  {
   "attachments": {},
   "cell_type": "markdown",
   "metadata": {},
   "source": [
    "### Method D\n",
    "\n",
    "The Mersenne Twister is a pseudorandom number generator (PRNG) implemented in many products, including Python. It derives its name from a special type of prime number known as a Mersenne prime. Mersenne primes are prime numbers in the form of $2^p-1$, and as of December 2022, only 51 Mersenne primes have been discovered (with 48 verified). The intricate details of the Mersenne Twister algorithm go beyond the scope of this lab. Surprisingly, the algorithm itself doesn't involve complex arithmetic operations like multiplication or addition.\n",
    "\n",
    "Here's a quick example on how to use the `randint` function from Python's random module, which relies on the Mersenne Twister.\n"
   ]
  },
  {
   "cell_type": "code",
   "execution_count": null,
   "metadata": {},
   "outputs": [],
   "source": [
    "from random import randint\n",
    "\n",
    "x = [randint(0,1) for i in range(10)]\n",
    "print(x)"
   ]
  },
  {
   "attachments": {},
   "cell_type": "markdown",
   "metadata": {},
   "source": []
  },
  {
   "attachments": {},
   "cell_type": "markdown",
   "metadata": {},
   "source": [
    "## <span style=\"color:green;\"> Reflection </span>\n",
    "\n",
    "1. List whether each method was truly random or pseudorandom.<br>\n",
    "2. Which part of the lab did you find the most challenging? <br>\n",
    "3. Which part of the lab did was the easiest?\n",
    "\n",
    "<h3 style=\"background-color:lightblue\"> Write Answers for the Reflection Below </h3>"
   ]
  },
  {
   "attachments": {},
   "cell_type": "markdown",
   "metadata": {},
   "source": []
  },
  {
   "attachments": {},
   "cell_type": "markdown",
   "metadata": {},
   "source": [
    "## References\n",
    "1. Elgendi M. On the analysis of fingertip photoplethysmogram signals. Curr Cardiol Rev. 2012 Feb;8(1):14-25. doi: 10.2174/157340312801215782.\n",
    "\n",
    "2. Junyung Park, Hyeon Seok Seok, Sang-Su Kim1 and Hangsik Shin. Photoplethysmogram Analysis and Applications: An Integrative Review. Front. Physiol., 01 March 2022. Sec. Vascular Physiology. https://doi.org/10.3389/fphys.2021.808451. \n",
    "\n",
    "3. Pankaj, Kumar, A., Komaragiri, R. et al. A Review on Computation Methods Used in Photoplethysmography Signal Analysis for Heart Rate Estimation. Arch Computat Methods Eng 29, 921–940 (2022). https://doi.org/10.1007/s11831-021-09597-4"
   ]
  }
 ],
 "metadata": {
  "interpreter": {
   "hash": "5733b5ebf5ecec2b002a59c36710d44decb4334b28aff8074b4cca610e6649ad"
  },
  "kernelspec": {
   "display_name": "Python 3",
   "language": "python",
   "name": "python3"
  },
  "language_info": {
   "codemirror_mode": {
    "name": "ipython",
    "version": 3
   },
   "file_extension": ".py",
   "mimetype": "text/x-python",
   "name": "python",
   "nbconvert_exporter": "python",
   "pygments_lexer": "ipython3",
   "version": "3.8.3"
  }
 },
 "nbformat": 4,
 "nbformat_minor": 5
}
