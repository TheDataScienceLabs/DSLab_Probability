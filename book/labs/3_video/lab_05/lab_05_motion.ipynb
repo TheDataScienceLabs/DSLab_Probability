{
 "cells": [
  {
   "attachments": {},
   "cell_type": "markdown",
   "id": "a86c853b-b82f-4883-bf03-15a2c05b87db",
   "metadata": {},
   "source": [
    "# Week 8: Motion Detection\n",
    "\n",
    "<font size=\"6\"> Laboratory 5 </font> <br>\n",
    "<font size=\"3\"> Last updated April 24, 2023 </font>"
   ]
  },
  {
   "attachments": {},
   "cell_type": "markdown",
   "id": "e90879f5-f730-44da-ad7a-be77ee8b2eaa",
   "metadata": {},
   "source": [
    "## <span style=\"color:orange;\"> 00. Content </span>"
   ]
  },
  {
   "attachments": {},
   "cell_type": "markdown",
   "id": "ba827722-0c2f-493b-a2d2-d7f0bda08882",
   "metadata": {},
   "source": [
    "<font size=\"5\"> Mathematics </font>\n",
    "- Probability Mass Functions\n",
    "     \n",
    "<font size=\"5\"> Programming Skills </font>\n",
    "- Functions and Modules\n",
    "    \n",
    "<font size=\"5\"> Embedded Systems </font>\n",
    "- Thonny and Micropython"
   ]
  },
  {
   "attachments": {},
   "cell_type": "markdown",
   "id": "40ef17dd-1c68-43ed-9406-c2b55840c4b5",
   "metadata": {},
   "source": [
    "## <span style=\"color:orange;\"> 0. Required Hardware </span>"
   ]
  },
  {
   "attachments": {},
   "cell_type": "markdown",
   "id": "ec4e4a28-936f-4676-8286-c69f06d2ac08",
   "metadata": {},
   "source": [
    "- Microcontroller: Raspberry Pi Pico\n",
    "- Breadboard\n",
    "- USB connector\n",
    "- Camera\n",
    "- 8 Wires"
   ]
  },
  {
   "attachments": {},
   "cell_type": "markdown",
   "id": "60f85e09-35cc-47d9-b1d8-6e88b0fb6416",
   "metadata": {},
   "source": [
    "\n",
    "\n",
    "<h3 style=\"background-color:lightblue\"> Write your name and email below: </h3>\n",
    "\n",
    "**Name:** \n",
    "\n",
    "**Email:**\n",
    "\n",
    "*You may work in groups of 2-3 for this lab.*\n",
    "\n",
    "**Groupmate(s):**"
   ]
  },
  {
   "cell_type": "code",
   "execution_count": 1,
   "id": "61de84c8",
   "metadata": {},
   "outputs": [],
   "source": [
    "import numpy as np\n",
    "import matplotlib.pyplot as plt\n",
    "import cv2"
   ]
  },
  {
   "attachments": {},
   "cell_type": "markdown",
   "id": "a9b4a375-00e6-40d3-bea2-dcc8a1492083",
   "metadata": {},
   "source": [
    "## <span style=\"color:orange;\"> 1. Background Subtraction </span>\n",
    "\n",
    "There is a popular image processing technique called background subtraction. The most effective way to utilize background subtraction for motion detection is when:\n",
    "\n",
    "1. the camera is stationary\n",
    "2. the background is static\n",
    "3. the lighting conditions do not change\n",
    "4. there is minimal noise in the image\n",
    "\n",
    "One scenario where all of these conditions are met is in production/manufacturing lines. In controlled indoor environments, long-term changes are rare.\n",
    "\n",
    "Essentially, background subtraction allows for the separation of the background from the foreground in an image. For instance, if a camera is set up to monitor a doorway, most of the time, nothing is in motion within the frame. By selecting an initial reference frame, we can compare all subsequent frames to the reference frame."
   ]
  },
  {
   "cell_type": "code",
   "execution_count": 2,
   "id": "b45b9b39",
   "metadata": {},
   "outputs": [],
   "source": [
    "vid = cv2.VideoCapture('test_vid.mov') \n",
    "height = vid.get(cv2.CAP_PROP_FRAME_HEIGHT)\n",
    "width  = vid.get(cv2.CAP_PROP_FRAME_WIDTH) \n",
    "scale = 0.125                                           # smaller scale for faster computations\n",
    "new_size = (int(width*scale),int(height*scale))\n",
    "frames = []                                             # saving frames to a list so that you can try\n",
    "                                                        # methods quickly without reloading the video\n",
    "while vid.isOpened():   \n",
    "    success, frame = vid.read()\n",
    "    if not success:\n",
    "        print(\"Unable to read frame. Exiting ...\")\n",
    "        break\n",
    "    frame = cv2.cvtColor(frame, cv2.COLOR_BGR2GRAY)\n",
    "    frame = cv2.resize(frame,dsize=new_size)\n",
    "    frames.append(frame)\n",
    "    cv2.imshow('frame', frame)                          # display grayscaled video resized, no other alterations\n",
    "    if cv2.waitKey(25) == ord('q'):                     # press Q on keyboard to stop\n",
    "        break\n",
    "vid.release()\n",
    "cv2.destroyAllWindows()"
   ]
  },
  {
   "attachments": {},
   "cell_type": "markdown",
   "id": "5259bfd5",
   "metadata": {},
   "source": [
    "Background subtraction refers to a whole class of methods. However, for the scope of this lab, we will only be using one specific method. To demonstrate an example, we will utilize the same test video from the previous lab. To keep things concise, we won't delve into the detailed workings of `cv2.createBackgroundSubtractorMOG2()`. Generally, this method is slightly more robust against illumination changes. The output of the background subtraction function is known as a *mask*, which indicates that **the output is a binary image**. Pixel values in the mask are either 0 (representing the background) or 255 (representing the foreground).\n",
    "\n",
    "Run the cell to observe the results!"
   ]
  },
  {
   "cell_type": "code",
   "execution_count": 8,
   "id": "097e595a",
   "metadata": {},
   "outputs": [],
   "source": [
    "fgbg = cv2.createBackgroundSubtractorMOG2(detectShadows=False)      # define this before looping through the frames\n",
    "\n",
    "for f in frames:\n",
    "    img = fgbg.apply(f)\n",
    "    cv2.imshow('background subtracted frame',img)\n",
    "    if cv2.waitKey(25) == ord('q'):                                 # press Q on keyboard to stop\n",
    "        break\n",
    "cv2.destroyAllWindows()"
   ]
  },
  {
   "attachments": {},
   "cell_type": "markdown",
   "id": "279f9240",
   "metadata": {},
   "source": [
    "## <span style=\"color:orange;\"> 2. Motion Detection and Localization </span>\n"
   ]
  },
  {
   "attachments": {},
   "cell_type": "markdown",
   "id": "7636de42-f083-40b1-8510-b5a0e6a57eeb",
   "metadata": {},
   "source": [
    "### <span style=\"color:red\"> Exercise 1</span>\n",
    "\n",
    "Suppose we apply background subtraction to each video frame and divide the frame into an $M\\times N$ grid, resulting in a total of $MN$ blocks. Can you consider a (mathematical) rule to determine whether there is movement in a specific block?\n",
    "\n",
    "*Hint: Would the proportion of certain grayscale values be high or low when there is motion?*\n",
    "\n",
    "<h3 style=\"background-color:lightblue\"> Write Answers for Exercise 1 Below </h3>"
   ]
  },
  {
   "attachments": {},
   "cell_type": "markdown",
   "id": "29f00a49",
   "metadata": {},
   "source": []
  },
  {
   "attachments": {},
   "cell_type": "markdown",
   "id": "2adf1b0e",
   "metadata": {},
   "source": [
    "## <span style=\"color:orange;\"> 3. Connecting the Camera </span>\n",
    "\n",
    "This time, we will record our own videos using the Arducam HM01B0, which is a small camera that can be connected to the Pico. \n",
    "\n",
    "### Wiring Instructions\n",
    "\n",
    "Please ensure that your microcontroller is not connected to the computer while you are wiring components together. If you are unsure about your wiring, please consult the instructor. Use your jumper wires to establish the following connections:\n",
    "\n",
    "| HM01B0 | Pico |\n",
    "|--------|------|\n",
    "| VCC    | 3V3  |\n",
    "| SCL    | GP5  |\n",
    "| SDA    | GP4  |\n",
    "| VSYNC  | GP16 |\n",
    "| HREF   | GP15 |\n",
    "| PCLK   | GP14 |\n",
    "| DO     | GP6  |\n",
    "| GND    | GND  |\n",
    "\n",
    "Here is an image of the completed breadboard:\n",
    "\n",
    "![img](./images/HM01B0_and_pico.png)\n",
    "\n",
    "<!-- ![img](camera.jpg)\n",
    "\n",
    "*Wiring the Arducam HM01B0 camera* \n",
    "\n",
    "![img](camerawiring.jpg)\n",
    "\n",
    "*Connections to the PICO on breadboard* -->\n",
    "\n",
    "To find the names of the pins on the Raspberry Pi Pico, you can refer to its pinout diagram located [here](https://datasheets.raspberrypi.com/pico/Pico-R3-A4-Pinout.pdf) or in the Extra Materials section. The HM01B0, on the other hand, should have its pins labeled.\n",
    "\n",
    "After confirming that the wiring is correct, press and hold the BOOTSEL button on the Pico while plugging it in. Download the [arducam.uf2](https://github.com/TheDataScienceLabs/DataLab_Multivariate_Calculus/blob/main/book/labs/2_Video_Labs/arducam.uf2) file and copy it onto the Pico's drive using your computer's file manager (it should be listed as an external drive: \"RPI-RP2\") and not with Thonny. Once the file transfer is complete, the Pico will automatically disconnect, and its LED will start blinking rapidly. \n",
    "\n",
    "Once the Pico has been successfully connected, please execute the following cell to ensure that we have successfully detected the Pico."
   ]
  },
  {
   "attachments": {},
   "cell_type": "markdown",
   "id": "00c0d30f",
   "metadata": {},
   "source": [
    "### <span style=\"color:red\"> Exercise 2</span>\n",
    "\n",
    "Using your camera, locate the area of motion in the video frame in real time (or near real time). You can employ any method to accomplish this, whether it involves background subtraction, your solution to the previous exercise, a combination of the two, or any other approach you can think of. Determine how to visually indicate the detected movement on the camera, such as printing a statement in Python or drawing a rectangle on the frame.\n",
    "\n",
    "Display all the code you used in a cell below.\n",
    "\n",
    "*Note: If you encounter significant hardware issues, you can try applying your method to the test video instead.*\n",
    "\n",
    "<h3 style=\"background-color:lightblue\"> Write Answers for Exercise 2 Below </h3>"
   ]
  },
  {
   "cell_type": "code",
   "execution_count": null,
   "id": "9baed999",
   "metadata": {},
   "outputs": [],
   "source": []
  },
  {
   "attachments": {},
   "cell_type": "markdown",
   "id": "e10cca26",
   "metadata": {},
   "source": [
    "### <span style=\"color:red\"> Exercise 3</span>\n",
    "\n",
    "Provide a description of how effectively the motion detector/locator works in a paragraph or two. What methods did your group try? What challenges arose, and were you able to resolve any of them?\n",
    "\n",
    "<h3 style=\"background-color:lightblue\"> Write Answers for Exercise 3 Below </h3>"
   ]
  },
  {
   "attachments": {},
   "cell_type": "markdown",
   "id": "58811bb8",
   "metadata": {},
   "source": []
  },
  {
   "attachments": {},
   "cell_type": "markdown",
   "id": "cc30300b",
   "metadata": {},
   "source": [
    "## <span style=\"color:green\"> Reflection </span>\n",
    "\n",
    "Who would win in a fight? A billion lions or all the pokemon? Discuss with your group."
   ]
  }
 ],
 "metadata": {
  "interpreter": {
   "hash": "5733b5ebf5ecec2b002a59c36710d44decb4334b28aff8074b4cca610e6649ad"
  },
  "kernelspec": {
   "display_name": "Python 3 (ipykernel)",
   "language": "python",
   "name": "python3"
  },
  "language_info": {
   "codemirror_mode": {
    "name": "ipython",
    "version": 3
   },
   "file_extension": ".py",
   "mimetype": "text/x-python",
   "name": "python",
   "nbconvert_exporter": "python",
   "pygments_lexer": "ipython3",
   "version": "3.8.5"
  }
 },
 "nbformat": 4,
 "nbformat_minor": 5
}
