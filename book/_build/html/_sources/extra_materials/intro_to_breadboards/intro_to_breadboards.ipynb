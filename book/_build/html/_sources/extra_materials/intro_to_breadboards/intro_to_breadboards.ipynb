{
 "cells": [
  {
   "attachments": {},
   "cell_type": "markdown",
   "id": "14966487-8f46-4542-9edf-c37d58842cde",
   "metadata": {},
   "source": [
    "# Introduction to Breadboards\n",
    "\n",
    "<font size=\"6\"> Extra material </font> <br>\n",
    "<font size=\"3\"> Last updated January 9, 2023 </font>"
   ]
  },
  {
   "attachments": {},
   "cell_type": "markdown",
   "id": "39966a25-ebde-4ae2-a284-fcd104e582e8",
   "metadata": {},
   "source": [
    "## <span style=\"color:orange;\"> 00. Content </span>"
   ]
  },
  {
   "attachments": {},
   "cell_type": "markdown",
   "id": "164b3116-a330-4ab0-9d2a-3c5db0353be9",
   "metadata": {},
   "source": [
    "### Mathematics \n",
    "- N/A\n",
    "     \n",
    "### Programming Skills\n",
    "- N/A\n",
    "\n",
    "### Embedded Systems \n",
    "- N/A"
   ]
  },
  {
   "attachments": {},
   "cell_type": "markdown",
   "id": "9b1ac2c7-fcfe-42ac-8494-6024ababd738",
   "metadata": {},
   "source": [
    "## <span style=\"color:orange;\"> 0. Required Hardware </span>"
   ]
  },
  {
   "attachments": {},
   "cell_type": "markdown",
   "id": "3583270a-d0e4-46be-a7ca-f85f1191e643",
   "metadata": {},
   "source": [
    "- Breadboard\n",
    "- Wires\n",
    "- LED\n",
    "- 9V battery\n",
    "- Voltage Regulator IC (LM 7805)\n",
    "- 220 ohm resistor"
   ]
  },
  {
   "attachments": {},
   "cell_type": "markdown",
   "id": "8d7778a1-2662-4cd7-8ebf-11fe4e49894c",
   "metadata": {},
   "source": [
    "## <span style=\"color:orange;\"> 1. Breadboard Connections </span>"
   ]
  },
  {
   "attachments": {},
   "cell_type": "markdown",
   "id": "38940ffe-80e0-411f-a63e-fa89f2fb1b61",
   "metadata": {},
   "source": [
    "We will be using a breadboard throughout the labs to temporarily prototype all the experiments as it is easy to use without any soldering.\n",
    "\n",
    "A typical breadboard looks like this:\n",
    "\n",
    "![breadboard](./pictures/breadboard.jpg)\n",
    "\n",
    "The outer two rows on the top and bottom of the board are linked horizontally, which means that any two points on the same row will have the same electrical connection. The remaining areas are linked vertically in columns until the middle ridge. You can easily grasp this concept by taking a look at the inside of the breadboard.\n",
    "\n",
    "![breadboard_internal](./pictures/breadboard_internal.jpg)\n",
    "\n",
    "### Some Important Notes:\n",
    "1. The majority of electronic components used in the lab require either 3.3V or 5V DC power.\n",
    "2. If you are uncertain about the safe operation of a component or any equipment in the lab, please consult a TA.\n",
    "3. The longest leg of an LED is the anode, which should be connected to the positive side.\n",
    "4. Always check with a member of the teaching staff before powering up the circuit.\n",
    "\n",
    "### <span style=\"color:red\"> Exercise: </span> Wiring an LED on a breadboard\n",
    "\n",
    "The image below displays a voltage regulator IC that we will utilize to regulate the voltage to protect our circuit. We require this regulator because the battery we are using to power the circuit provides 9 volts, and we will employ this IC to lower the voltage to 5V.\n",
    "\n",
    "![voltage_regulator_ic](./pictures/voltage_regulator_ic.jpg)\n",
    "\n",
    "When you face the IC as depicted in the figure above, the left pin serves as the input, the middle pin functions as the common ground, and the right pin acts as the output voltage (5V relative to ground).\n",
    "\n",
    "Now you can begin wiring the circuit on the breadboard using this circuit diagram.\n",
    "\n",
    "The circuit will look something like this.\n",
    "\n",
    "![circuit_diagram](./pictures/circuit_diagram.png)\n",
    "\n",
    "The output of the voltage regulator will be 5V, but our LED is rated for 2.5-3V. Therefore, we will include a 220 ohm resistor in series with the LED to prevent it from being damaged.\n",
    "\n",
    "If your circuit connections are correct, the LED should illuminate."
   ]
  },
  {
   "attachments": {},
   "cell_type": "markdown",
   "id": "f721223c-5aa5-4e05-8ced-0d2bbf745504",
   "metadata": {
    "tags": []
   },
   "source": [
    "## <span style=\"color:orange;\"> 2. Submitting this Exercise </span>"
   ]
  },
  {
   "attachments": {},
   "cell_type": "markdown",
   "id": "e5782dd2-29e5-4c7a-9c9e-2c0549e40fc2",
   "metadata": {},
   "source": [
    "You do not need to submit this exercise virtually. Once you have completed it, simply raise your hand, and your instructor will come to check your breadboard."
   ]
  }
 ],
 "metadata": {
  "kernelspec": {
   "display_name": "Python 3",
   "language": "python",
   "name": "python3"
  },
  "language_info": {
   "codemirror_mode": {
    "name": "ipython",
    "version": 3
   },
   "file_extension": ".py",
   "mimetype": "text/x-python",
   "name": "python",
   "nbconvert_exporter": "python",
   "pygments_lexer": "ipython3",
   "version": "3.8.8"
  },
  "vscode": {
   "interpreter": {
    "hash": "31f2aee4e71d21fbe5cf8b01ff0e069b9275f58929596ceb00d14d90e3e16cd6"
   }
  }
 },
 "nbformat": 4,
 "nbformat_minor": 5
}
