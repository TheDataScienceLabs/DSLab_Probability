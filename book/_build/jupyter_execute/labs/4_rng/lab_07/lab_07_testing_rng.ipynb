{
 "cells": [
  {
   "attachments": {},
   "cell_type": "markdown",
   "id": "a86c853b-b82f-4883-bf03-15a2c05b87db",
   "metadata": {},
   "source": [
    "# Week 10: Evaluating Random Number Generators\n",
    "\n",
    "<font size=\"6\"> Laboratory 7 </font> <br>\n",
    "<font size=\"3\"> Last updated May 8, 2023 </font>"
   ]
  },
  {
   "attachments": {},
   "cell_type": "markdown",
   "id": "e90879f5-f730-44da-ad7a-be77ee8b2eaa",
   "metadata": {},
   "source": [
    "## <span style=\"color:orange;\"> 00. Content </span>"
   ]
  },
  {
   "attachments": {},
   "cell_type": "markdown",
   "id": "ba827722-0c2f-493b-a2d2-d7f0bda08882",
   "metadata": {},
   "source": [
    "<font size=\"5\"> Mathematics </font>\n",
    "- N/A\n",
    "     \n",
    "<font size=\"5\"> Programming Skills </font>\n",
    "- Functions\n",
    "- Arrays\n",
    "    \n",
    "<font size=\"5\"> Embedded Systems </font>\n",
    "- Thonny & MicroPython"
   ]
  },
  {
   "attachments": {},
   "cell_type": "markdown",
   "id": "40ef17dd-1c68-43ed-9406-c2b55840c4b5",
   "metadata": {},
   "source": [
    "## <span style=\"color:orange;\"> 0. Required Hardware </span>"
   ]
  },
  {
   "attachments": {},
   "cell_type": "markdown",
   "id": "ec4e4a28-936f-4676-8286-c69f06d2ac08",
   "metadata": {},
   "source": [
    "- see Lab 6"
   ]
  },
  {
   "attachments": {},
   "cell_type": "markdown",
   "id": "60f85e09-35cc-47d9-b1d8-6e88b0fb6416",
   "metadata": {},
   "source": [
    "<h3 style=\"background-color:lightblue\"> Write your name and email below: </h3>\n",
    "\n",
    "**Name:** \n",
    "\n",
    "**Email:** "
   ]
  },
  {
   "attachments": {},
   "cell_type": "markdown",
   "id": "a9b4a375-00e6-40d3-bea2-dcc8a1492083",
   "metadata": {},
   "source": [
    "## <span style=\"color:orange;\">1. Mathematical Tests for RNGs </span>\n",
    "\n",
    "Given the importance of random number generators (RNGs) in areas such as cryptography, it is clear that there is a need for secure RNGs. The National Institute of Standards and Technology (NIST) has developed formal tests to assist in evaluating the randomness of a randomly generated binary sequence consisting of 0s and 1s. In this lab, we will implement several of these NIST tests and attempt to determine which of the RNGs from the previous lab perform the best."
   ]
  },
  {
   "cell_type": "code",
   "execution_count": null,
   "id": "11e1d99a",
   "metadata": {},
   "outputs": [],
   "source": [
    "import numpy as np\n",
    "\n",
    "# importing the first 3 rows of the data as a string\n",
    "# prints the first 3 values as one string\n",
    "x = np.loadtxt(\"rng_test_data.txt\", dtype=str, max_rows=3) \n",
    "seq = ''.join(x)\n",
    "print(seq)\n",
    "\n",
    "# importing all data as a floating point number\n",
    "# prints the first 3 values of the numpy array\n",
    "y = np.loadtxt(\"rng_test_data.txt\", dtype=str)\n",
    "y = np.array([float(int(i, 2)) for i in y])\n",
    "print(y[:3])\n"
   ]
  },
  {
   "attachments": {},
   "cell_type": "markdown",
   "id": "77abeacc",
   "metadata": {},
   "source": [
    "\n",
    "### Monobit Frequency Test\n",
    "\n",
    "An ideal binary random number generator would have approximately the same number of ones and zeros in a sequence. The Monobit Frequency Test quantifies how close the fraction of ones in the sequence matches $\\frac{1}{2}$. The steps of the test are as follows:\n",
    "\n",
    "1. For each bit within every binary data value $X_1,X_2,\\dots,X_{n}$, where $X_i$ is a binary bit, apply the transformation $Y_i = 2X_i - 1$ for $i=1,2,\\dots,n$.\n",
    "1. Compute the values of $s$ using the formula: $$ s = \\frac{|Y_1+Y_2+\\cdots+Y_n|}{\\sqrt{n}}.$$\n",
    "1. If $s > 2.57583$, then conclude that the sequence $(X_1,X_2,\\dots,X_n)$ is non-random. The best-case scenario for this computation is when $s = 0$, indicating an equal number of 1s and 0s in the sequence.\n",
    "\n",
    "According to NIST, the parameter $n$ should be at least 100.\n",
    "\n",
    "### <span style=\"color:red\"> Exercise 1</span>\n",
    "\n",
    "__Part 1:__ In Step 1, describe how the transformation affects the ones and zeros in the original random sequence.\n",
    "\n",
    "__Part 2:__ If $|Y_1+Y_2+\\cdots+Y_n|$ is large, what does that imply about the original sequence $(X_1,X_2,\\dots,X_{n})$?\n",
    "\n",
    "__Part 3:__ Implement the Monobit Frequency Test on the test data.\n",
    "\n",
    "<h3 style=\"background-color:lightblue\"> Write Answers for Exercise 1 Below </h3>"
   ]
  },
  {
   "cell_type": "code",
   "execution_count": null,
   "id": "1572c3f2",
   "metadata": {},
   "outputs": [],
   "source": []
  },
  {
   "attachments": {},
   "cell_type": "markdown",
   "id": "810a5dcb",
   "metadata": {},
   "source": [
    "\n",
    "### Monobit Block Frequency Test\n",
    "\n",
    "This test also tests the proportion of ones and zeros in the random sequence but in size $M$ blocks instead of the entire sequence. Here are the steps:\n",
    "\n",
    "1. Separate the binary data values $X_1,X_2,\\dots,X_{M\\cdot N}$ into $N$ non-overlapping blocks of length $M$.\n",
    "1. For each block, compute the proportion of ones that occur in the length $M$ sequence. \n",
    "Denote the proportion of ones in block $i$ by $\\pi_i$ for $i=1,2,\\dots,N$.\n",
    "1. Compute $$ t = 4M \\sum_{i=1}^N \\left(\\pi_i-\\frac12 \\right)^2. $$\n",
    "1. If $G(N/2,t/2) < 0.01$, then conclude that the sequence $(X_1,X_2,\\dots,X_{M\\cdot N})$ is non-random. The function $G$ is the normalized incomplete Gamma function.\n",
    "\n",
    "NIST recommends $20 \\leq M < 100$ and $N \\leq 100$.\n",
    "\n",
    "### <span style=\"color:red\"> Exercise </span>\n",
    "\n",
    "__Part 1:__ If $t$ is large, what does that imply about the original sequence $(X_1,X_2,\\dots,X_{M\\cdot N})$\n",
    "\n",
    "__Part 2:__ Choose appropriate values for $M$ and $N$. Implement the Monobit Block Frequency Test on the test data.\n",
    "\n",
    "<h3 style=\"background-color:lightblue\"> Write Answer for Exercise Below </h3>"
   ]
  },
  {
   "cell_type": "code",
   "execution_count": null,
   "id": "21f3d361",
   "metadata": {},
   "outputs": [],
   "source": [
    "# here's how to import and use the normalized incomplete Gamma function.\n",
    "from scipy.special import gammaincc as G\n",
    "\n",
    "G(N/2, t/2) # you will first need to define N and t"
   ]
  },
  {
   "attachments": {},
   "cell_type": "markdown",
   "id": "509a5ef4",
   "metadata": {},
   "source": [
    "### Cumulative Sum Test\n",
    "\n",
    "This test helps determine if the cumulative sum of the adjusted partial sequences is too large or small. For many non-random sequences the cumulative sums will stray from zero. Here are the steps:\n",
    "\n",
    "1. With binary data values $X_1,X_2,\\dots,X_{n}$, apply the transformation $Y_i = 2X_i - 1$ for $i=1,2,\\dots,n$.\n",
    "1. Compute the forward partial sums\n",
    "\\begin{align*}\n",
    "    S_1 &= Y_1 \\\\\n",
    "    S_2 &= Y_1+Y_2 \\\\\n",
    "    S_3 &= Y_1+Y_2+Y_3\\\\\n",
    "    \\vdots \\\\\n",
    "    S_n &= Y_1 + Y_2 + \\cdots Y_n \\\\\n",
    "\\end{align*} \n",
    "and the backward partial sums\n",
    "\\begin{align*}\n",
    "    T_1 &= Y_n \\\\\n",
    "    T_2 &= Y_n+Y_{n-1} \\\\\n",
    "    \\vdots \\\\\n",
    "    T_n &= Y_n + Y_{n-1} + \\cdots Y_1 \\\\\n",
    "\\end{align*}\n",
    "1. Find $$z_{\\text{forward}} = \\max\\{|S_1|,|S_2|,\\dots,|S_n|\\}, \\quad z_{\\text{backward}} = \\max\\{|T_1|,|T_2|,\\dots,|T_n|\\}.$$\n",
    "1. Compute\n",
    "\\begin{equation*}\n",
    "    \\rho = 1 -\n",
    "        \\sum_{k=\\lfloor \\frac{-n/z+1}{4} \\rfloor}^{\\lfloor \\frac{n/z-1}{4} \\rfloor} \n",
    "            \\left[ \\Phi\\left(\\frac{(4k+1)z}{\\sqrt{n}}\\right) - \n",
    "                    \\Phi\\left(\\frac{(4k-1)z}{\\sqrt{n}}\\right) \\right]  +\n",
    "        \\sum_{k=\\lfloor \\frac{-n/z-3}{4} \\rfloor}^{\\lfloor \\frac{n/z-1}{4} \\rfloor} \n",
    "            \\left[ \\Phi\\left(\\frac{(4k+3)z}{\\sqrt{n}}\\right) - \n",
    "                    \\Phi\\left(\\frac{(4k+1)z}{\\sqrt{n}}\\right) \\right]\n",
    "\\end{equation*} \n",
    "for $z=z_{\\text{forward}}$ and $z=z_{\\text{backward}}$.\n",
    "The function $\\Phi$ is the cumulative distribution function (cdf) of the standard normal distribution, and $\\lfloor \\cdot \\rfloor$ is the floor function which returns the largest integer less than or equal to the input.\n",
    "1. If $\\rho < 0.01$, then conclude that the sequence $(X_1,X_2,\\dots,X_{n})$ is non-random.\n",
    "\n",
    "\n",
    "### <span style=\"color:red\"> Exercise </span>\n",
    "\n",
    "Choose a value for $n$. NIST suggests $n \\geq 100$. Implement the Cumulative Sum Test forwards and backwards on the test data.\n",
    "\n",
    "<h3 style=\"background-color:lightblue\"> Write Answer for Exercise Below </h3>"
   ]
  },
  {
   "cell_type": "code",
   "execution_count": null,
   "id": "24f57a46",
   "metadata": {},
   "outputs": [],
   "source": [
    "# here's how to import and use the cdf of the standard normal distribution\n",
    "from scipy.stats import norm\n",
    "import numpy as np\n",
    "\n",
    "norm.cdf(x) # you will first need to define x \n",
    "\n",
    "np.floor(1.2)"
   ]
  },
  {
   "attachments": {},
   "cell_type": "markdown",
   "id": "9dce0ba4",
   "metadata": {},
   "source": [
    "### Runs Test\n",
    "\n",
    "The runs test measures how much the random sequence oscillates between zero and one. The test formalizes that for a true random sequence, the probability the next value in the sequence is different than the previous value follows a binomial distribution.\n",
    "\n",
    "A run is a series of values of one kind. For example, $0011010000100111$ has 8 runs. \n",
    "Here are the steps:\n",
    "\n",
    "1. Count the number of runs $R$ in the sequence $(X_1,X_2,\\dots,X_n)$.\n",
    "1. Let $n_0$ be the number of zeros and $n_1$ the number of ones in the sequence. Compute $$q = \\frac{|R - \\overline{R}|}{u}$$ where $$\\overline{R} = \\frac{2n_0n_1}{n}+1,\\quad u^2=\\frac{2n_0n_1(2n_0n_1-n_0-n_1)}{n^2(n+1)}.$$\n",
    "$\\overline{R}$ is the expected number of runs in the sequence.\n",
    "1. If $q > 2.57583$, then conclude that the sequence $(X_1,X_2,\\dots,X_n)$ is non-random.\n",
    "\n",
    "### <span style=\"color:red\"> Exercise </span>\n",
    "\n",
    "Choose a value for $n$. NIST suggests $n \\geq 100$. Implement the Runs test on the test data.\n",
    "\n",
    "<h3 style=\"background-color:lightblue\"> Write Answer for Exercise Below </h3>"
   ]
  },
  {
   "attachments": {},
   "cell_type": "markdown",
   "id": "4a3a389f",
   "metadata": {},
   "source": []
  },
  {
   "attachments": {},
   "cell_type": "markdown",
   "id": "3140c3d5",
   "metadata": {},
   "source": [
    "### <span style=\"color:red\"> Exercise </span>\n",
    "\n",
    "We will say that a random sequence passes if all 5 tests (Monobit Frequency, Monobit Block Frequency, Forward Cumulative Sum, Backward Cumulative Sum, and Runs) pass.\n",
    "\n",
    "Compare the pass rates among the random number generators using Method A, B, C, and D based on at least 10 runs (that's 40 random sequences in total from data you collected).\n",
    "\n",
    "In two paragraphs, summarize your results. Include details of the parameters you chose for the tests and RNGs. Which generators seem to be doing well? Is there one test that fails frequently? Do you think further testing is necessary? Why or why not?\n",
    "\n",
    "<h3 style=\"background-color:lightblue\"> Write Answer for Exercise Below </h3>"
   ]
  },
  {
   "cell_type": "code",
   "execution_count": null,
   "id": "039da2a8",
   "metadata": {},
   "outputs": [],
   "source": [
    "# to help manage your files,\n",
    "# in the same directory as this lab .ipynb file, create a folder called folder_of_data (or whatever name you like)\n",
    "# and move rng_test_data.txt into the folder\n",
    "# then you can load your data with the updated path to rng_test_data.txt\n",
    "x = np.loadtxt(\"folder_of_data/rng_test_data.txt\", dtype=str, max_rows=3) \n",
    "seq = ''.join(x)\n",
    "print(seq)\n",
    "\n",
    "# another tip for file naming\n",
    "# it is easy to load your files if you name them well\n",
    "for run_number in range(1,10+1):\n",
    "    print(f\"method_A/run_{run_number}.txt\")"
   ]
  },
  {
   "attachments": {},
   "cell_type": "markdown",
   "id": "721a6c92",
   "metadata": {},
   "source": []
  },
  {
   "attachments": {},
   "cell_type": "markdown",
   "id": "e6524592",
   "metadata": {},
   "source": [
    "## <span style=\"color:green;\"> Reflection </span>\n",
    "\n",
    "1. Are there any concepts or functions in this lab that you didn't know previously that you believe may be very helpful in later labs?\n",
    "2. Which part of the lab did you find the most challenging?\n",
    "3. Which part of the lab was the easiest?\n",
    "\n",
    "<h3 style=\"background-color:lightblue\"> Write Answers for the Reflection Below </h3>"
   ]
  },
  {
   "attachments": {},
   "cell_type": "markdown",
   "id": "19dfaeca",
   "metadata": {},
   "source": []
  }
 ],
 "metadata": {
  "interpreter": {
   "hash": "5733b5ebf5ecec2b002a59c36710d44decb4334b28aff8074b4cca610e6649ad"
  },
  "kernelspec": {
   "display_name": "Python 3 (ipykernel)",
   "language": "python",
   "name": "python3"
  },
  "language_info": {
   "codemirror_mode": {
    "name": "ipython",
    "version": 3
   },
   "file_extension": ".py",
   "mimetype": "text/x-python",
   "name": "python",
   "nbconvert_exporter": "python",
   "pygments_lexer": "ipython3",
   "version": "3.10.6"
  }
 },
 "nbformat": 4,
 "nbformat_minor": 5
}