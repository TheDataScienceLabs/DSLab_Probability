{
 "cells": [
  {
   "attachments": {},
   "cell_type": "markdown",
   "id": "a86c853b-b82f-4883-bf03-15a2c05b87db",
   "metadata": {},
   "source": [
    "# Week 3-4: Probability as a Frequency\n",
    "\n",
    "<font size=\"6\"> Laboratory 2 </font> <br>\n",
    "<font size=\"3\"> Last updated April 24, 2023 </font>"
   ]
  },
  {
   "cell_type": "markdown",
   "id": "e90879f5-f730-44da-ad7a-be77ee8b2eaa",
   "metadata": {},
   "source": [
    "## <span style=\"color:orange;\"> 00. Content </span>"
   ]
  },
  {
   "attachments": {},
   "cell_type": "markdown",
   "id": "ba827722-0c2f-493b-a2d2-d7f0bda08882",
   "metadata": {},
   "source": [
    "<font size=\"5\"> Mathematics </font>\n",
    "- sample spaces and events\n",
    "- conditional probability\n",
    "- binary numbers\n",
    "     \n",
    "<font size=\"5\"> Programming Skills </font>\n",
    "- functions\n",
    "- data visualization\n",
    "    \n",
    "<font size=\"5\"> Embedded Systems </font>\n",
    "- Thonny and MicroPython"
   ]
  },
  {
   "attachments": {},
   "cell_type": "markdown",
   "id": "40ef17dd-1c68-43ed-9406-c2b55840c4b5",
   "metadata": {},
   "source": [
    "## <span style=\"color:orange;\"> 0. Required Hardware </span>\n",
    "\n",
    "- Microcontroller: Raspberry Pi Pico\n",
    "- Breadboard\n",
    "- USB connector\n",
    "- Camera (Arducam HM01B0)"
   ]
  },
  {
   "cell_type": "markdown",
   "id": "60f85e09-35cc-47d9-b1d8-6e88b0fb6416",
   "metadata": {},
   "source": [
    "<h3 style=\"background-color:lightblue\"> Write your name and email below: </h3>\n",
    "\n",
    "**Name:** me \n",
    "\n",
    "**Email:** me @purdue.edu"
   ]
  },
  {
   "cell_type": "code",
   "execution_count": null,
   "id": "ea6d2a16",
   "metadata": {},
   "outputs": [],
   "source": [
    "import numpy as np                      \n",
    "import matplotlib.pyplot as plt       "
   ]
  },
  {
   "attachments": {},
   "cell_type": "markdown",
   "id": "86e02572",
   "metadata": {},
   "source": [
    "## <span style=\"color:orange;\"> Probability as a Frequency </span>\n",
    "\n",
    "The __sample space__ of an experiment is the set of all possible outcomes, and an __event__ is any subset of the sample space. An event occurs if the outcome of an experiment is contained in the subset defining the event. When we view probability as a frequency, the probability of an event is the relative frequency that the event occurs over many repetitions of the experiment.\n",
    "\n",
    "The Raspberry Pi Pico has its own internal temperature sensor that returns an integer between 0 and 65535. In this example, our experiment is measuring the internal temperature of the Pico, and the sample space is the set $\\{0,1,2,\\dots, 65535\\}$. We can easily compute the temperature in Celcius from the sensor reading $r$ using the formula $$ T_C =  27 - \\frac{\\frac{3.3r}{65535} - 0.706}{0.001721}.$$"
   ]
  },
  {
   "attachments": {},
   "cell_type": "markdown",
   "id": "0f6c1aa7",
   "metadata": {},
   "source": [
    "### <span style=\"color:red\"> Exercise </span>\n",
    "\n",
    "Let $E$ be the event that the Pico's internal temperature is between 70-72 degrees Fahrenheit. What subset of outcomes from the sample space $\\{0,1,2,\\dots, 65535\\}$ define event $E$?\n",
    "\n",
    "<h3 style=\"background-color:lightblue\"> Write Answer for Exercise Below </h3>"
   ]
  },
  {
   "cell_type": "code",
   "execution_count": null,
   "id": "232ff969",
   "metadata": {},
   "outputs": [],
   "source": []
  },
  {
   "cell_type": "markdown",
   "id": "33e04006",
   "metadata": {},
   "source": [
    "\n",
    "The Raspberry Pi Pico also has 2MB onboard memory or flash storage, so we can save some small files of sensor data directly on the Pico. Download [pico_temperature.py]__(add link)__ from GitHub. The purpose of the script is to take 12 temperature readings in total measuring once every $0.25$ seconds and save them to a file called `temp.txt` on the Pico.\n",
    "\n",
    "You only need to place the Pico in the breadboard and connect it to your computer with the USB cable. Open Thonny, run `pico_temperature.py`. After the script is done running, move the `temp.txt` file that is stored on the Pico into the folder you are currently working in, and delete `temp.txt` from the Pico’s storage. Modify `pico_temperature.py` as needed to take more measurements or change how often measurements are taken. "
   ]
  },
  {
   "attachments": {},
   "cell_type": "markdown",
   "id": "5980e8cf",
   "metadata": {},
   "source": [
    "### <span style=\"color:red\"> Exercise </span>\n",
    "\n",
    "__Part 1:__ Collect 1,000 temperature measurements from the Pico with at least 0.25 second between measurements. Display a bar plot of the values in `temp.txt`. Include descriptive axis labels and a title. \n",
    "\n",
    "__Part 2:__ What value occurs the most frequently in `temp.txt`? What is the relative frequency of that value?\n",
    "\n",
    "<h3 style=\"background-color:lightblue\"> Write Answer for Exercise Below </h3>"
   ]
  },
  {
   "cell_type": "code",
   "execution_count": null,
   "id": "26e9c92b",
   "metadata": {},
   "outputs": [],
   "source": [
    "data = np.loadtxt(\"temp.txt\", dtype=int)    # make sure temp.txt is in the same directory as this notebook file\n",
    "                                            # dtype stands for data type, every line in the txt file will be read as an integer"
   ]
  },
  {
   "attachments": {},
   "cell_type": "markdown",
   "id": "69e98e3c",
   "metadata": {},
   "source": [
    "### <span style=\"color:red\"> Exercise </span>\n",
    "\n",
    "Find the mode $m$ (i.e., the value that occurs the most) of the first 11 temperature measurements. \n",
    "Define $E$ as the event that the temperature measurement is equal to $m$. The complement of event $E$ is $E'$, i.e., when the measurement is different than $m$.\n",
    "\n",
    "After the first 11 readings, how frequently does the event $E$ occur? How frequently does the event $E'$ occur?\n",
    "\n",
    "<h3 style=\"background-color:lightblue\"> Write Answer for Exercise Below </h3>"
   ]
  },
  {
   "cell_type": "code",
   "execution_count": null,
   "id": "3fea5b00",
   "metadata": {},
   "outputs": [],
   "source": []
  },
  {
   "attachments": {},
   "cell_type": "markdown",
   "id": "a31868c0",
   "metadata": {},
   "source": [
    "### <span style=\"color:red\"> Exercise </span>\n",
    "\n",
    "Let's only consider the first digit of the temperature measurement. Plot a bar graph of the frequency that each digit 0-9 appears.\n",
    "\n",
    "<h3 style=\"background-color:lightblue\"> Write Answer for Exercise Below </h3>\n"
   ]
  },
  {
   "cell_type": "code",
   "execution_count": null,
   "id": "fc1cad10",
   "metadata": {},
   "outputs": [],
   "source": []
  },
  {
   "cell_type": "markdown",
   "id": "b8a25df9",
   "metadata": {},
   "source": [
    "\n",
    "### <span style=\"color:red\"> Exercise </span>\n",
    "\n",
    "Repeat the previous exercise but with the second digit instead of the first, and again with the third digit, fouth digit, and fifth digit. You will have 4 bar charts.\n",
    "\n",
    "Which digit place has the most variability in your set of measurements?\n",
    "\n",
    "<h3 style=\"background-color:lightblue\"> Write Answer for Exercise Below </h3>"
   ]
  },
  {
   "cell_type": "code",
   "execution_count": null,
   "id": "f74918d0",
   "metadata": {},
   "outputs": [],
   "source": []
  },
  {
   "attachments": {},
   "cell_type": "markdown",
   "id": "a7983408",
   "metadata": {},
   "source": [
    "## <span style=\"color:orange;\"> Conditional Probability </span>\n",
    "\n",
    "For two events $E$ and $F$, the probability of event $E$ occuring given that event $F$ has occured is a __conditional probability__. With our view of probability as a frequency, this means that the probability of $E$ given $F$ is the relative frequency of $E$ occuring in the sample space defined by $F$, i.e., $$ P(E\\mid F) = \\frac{P(E \\cap F)}{P(F)}. $$"
   ]
  },
  {
   "attachments": {},
   "cell_type": "markdown",
   "id": "fde5a2c3",
   "metadata": {},
   "source": [
    "### Binary Numbers\n",
    "\n",
    "For reasons that will be clear in the next section, let's take a detour into binary numbers.\n",
    "\n",
    "We are accustomed to the base-10 number system. We can break down numbers like $9234$ as\n",
    "\\begin{align*}\n",
    "9234 &= (9\\times 1000) +( 2\\times 100) + (3\\times 10) + (4\\times 1) \\\\\n",
    "    &= (9\\times 10^3) + (2\\times 10^2) + (3\\times 10^1) + (4\\times 10^0)\n",
    "\\end{align*}\n",
    "\n",
    "Similarly, in base-2 (or binary). The binary number 1101 in base-10 is\n",
    "\\begin{align*}\n",
    "1101 &= (1\\times 2^3) + (1\\times 2^2) + (0\\times 2^1) + (1\\times 2^0) \\\\\n",
    "    &= (1\\times 8) + (1\\times 4) + (0\\times 2) + (1\\times 1) \\\\\n",
    "    &= 13\n",
    "\\end{align*}\n",
    "\n",
    "In python, the prefix `0b` tells the computer to interpret the sequence as base-2. To do the reverse, call the `bin` function as demonstrated below."
   ]
  },
  {
   "cell_type": "code",
   "execution_count": null,
   "id": "9d16ff05",
   "metadata": {},
   "outputs": [],
   "source": [
    "x = 0b1101\n",
    "print(x)\n",
    "\n",
    "y = 13\n",
    "print(bin(13))\n",
    "\n",
    "# you can use underscores to make numbers more readable without affecting the value\n",
    "z = 0b_100_001_111_111_001_100_111_001_110_001_0101\n",
    "w = 9_123_456_789\n",
    "print(z == w)"
   ]
  },
  {
   "attachments": {},
   "cell_type": "markdown",
   "id": "5e3edc88",
   "metadata": {},
   "source": [
    "### <span style=\"color:red\"> Exercise </span>\n",
    "\n",
    "What are the following binary numbers in base-10?\n",
    "- 110\n",
    "- 010\n",
    "- 101011\n",
    "- 110000\n",
    "\n",
    "<h3 style=\"background-color:lightblue\"> Write Answer for Exercise Below </h3>"
   ]
  },
  {
   "cell_type": "markdown",
   "id": "afdc04e1",
   "metadata": {},
   "source": []
  },
  {
   "attachments": {},
   "cell_type": "markdown",
   "id": "3264aa68",
   "metadata": {},
   "source": [
    "### <span style=\"color:red\"> Exercise </span>\n",
    "\n",
    "__Part 1:__ What range of integers can we represent using 16 bits?\n",
    "\n",
    "__Part 2:__ What is the minimum length of a random binary sequence needed to get a random number between 0 and 100?\n",
    "\n",
    "<h3 style=\"background-color:lightblue\"> Write Answer for Exercise Below </h3>"
   ]
  },
  {
   "cell_type": "markdown",
   "id": "6ef1db6a",
   "metadata": {},
   "source": []
  },
  {
   "cell_type": "markdown",
   "id": "1bb5f73b",
   "metadata": {},
   "source": [
    "---\n",
    "**NOTE**\n",
    "\n",
    "This is a 2-week lab. Turn in the exercises above. Pick up from here during the next lab session.\n",
    "\n",
    "--- "
   ]
  },
  {
   "attachments": {},
   "cell_type": "markdown",
   "id": "d01d1d79",
   "metadata": {},
   "source": [
    "Identifying textures in images is an important task in many fields like medical imaging, remote sensing, and facial detection.\n",
    "There is a simple but powerful method called local binary patterns (LBP) that is commonly used to classify textures when used together with some machine learning algorithms.\n",
    "\n",
    "We are going to work with the grayscale images in this [folder](**add link**). Download the folder of images from GitHub. \n",
    "\n",
    "For an  $m \\times n$ grayscale image, there are $m$ rows of pixels and $n$ columns of pixels. Each pixel describes the intensity of the image with an integer between 0 and 255 (0 for black and 255 for white). \n",
    "\n",
    "See the cell below on how to read in and display grayscale images in Python. "
   ]
  },
  {
   "cell_type": "code",
   "execution_count": null,
   "id": "86e3391c",
   "metadata": {},
   "outputs": [],
   "source": [
    "from PIL import Image                                   # needed for reading images\n",
    "\n",
    "img = np.array(Image.open('textures/texture_1.jpg'))    # read in the image and store it as a numpy array\n",
    "print(f'image size is {img.shape}')\n",
    "fig, ax = plt.subplots(figsize=(12,6))                  # create figure and set figure size\n",
    "ax.imshow(img, cmap='gray', vmin=0,vmax=255)            # display the image in grayscale between 0 and 255\n",
    "# ax.axis('off')                                        # uncomment this line to hide the axes\n",
    "plt.show()"
   ]
  },
  {
   "attachments": {},
   "cell_type": "markdown",
   "id": "6fc1b99e",
   "metadata": {},
   "source": [
    "### <span style=\"color:red\"> Exercise </span>\n",
    "\n",
    "Complete the following steps of LBP for each image in the textures folder.\n",
    "\n",
    "**1.** For each pixel, look at the values of its 8 neighboring pixels.\n",
    "\n",
    "> Ex:\n",
    ">|   |     |    |\n",
    ">| --- | --- | ---| \n",
    ">| 10 | 15 | 12 |\n",
    ">| 19 | 12 | 11 |\n",
    ">| 20 | 16 | 12 |\n",
    "\n",
    "**2.** Starting at the pixel directly above the center pixel, move clockwise around the center to create a binary sequence of length 8. Assign '0' if the neighbor's value is greater than the center and '1' otherwise. \n",
    "\n",
    "> Using the example above, we start at the center value of 12 and then start above at the 15 so the binary sequence is `'0'` so far. \n",
    "Then we move to the top right at 12. Now the binary sequence is `'01'`. If we keep going, the final binary number is `'01110001'`.\n",
    "\n",
    "**3.** Convert the 8-bit sequence to an integer in base-10.\n",
    "\n",
    "> For our example, we get an LBP value of 113.\n",
    "\n",
    "**4.** Plot the frequency that each LBP value 0-255 appears.\n",
    "\n",
    "<h3 style=\"background-color:lightblue\"> Write Answer for Exercise Below </h3>"
   ]
  },
  {
   "cell_type": "code",
   "execution_count": null,
   "id": "a0696252",
   "metadata": {},
   "outputs": [],
   "source": [
    "# remove solution\n",
    "from skimage import feature\n",
    "\n",
    "lbp = feature.local_binary_pattern(img, 8, 1, method=\"default\")\n",
    "\n",
    "values, counts = np.unique(lbp.ravel(), return_counts=True)\n",
    "plt.bar(values, counts)\n",
    "plt.show()"
   ]
  },
  {
   "attachments": {},
   "cell_type": "markdown",
   "id": "c68fff6f",
   "metadata": {},
   "source": [
    "### <span style=\"color:red\"> Exercise </span>\n",
    "\n",
    "The maximum possible LBP value is 255 and it seems to come up a lot. \n",
    "If we only consider pixels that result in an LBP value of 255, what grayscales values (i.e., the value of the center pixel) are the most common?\n",
    "\n",
    "Use a bar plot to summarize your answer. Remember to label the axes and title the plot.\n",
    "\n",
    "<h3 style=\"background-color:lightblue\"> Write Answer for Exercise Below </h3>"
   ]
  },
  {
   "cell_type": "code",
   "execution_count": null,
   "id": "e11d0851",
   "metadata": {},
   "outputs": [],
   "source": [
    "# remove solution\n",
    "dict = {i:0 for i in range(256)}\n",
    "for i in range(img.shape[0]):\n",
    "    for j in range(img.shape[1]):\n",
    "        if lbp[i,j] == 255:\n",
    "            dict[img[i,j]] += 1\n",
    "\n",
    "plt.bar(dict.keys(), dict.values())\n",
    "plt.show()"
   ]
  },
  {
   "attachments": {},
   "cell_type": "markdown",
   "id": "367f5e2c",
   "metadata": {},
   "source": [
    "**add instructions for wiring the camera and add code from calc 3 labs on capturing a still image**\n",
    "\n",
    "### <span style=\"color:red\"> Exercise </span>\n",
    "\n",
    "Connect the camera to the Pico and take at least 3 images of different surfaces (e.g., the desk, floor, your phone case, your hand, etc.) \n",
    "\n",
    "Perform LBP on your images. Do you think that the frequency of LBP values that appear are very different from image to image?\n",
    "\n",
    "Can you think of a (mathematical) rule to distinguish between two different textures based on LBP?\n",
    "\n",
    "<h3 style=\"background-color:lightblue\"> Write Answer for Exercise Below </h3>"
   ]
  },
  {
   "cell_type": "code",
   "execution_count": null,
   "id": "8122f71d",
   "metadata": {},
   "outputs": [],
   "source": []
  },
  {
   "attachments": {},
   "cell_type": "markdown",
   "id": "e6524592",
   "metadata": {},
   "source": [
    "## <span style=\"color:green;\"> Reflection </span>\n",
    "\n",
    "\n",
    "__1. What parts of the lab, if any, do you feel you did well? <br>\n",
    "2. What are some things you learned today? <br>\n",
    "3. Are there any topics that could use more clarification? <br>\n",
    "4. Do you have any suggestions on parts of the lab to improve?__\n",
    "\n",
    "<h3 style=\"background-color:lightblue\"> Write Answers for the Reflection Below </h3>"
   ]
  },
  {
   "cell_type": "markdown",
   "id": "19dfaeca",
   "metadata": {},
   "source": []
  }
 ],
 "metadata": {
  "interpreter": {
   "hash": "5733b5ebf5ecec2b002a59c36710d44decb4334b28aff8074b4cca610e6649ad"
  },
  "kernelspec": {
   "display_name": "Python 3 (ipykernel)",
   "language": "python",
   "name": "python3"
  },
  "language_info": {
   "codemirror_mode": {
    "name": "ipython",
    "version": 3
   },
   "file_extension": ".py",
   "mimetype": "text/x-python",
   "name": "python",
   "nbconvert_exporter": "python",
   "pygments_lexer": "ipython3",
   "version": "3.8.5"
  }
 },
 "nbformat": 4,
 "nbformat_minor": 5
}