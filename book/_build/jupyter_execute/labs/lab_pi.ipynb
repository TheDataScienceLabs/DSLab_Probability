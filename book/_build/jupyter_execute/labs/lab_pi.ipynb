{
 "cells": [
  {
   "attachments": {},
   "cell_type": "markdown",
   "id": "a86c853b-b82f-4883-bf03-15a2c05b87db",
   "metadata": {},
   "source": [
    "# Week 11-12: Estimating Pi with a RNG\n",
    "\n",
    "<font size=\"6\"> Laboratory 8 </font> <br>\n",
    "<font size=\"3\"> Last updated April 24, 2023 </font>"
   ]
  },
  {
   "cell_type": "markdown",
   "id": "e90879f5-f730-44da-ad7a-be77ee8b2eaa",
   "metadata": {},
   "source": [
    "## <span style=\"color:orange;\"> 00. Content </span>"
   ]
  },
  {
   "attachments": {},
   "cell_type": "markdown",
   "id": "ba827722-0c2f-493b-a2d2-d7f0bda08882",
   "metadata": {},
   "source": [
    "<font size=\"5\"> Mathematics </font>\n",
    "- probability density function\n",
    "- expectation and variance\n",
    "- integrals in one dimension\n",
    "\n",
    "     \n",
    "<font size=\"5\"> Programming Skills </font>\n",
    "- arrays\n",
    "    \n",
    "<font size=\"5\"> Embedded Systems </font>\n",
    "- MicroPython and Thonny"
   ]
  },
  {
   "cell_type": "markdown",
   "id": "40ef17dd-1c68-43ed-9406-c2b55840c4b5",
   "metadata": {},
   "source": [
    "## <span style=\"color:orange;\"> 0. Required Hardware </span>"
   ]
  },
  {
   "attachments": {},
   "cell_type": "markdown",
   "id": "ec4e4a28-936f-4676-8286-c69f06d2ac08",
   "metadata": {},
   "source": [
    "- relevant equipment to build an RNG from the previous lab"
   ]
  },
  {
   "cell_type": "markdown",
   "id": "60f85e09-35cc-47d9-b1d8-6e88b0fb6416",
   "metadata": {},
   "source": [
    "<h3 style=\"background-color:lightblue\"> Write your name and email below: </h3>\n",
    "\n",
    "**Name:** me \n",
    "\n",
    "**Email:** me @purdue.edu"
   ]
  },
  {
   "cell_type": "markdown",
   "id": "721a6c92",
   "metadata": {},
   "source": []
  },
  {
   "attachments": {},
   "cell_type": "markdown",
   "id": "0eeb0685",
   "metadata": {},
   "source": [
    "## <span style=\"color:orange;\"> A Monte Carlo Experiment </span>\n",
    "\n",
    "Recall that a uniform random variable $U$ on the interval $(0,1)$ has probability density function \n",
    "$$ f_U(u) = \\begin{cases}\n",
    "    1 &, 0<u<1 \\\\\n",
    "    0 &, \\text{ otherwise}\n",
    "\\end{cases}. $$\n",
    "So the probability $U$ takes a value in a subinterval $(s,t)$ of $(0,1)$ is exactly the length $t-s$ of the subinterval.\n",
    "\n",
    "More genrerally, a uniform random variable $V$ on the interval $(a,b)$ has probability density function \n",
    "$$ f_V(v) = \\begin{cases}\n",
    "    \\frac{1}{b-a} &, a<v<b \\\\\n",
    "    0 &, \\text{ otherwise}\n",
    "\\end{cases}. $$"
   ]
  },
  {
   "attachments": {},
   "cell_type": "markdown",
   "id": "8072d94b",
   "metadata": {},
   "source": [
    "### <span style=\"color:red\"> Exercise </span>\n",
    "\n",
    "If $U_1$ and $U_2$ are uniform random variables on $(0,1)$, then the ordered pair $(U_1,U_2)$ is distributed uniformly in the square of side length 1 centered at $\\left(\\frac12,\\frac12\\right)$.\n",
    "Define \n",
    "\\begin{align*}\n",
    "X = 2U_1 - 1, \\\\\n",
    "Y = 2U_2 - 1.\n",
    "\\end{align*}\n",
    "How is $(X,Y)$ distributed? \n",
    "\n",
    "<h3 style=\"background-color:lightblue\"> Write Answer for Exercise Below </h3>"
   ]
  },
  {
   "cell_type": "markdown",
   "id": "8d2a8f79",
   "metadata": {},
   "source": []
  },
  {
   "attachments": {},
   "cell_type": "markdown",
   "id": "096e5537",
   "metadata": {},
   "source": [
    "A Monte Carlo experiment is a technique to study a response by using random samples.\n",
    "In our first estimation of $\\pi$, we will generate a large number of uniform samples inside a square. If we inscribe a circle in the square and count how many points fall inside the circle, the **proportion of points in the circle** will approach the **proportion of the area of the circle within the square**. Suppose the circle has radius $r$. Intuitively, the probability a random point will land inside the circle is \n",
    "$$ \\frac{\\text{area of circle}}{\\text{area of square}} = \\frac{\\pi r^2}{(2r)^2} = \\frac{\\pi r^2}{4r^2} = \\frac{\\pi}{4}.$$\n",
    "\n",
    "(Here's)[**add link**] a visualization of this experiment run with 500 samples (points). In the image, 377 points are marked red as being within the circle boundary. If we take the proportion of points in the circle and multiply by 4, we will have an approximation of $\\pi$. \n",
    "In this case $4 \\cdot \\frac{377}{500} = 3.016$, which isn't that close to $\\pi$. Let's use more samples.\n",
    "\n",
    "![img](images/example_monte_carlo.jpg)"
   ]
  },
  {
   "attachments": {},
   "cell_type": "markdown",
   "id": "d7aa17e9",
   "metadata": {},
   "source": [
    "### <span style=\"color:red\"> Exercise </span>\n",
    "\n",
    "With $(X,Y)$ as defined in Exercise 1, use `random.uniform()` or `np.random.uniform()` to generate $n=10,000$ random pairs $(X,Y)$ and plot them using a scatter plot. Change the color or marker of the points that fall inside the inscribed circle. You don't have to draw the circle on your plot. \n",
    "\n",
    "<h3 style=\"background-color:lightblue\"> Write Answer for Exercise Below </h3>"
   ]
  },
  {
   "cell_type": "code",
   "execution_count": null,
   "id": "759f3efd",
   "metadata": {},
   "outputs": [],
   "source": []
  },
  {
   "attachments": {},
   "cell_type": "markdown",
   "id": "a44ad411",
   "metadata": {},
   "source": [
    "### <span style=\"color:red\"> Exercise </span>\n",
    "\n",
    "Use the proportion of points in the circle to estimate $\\pi$. Report the *relative and absolute error* of your approximation when $n=$ 5,000; $n=$ 10,000; $n=$ 50,000; and $n=$ 100,000.\n",
    "\n",
    "<h3 style=\"background-color:lightblue\"> Write Answer for Exercise Below </h3>"
   ]
  },
  {
   "cell_type": "code",
   "execution_count": null,
   "id": "054fb444",
   "metadata": {},
   "outputs": [],
   "source": []
  },
  {
   "attachments": {},
   "cell_type": "markdown",
   "id": "255696ab",
   "metadata": {},
   "source": [
    "Another way to think about our estimation of $\\pi$ is using a sum of random variables.\n",
    "We randomly generate $n$ points in the square.\n",
    "Define the random variables $Z_1,Z_2,\\dots,Z_n$ as\n",
    "$$Z_i = \\begin{cases}\n",
    "    1 &, \\text{ if random point $i$ is in the circle} \\\\\n",
    "    0 &, \\text{ otherwise}\n",
    "\\end{cases} \\quad \\text{ for } i=1,2,\\dots,n.$$\n",
    "We say $Z_1,Z_2,\\dots,Z_n$ are **indicator variables**.\n",
    "Our approximation for $\\pi$ is then\n",
    "$$ 4\\cdot\\frac{Z_1 + Z_2 + \\cdots + Z_n}{n}.$$\n",
    "\n",
    "The expected value of $4Z_i$ is \n",
    "\\begin{align*}\n",
    "    E[4Z_i] &= (4\\cdot 1)\\cdot P(\\text{point $i$ is in the circle}) + (4\\cdot 0)\\cdot P(\\text{point $i$ is not in the circle}),  \\\\\n",
    "    &= 4\\cdot \\frac{\\pi}{4} + 0, \\\\\n",
    "    &= \\pi.\n",
    "\\end{align*}"
   ]
  },
  {
   "attachments": {},
   "cell_type": "markdown",
   "id": "8f03ad2f",
   "metadata": {},
   "source": [
    "### <span style=\"color:red\"> Exercise </span>\n",
    "\n",
    "Compute the expected value $E[(4Z_i)^2]$.\n",
    "\n",
    "<h3 style=\"background-color:lightblue\"> Write Answer for Exercise Below </h3>"
   ]
  },
  {
   "cell_type": "markdown",
   "id": "01d0b40a",
   "metadata": {},
   "source": []
  },
  {
   "attachments": {},
   "cell_type": "markdown",
   "id": "20d91852",
   "metadata": {},
   "source": [
    "### <span style=\"color:red\"> Exercise </span>\n",
    "\n",
    "We know for a random variable $X$ that $Var(X)=E[X^2]-(E[X])^2$.\n",
    "Use the formula below to compute the variance of the random variable $4Z_i$.\n",
    "$$ Var(4Z_i)  = E[(4Z_i)^2] - (E[4Z_i])^2.$$\n",
    "\n",
    "<h3 style=\"background-color:lightblue\"> Write Answer for Exercise Below </h3>"
   ]
  },
  {
   "cell_type": "code",
   "execution_count": null,
   "id": "3f291b5b",
   "metadata": {},
   "outputs": [],
   "source": []
  },
  {
   "attachments": {},
   "cell_type": "markdown",
   "id": "c8ceab70",
   "metadata": {},
   "source": [
    "Remember that for two **independent** random variables $X$ and $Y$ and constants $a$ and $b$, we know that \n",
    "$$ Var(X+Y)= Var(X)+Var(Y) \\quad \\text{and}\\quad Var(aX+b) = a^2 Var(X).$$\n",
    "As the last step, let's compute the variance in our estimation of $\\pi$.\n",
    "\\begin{align*}\n",
    "    Var\\left(4\\cdot\\frac{Z_1 + Z_2 + \\cdots + Z_n}{n} \\right) &=  Var\\left(\\frac{4Z_1 + 4Z_2 + \\cdots + 4Z_n}{n} \\right), \\\\\n",
    "    &= \\frac{1}{n^2}Var(4Z_1 + 4Z_2 + \\cdots + 4Z_n), \\\\\n",
    "    &= \\frac{1}{n^2}[Var(4Z_1) + Var(4Z_2) + \\cdots + Var(4Z_n)], \\\\\n",
    "    &= \\frac{1}{n^2}nVar(4Z_1), \\quad\\quad\\text{ since $Var(4Z_i)$ is the same for $i=1,2,\\dots,n$},\\\\\n",
    "    &= \\frac{Var(4Z_i)}{n}.\n",
    "\\end{align*}"
   ]
  },
  {
   "attachments": {},
   "cell_type": "markdown",
   "id": "771779df",
   "metadata": {},
   "source": [
    "## <span style=\"color:orange;\"> Another Estimation </span>\n",
    "\n",
    "In our Monte Carlo experiment, we needed $2n$ samples of a uniform distribution to generate our $n$ random points in the square.\n",
    "Let's try to improve our estimation of $\\pi$; this time with only $n$ uniform samples.\n",
    "\n",
    "Consider the integral $$ \\int_{-1}^1 2 \\sqrt{1-x^2}dx = \\pi.$$\n",
    "\n",
    "We are going to rearange this integral as an expected value. First, recall this fact: If $X$ is a continuous random variable with probability density function $f_X(x)$ and $g$ is any real-valued function, then\n",
    "$$ E[g(X)] = \\int_{-\\infty}^\\infty g(x)f(x)dx. $$\n"
   ]
  },
  {
   "attachments": {},
   "cell_type": "markdown",
   "id": "d9afda9d",
   "metadata": {},
   "source": [
    "### <span style=\"color:red\"> Exercise </span>\n",
    "\n",
    "Suppose $X$ is a uniform random variable on $(-1,1)$.\n",
    "What function $g$ would make\n",
    "$$ E[g(X)] = \\int_{-\\infty}^\\infty g(x)f(x)dx = \\int_{-1}^1 2 \\sqrt{1-x^2}dx = \\pi. $$\n",
    "\n",
    "<h3 style=\"background-color:lightblue\"> Write Answer for Exercise Below </h3>"
   ]
  },
  {
   "cell_type": "markdown",
   "id": "8b2488e5",
   "metadata": {},
   "source": []
  },
  {
   "cell_type": "markdown",
   "id": "cf947c5f",
   "metadata": {},
   "source": [
    "---\n",
    "**NOTE**\n",
    "\n",
    "This is a 2-week lab. Turn in the exercises above. Pick up from here during the next lab session.\n",
    "\n",
    "--- "
   ]
  },
  {
   "attachments": {},
   "cell_type": "markdown",
   "id": "7521c3a6",
   "metadata": {},
   "source": [
    "With the appropriate function $g$, we can approximate $\\pi$.\n",
    "Let $X_1,X_2,\\dots,X_n$ be indepent uniform random variables on the interval $(-1,1)$. Then,\n",
    "$$ E\\left[ \\frac{g(X_1)+g(X_2)+\\cdots + g(X_n)}{n} \\right] = \\frac 1n E[g(X_1)+g(X_2)+\\cdots + g(X_n)] = \\frac{nE[g(X_1)]}{n} = \\pi.$$"
   ]
  },
  {
   "attachments": {},
   "cell_type": "markdown",
   "id": "3cbbfe4a",
   "metadata": {},
   "source": [
    "### <span style=\"color:red\"> Exercise </span>\n",
    "\n",
    "Generate $n$ uniform random samples $x_1,x_2,\\dots,x_n$ and calculate the average\n",
    "$$ \\frac{g(x_1)+g(x_2)+\\cdots + g(x_n)}{n}. $$\n",
    "\n",
    "Report the *absolute error* of your approximation using this method when $n=$ 5,000; $n=$ 10,000; $n=$ 50,000; and $n=$ 100,000.\n",
    "How does it compare to our first method with the circle in the square?\n",
    "\n",
    "<h3 style=\"background-color:lightblue\"> Write Answer for Exercise Below </h3>"
   ]
  },
  {
   "cell_type": "code",
   "execution_count": null,
   "id": "9571dd10",
   "metadata": {},
   "outputs": [],
   "source": []
  },
  {
   "attachments": {},
   "cell_type": "markdown",
   "id": "15309f16",
   "metadata": {},
   "source": [
    "In the same way we computed the expected value of $g(X)$, we can get the expected value of $g(X)\\cdot g(X) = (g(X))^2$ by computing the integral\n",
    "$$ E[(g(X))^2] = \\int_{-\\infty}^\\infty (g(x))^2f(x)dx .$$"
   ]
  },
  {
   "attachments": {},
   "cell_type": "markdown",
   "id": "6eda8761",
   "metadata": {},
   "source": [
    "### <span style=\"color:red\"> Exercise </span>\n",
    "\n",
    "What is the value of $Var(g(X))$?\n",
    "\n",
    "<h3 style=\"background-color:lightblue\"> Write Answer for Exercise Below </h3>"
   ]
  },
  {
   "cell_type": "markdown",
   "id": "19c4e472",
   "metadata": {},
   "source": []
  },
  {
   "attachments": {},
   "cell_type": "markdown",
   "id": "ce6ae391",
   "metadata": {},
   "source": [
    "Now, let's compute the variance in our alternative estimation of $\\pi$.\n",
    "\\begin{align*}\n",
    "    Var\\left(\\frac{g(X_1)+g(X_2)+\\cdots + g(X_n)}{n} \\right) &= \\frac{1}{n^2} Var(g(X_1)+g(X_2)+\\cdots + g(X_n)), \\\\\n",
    "    &= \\frac{1}{n^2} n Var(g(X_1)), \\quad\\quad\\text{ since $Var(g(X_i))$ is the same for $i=1,2,\\dots,n$},\\\\\n",
    "    &= \\frac{Var(g(X_1))}{n}.\n",
    "\\end{align*}"
   ]
  },
  {
   "attachments": {},
   "cell_type": "markdown",
   "id": "11b95447",
   "metadata": {},
   "source": [
    "### <span style=\"color:red\"> Exercise </span>\n",
    "\n",
    "How much smaller is the variance in this second method of approximating $\\pi$ compared to the first method?\n",
    "\n",
    "<h3 style=\"background-color:lightblue\"> Write Answer for Exercise Below </h3>"
   ]
  },
  {
   "cell_type": "code",
   "execution_count": null,
   "id": "3c2966a5",
   "metadata": {},
   "outputs": [],
   "source": []
  },
  {
   "attachments": {},
   "cell_type": "markdown",
   "id": "e3b78c78",
   "metadata": {},
   "source": [
    "### <span style=\"color:red\"> Exercise </span>\n",
    "\n",
    "If we generate a sequence of 16 binary digits, it is simple to convert to a floating point number between 0 and 1. First convert the binary number to base-10 and then divide by $2^{16}-1$. Now, we have a way to simulate a uniform random variable on $(0,1)$, or any interval of our choice.\n",
    "\n",
    "Using your \"best\" RNG according to previous lab on RNGs, estimate $\\pi$ using both methods presented here for different values of $n$. Do your estimations of $\\pi$ improve if you use 32 binary digits instead of 16?\n",
    "\n",
    "<h3 style=\"background-color:lightblue\"> Write Answer for Exercise Below </h3>"
   ]
  },
  {
   "cell_type": "code",
   "execution_count": null,
   "id": "2d12d541",
   "metadata": {},
   "outputs": [],
   "source": []
  },
  {
   "cell_type": "code",
   "execution_count": 43,
   "id": "1e597917",
   "metadata": {},
   "outputs": [
    {
     "name": "stdout",
     "output_type": "stream",
     "text": [
      "[-0.00755265 -0.00065555]\n"
     ]
    }
   ],
   "source": [
    "# remove solution\n",
    "import numpy as np\n",
    "import matplotlib.pyplot as plt\n",
    "\n",
    "n = 100_000\n",
    "x,y = zip(*np.random.uniform(-1,1,size=(n,2)))\n",
    "circle = np.array([x[i]**2 + y[i]**2 for i in range(n)])\n",
    "col = np.where(circle < 1,'r','b')\n",
    "\n",
    "# plt.scatter(x,y,c=col,s=1)\n",
    "# plt.axis('square')\n",
    "# plt.xlim((-1,1))\n",
    "# plt.ylim((-1,1))\n",
    "# plt.show()\n",
    "\n",
    "est_1 = sum(col == 'r')/n * 4\n",
    "\n",
    "x = np.array(x)\n",
    "est_2 = 4*np.average(np.sqrt(1-x**2))\n",
    "\n",
    "print(np.array([est_1,est_2])-np.pi)"
   ]
  },
  {
   "attachments": {},
   "cell_type": "markdown",
   "id": "e6524592",
   "metadata": {},
   "source": [
    "## <span style=\"color:green;\"> Reflection </span>\n",
    "\n",
    "__1. What parts of the lab, if any, do you feel you did well? <br>\n",
    "2. What are some things you learned today? <br>\n",
    "3. Are there any topics that could use more clarification? <br>\n",
    "4. Do you have any suggestions on parts of the lab to improve?__\n",
    "\n",
    "<h3 style=\"background-color:lightblue\"> Write Answers for the Reflection Below </h3>"
   ]
  },
  {
   "cell_type": "markdown",
   "id": "19dfaeca",
   "metadata": {},
   "source": []
  }
 ],
 "metadata": {
  "interpreter": {
   "hash": "5733b5ebf5ecec2b002a59c36710d44decb4334b28aff8074b4cca610e6649ad"
  },
  "kernelspec": {
   "display_name": "Python 3 (ipykernel)",
   "language": "python",
   "name": "python3"
  },
  "language_info": {
   "codemirror_mode": {
    "name": "ipython",
    "version": 3
   },
   "file_extension": ".py",
   "mimetype": "text/x-python",
   "name": "python",
   "nbconvert_exporter": "python",
   "pygments_lexer": "ipython3",
   "version": "3.8.5"
  }
 },
 "nbformat": 4,
 "nbformat_minor": 5
}