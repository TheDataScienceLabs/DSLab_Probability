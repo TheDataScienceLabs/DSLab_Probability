{
 "cells": [
  {
   "attachments": {},
   "cell_type": "markdown",
   "id": "ab601238",
   "metadata": {},
   "source": [
    "# Week 2: Review of Python\n",
    "\n",
    "<font size=\"6\"> Laboratory 1 </font> <br>\n",
    "<font size=\"3\"> Last updated April 13, 2023 </font>"
   ]
  },
  {
   "attachments": {},
   "cell_type": "markdown",
   "id": "19c389f1",
   "metadata": {},
   "source": [
    "## <span style=\"color:orange;\"> 00. Content </span>"
   ]
  },
  {
   "attachments": {},
   "cell_type": "markdown",
   "id": "c011bfa1",
   "metadata": {},
   "source": [
    "<font size=\"5\"> Mathematics </font>\n",
    "- Functions\n",
    "     \n",
    "<font size=\"5\"> Programming Skills </font>\n",
    "- Data types and basic operations\n",
    "- Lists and arrays\n",
    "- Functions\n",
    "- Loops and comprehension\n",
    "- Plotting\n",
    "    \n",
    "<font size=\"5\"> Embedded Systems </font>\n",
    "- N/A"
   ]
  },
  {
   "attachments": {},
   "cell_type": "markdown",
   "id": "83c3d39b",
   "metadata": {},
   "source": [
    "## <span style=\"color:orange;\"> 0. Required Hardware </span>"
   ]
  },
  {
   "attachments": {},
   "cell_type": "markdown",
   "id": "07256377",
   "metadata": {},
   "source": [
    "- N/A"
   ]
  },
  {
   "attachments": {},
   "cell_type": "markdown",
   "id": "1e0e19c8",
   "metadata": {},
   "source": [
    "<h3 style=\"background-color:lightblue\"> Write your name and email below: </h3>\n",
    "\n",
    "**Name:** \n",
    "\n",
    "**Email:** "
   ]
  },
  {
   "attachments": {},
   "cell_type": "markdown",
   "id": "12fcf196",
   "metadata": {},
   "source": [
    "## <span style=\"color:orange;\"> 1. Datatypes and Operators </span>\n"
   ]
  },
  {
   "attachments": {},
   "cell_type": "markdown",
   "id": "ee42c7d3",
   "metadata": {},
   "source": [
    "### Datatypes\n",
    "Let's initialize a variable in a cell."
   ]
  },
  {
   "cell_type": "code",
   "execution_count": null,
   "id": "6ac3fc24",
   "metadata": {},
   "outputs": [],
   "source": [
    "a = 1"
   ]
  },
  {
   "attachments": {},
   "cell_type": "markdown",
   "id": "6890c90c",
   "metadata": {},
   "source": [
    "We can still access the variable in the next cell without needing to redefine it. However, if you restart the kernel and only execute the subsequent cell, an error will occur. This is because when the kernel is restarted, it loses knowledge of the value assigned to variable 'a'. Consequently, when attempting to print the variable, an error is thrown."
   ]
  },
  {
   "cell_type": "code",
   "execution_count": null,
   "id": "43dc8f62",
   "metadata": {},
   "outputs": [],
   "source": [
    "print(a)"
   ]
  },
  {
   "attachments": {},
   "cell_type": "markdown",
   "id": "3512b3b1",
   "metadata": {},
   "source": [
    "Throughout this course, we will use the following data types in Python:\n",
    "\n",
    "- Boolean (`bool`): Boolean variables are either `True` or `False` and are equivalent to `1` (true) or `0` (false).\n",
    "- String (`str`): Strings contain a sequence of characters.\n",
    "- Numeric (`int`,`float`):\n",
    "    - The `int` data type holds signed integer values of arbitrary length.\n",
    "    - `float` variables hold floating-point numbers. They are only accurate to 15-16 digits.\n",
    "\n",
    "You can check the datatype of a variable in Python with the `type()` function."
   ]
  },
  {
   "cell_type": "code",
   "execution_count": null,
   "id": "b3329706",
   "metadata": {},
   "outputs": [],
   "source": [
    "type(a)"
   ]
  },
  {
   "attachments": {},
   "cell_type": "markdown",
   "id": "2e7decc3",
   "metadata": {},
   "source": [
    "### Operators\n",
    "\n",
    "Here is a list of the operators that may come in handy, along with their descriptions:"
   ]
  },
  {
   "attachments": {},
   "cell_type": "markdown",
   "id": "f89dace0",
   "metadata": {},
   "source": [
    "| Operation | Description \n",
    "| :---:   |   ----   \n",
    "| `and` | Returns `True` if statements on both sides of the operator are true\n",
    "| `or` | Returns `True` if at least one statement is true\n",
    "| `==` |  Equality; gives `True` or `False`   \n",
    "| `!=` |  Tests if not equal     \n",
    "| `<,<=,>,>=` |  Less than, less than or equal to, greater than, greater than or equal to\n",
    "| `is` |  Used to compare types, NOT values     \n",
    "| `not` |  Negation \n",
    "| `~` |  Complement operator\n",
    "| `+` |  Addition      \n",
    "| `-` |  Subtraction      \n",
    "| `*` |  Multiplication       \n",
    "| `/` |  Division \n",
    "| `**`|  Exponentiation; `a**b` is `a` to the power of `b`\n",
    "| `//` |  Integer division; division without the remainder   \n",
    "| `%` |  Modulo operator; `a%b` returns `a mod b`  \n",
    "| `+=` | `a += 5` is the same as `a = a+5`; replace `+` with any other arithmetic operator (like `-,*,/,//,%`) for the same effect"
   ]
  },
  {
   "attachments": {},
   "cell_type": "markdown",
   "id": "c2c6c1f8",
   "metadata": {},
   "source": [
    "## <span style=\"color:orange;\"> 2. Functions and Loops </span>\n",
    "\n",
    "### Functions\n",
    "\n",
    "Defining your own functions will be a key skill in this course. Make sure to give your functions descriptive names as it helps you and others to read and interpret your code easily."
   ]
  },
  {
   "cell_type": "code",
   "execution_count": null,
   "id": "19c8a032",
   "metadata": {},
   "outputs": [],
   "source": [
    "def add_two_nums(num1, num2):\n",
    "    return (num1 + num2)\n",
    "\n",
    "print(add_two_nums(2,3))\n",
    "print(add_two_nums(23,-5))"
   ]
  },
  {
   "attachments": {},
   "cell_type": "markdown",
   "id": "103f00d8",
   "metadata": {},
   "source": [
    "### Loops\n",
    "Loops allow us to iterate through a list of values. \n",
    "While loops continue executing the loop as long as a condition is true, and for loops iterate through a list.\n",
    "\n",
    "The `range(start, stop, step)` function returns a sequence of values that starts at `start`, ends before `end`, and increments by `step`. By default, `start` is 0, and `step` is 1.\n",
    "\n"
   ]
  },
  {
   "cell_type": "code",
   "execution_count": null,
   "id": "60628d19",
   "metadata": {},
   "outputs": [],
   "source": [
    "i = 0\n",
    "while i < 10: # start at 0, increment by 1 until 9 (10 not included)\n",
    "    print(i)\n",
    "    i += 1"
   ]
  },
  {
   "cell_type": "code",
   "execution_count": null,
   "id": "f0d99c30",
   "metadata": {},
   "outputs": [],
   "source": [
    "for i in range(10): # start at 0, increment by 1 until 9 (10 not included)\n",
    "    print(i)"
   ]
  },
  {
   "cell_type": "code",
   "execution_count": null,
   "id": "6c1ab28f",
   "metadata": {},
   "outputs": [],
   "source": [
    "for i in range(2,13,2): # start at 2, increment by 2 until 12 (13 not included)\n",
    "    print(i)"
   ]
  },
  {
   "cell_type": "code",
   "execution_count": null,
   "id": "07472536",
   "metadata": {},
   "outputs": [],
   "source": [
    "for i in range(20,0,-5): # start at 20, decrement by 5 until 5 (0 not included)\n",
    "    print(i)"
   ]
  },
  {
   "attachments": {},
   "cell_type": "markdown",
   "id": "380fbf69",
   "metadata": {},
   "source": [
    "### <span style=\"color:red\"> Exercise 1</span>\n",
    "\n",
    "When $n$ is a natural number, the factorial of $n$ is \n",
    "$$ n! = n \\cdot (n-1) \\cdot (n-2) \\cdots 2 \\cdot 1. $$\n",
    "We define $0!=1$.\n",
    "\n",
    "Write a function that returns $n!$ if the input $n$ is a natural number; otherwise, it should print an error message. \n",
    "\n",
    "<h3 style=\"background-color:lightblue\"> Write Answers for Exercise 1 Below </h3>\n"
   ]
  },
  {
   "cell_type": "code",
   "execution_count": null,
   "id": "de1ac2bb",
   "metadata": {},
   "outputs": [],
   "source": []
  },
  {
   "attachments": {},
   "cell_type": "markdown",
   "id": "e7fb2150",
   "metadata": {},
   "source": [
    "### <span style=\"color:red\"> Exercise 2</span>\n",
    "\n",
    "Write a function with one parameter, $n$, that prints the first $n$ rows of the pyramid.\n",
    "<pre>\n",
    "   1\n",
    "  2 2\n",
    " 3 3 3\n",
    "4 4 4 4\n",
    "  ...\n",
    "</pre>\n",
    "\n",
    "Call your function when $n=3$ and $n=10$.\n",
    "\n",
    "<h3 style=\"background-color:lightblue\"> Write Answers for Exercise 2 Below </h3>\n"
   ]
  },
  {
   "cell_type": "code",
   "execution_count": null,
   "id": "f79ad375",
   "metadata": {},
   "outputs": [],
   "source": []
  },
  {
   "attachments": {},
   "cell_type": "markdown",
   "id": "bf01a4ee",
   "metadata": {},
   "source": [
    "## <span style=\"color:orange;\"> 3. Lists and NumPy Arrays </span>\n",
    "\n",
    "### Lists"
   ]
  },
  {
   "attachments": {},
   "cell_type": "markdown",
   "id": "0329765e",
   "metadata": {},
   "source": [
    "A list is a collection or sequence of values that can be stored and accessed together. It's like a container that holds multiple items, such as numbers, strings, or even other lists. You can think of a list as a way to keep related pieces of data organized. For example, if you have to make a list of the dorms you're willing to stay at on campus, you could write it as a Python list like so:"
   ]
  },
  {
   "cell_type": "code",
   "execution_count": null,
   "id": "4faa85ac",
   "metadata": {},
   "outputs": [],
   "source": [
    "dorms = [\"Hawkins\", \"Wiley\", \"Frieda Parker\", \"Cary\"] # creates a list of dorms\n",
    "print(dorms) # prints the list of dorms"
   ]
  },
  {
   "attachments": {},
   "cell_type": "markdown",
   "id": "95c0d93c",
   "metadata": {},
   "source": [
    "Once you have a list, you can perform various operations on it. You can access individual elements by their position in the list, starting from zero. The position of an element in the list is called its index. For example, to retrieve the first dorm from our `dorms` list, you can use `dorms[0]`. Similarly, `dorms[1]` would give you the second dorm, and so on. Negative numbers can also be used as indices in a list. If you want to access the last dorm in our list, you can use `dorms[-1]`. If you want the second-to-last dorm, you can use `dorms[-2]`."
   ]
  },
  {
   "cell_type": "code",
   "execution_count": null,
   "id": "c195f117",
   "metadata": {},
   "outputs": [],
   "source": [
    "print(dorms[0]) # prints first dorm\n",
    "print(dorms[1]) # prints second dorm\n",
    "print(dorms[3]) # prints fourth dorm\n",
    "print(dorms[-1]) # prints last dorm in list"
   ]
  },
  {
   "attachments": {},
   "cell_type": "markdown",
   "id": "4abd22b8",
   "metadata": {},
   "source": [
    "You can also add new elements to the list or remove existing ones. For instance, to add \"Windsor\" to the `dorms` list, you can use the append() method like this: `dorms.append(\"Windsor\")`. This will add \"Windsor\" to the end of the list. To remove an element, you can use the remove() method and provide the value you want to remove. Additionally, you can obtain the length of a list using the len() function."
   ]
  },
  {
   "cell_type": "code",
   "execution_count": null,
   "id": "48b0017b",
   "metadata": {},
   "outputs": [],
   "source": [
    "dorms = [\"Hawkins\", \"Wiley\", \"Frieda Parker\", \"Cary\"] # creates a list of dorms\n",
    "\n",
    "print(dorms)\n",
    "print(\"The length of the list is:\", len(dorms)) # prints length of dorms list\n",
    "\n",
    "\n",
    "dorms.append(\"Windsor\") # adds 'Windsor' to the end of the list\n",
    "print(dorms)\n",
    "print(\"The length of the list is:\", len(dorms)) # prints length with 'Windsor' added\n",
    "\n",
    "dorms.remove(\"Wiley\") # removes 'Wiley' from list\n",
    "print(dorms)\n",
    "print(\"The length of the list is:\", len(dorms)) # prints length with 'Wiley' removed"
   ]
  },
  {
   "attachments": {},
   "cell_type": "markdown",
   "id": "d191a554",
   "metadata": {},
   "source": [
    "You can iterate through a list using a loop, similar to how we did with the range function."
   ]
  },
  {
   "cell_type": "code",
   "execution_count": null,
   "id": "e234fc06",
   "metadata": {},
   "outputs": [],
   "source": [
    "example_list = [1,1,2,3,5]\n",
    "for num in example_list: # iterates through each element without using its index\n",
    "    print(num)"
   ]
  },
  {
   "attachments": {},
   "cell_type": "markdown",
   "id": "cc231269",
   "metadata": {},
   "source": [
    "### <span style=\"color:red\"> Exercise 3</span>\n",
    "\n",
    "A palindrome is a sequence that reads the same forward and backward. Write a function that checks if a given list or string is a palindrome. For example, if the input to your function is `\"level\"` or `\"[2,1,4,5,5,4,1,2]\"`, then the function should return `True`.\n",
    "\n",
    "<h3 style=\"background-color:lightblue\"> Write Answers for Exercise 3 Below </h3>"
   ]
  },
  {
   "cell_type": "code",
   "execution_count": null,
   "id": "b06a729f",
   "metadata": {},
   "outputs": [],
   "source": []
  },
  {
   "attachments": {},
   "cell_type": "markdown",
   "id": "b372e308",
   "metadata": {},
   "source": [
    "### List Comprehension\n",
    "\n",
    "Python offers a convenient feature called \"List comprehension\" that enables us to define lists in a single line. It is recommended to use list comprehension when the operation is straightforward and clear. Avoid unnecessarily complicating the code solely for the sake of brevity."
   ]
  },
  {
   "cell_type": "code",
   "execution_count": null,
   "id": "c480ed3a",
   "metadata": {},
   "outputs": [],
   "source": [
    "[i for i in range(10) if i%2==1] # creates a list of odd numbers"
   ]
  },
  {
   "cell_type": "code",
   "execution_count": null,
   "id": "d659e5c3",
   "metadata": {},
   "outputs": [],
   "source": [
    "[num**2+8 for num in example_list] # creates new list using elements of example_list as inputs"
   ]
  },
  {
   "attachments": {},
   "cell_type": "markdown",
   "id": "ac0b5473",
   "metadata": {},
   "source": [
    "### <span style=\"color:red\"> Exercise 4</span>\n",
    "Write a list comprehension that finds the length of each dorm name in the `dorms` list.\n",
    "\n",
    "<h3 style=\"background-color:lightblue\"> Write Answers for Exercise 4 Below </h3>\n"
   ]
  },
  {
   "cell_type": "code",
   "execution_count": null,
   "id": "b711d1e1",
   "metadata": {},
   "outputs": [],
   "source": []
  },
  {
   "attachments": {},
   "cell_type": "markdown",
   "id": "82ccea95",
   "metadata": {},
   "source": [
    "### Numpy\n",
    "\n",
    "Up until now, we have been utilizing Python lists. However, NumPy arrays share similarities with lists. Once we import the NumPy library, we can initialize an array in the following manner:"
   ]
  },
  {
   "cell_type": "code",
   "execution_count": null,
   "id": "edd085d0",
   "metadata": {},
   "outputs": [],
   "source": [
    "import numpy as np\n",
    "\n",
    "print(\"This is an example_list:\", example_list)\n",
    "example_array = np.array(example_list) # creates a numpy array from example_list\n",
    "print(\"This is an example_array:\", example_array)\n",
    "\n",
    "print(len(example_array))"
   ]
  },
  {
   "attachments": {},
   "cell_type": "markdown",
   "id": "86a802b2",
   "metadata": {},
   "source": [
    "\n",
    "The indexing of arrays is identical to that of lists. Just like with the `range()` function, we can create subarrays by slicing the original array as `example_array[start:stop:step]`. The syntax to slice a list or a string is the same. If not explicitly specified, the default start index is 0, the default end index is the last index, and the default step size is 1. Additionally, a negative index can be used to count from the end of the array."
   ]
  },
  {
   "cell_type": "code",
   "execution_count": null,
   "id": "1d0abbd2",
   "metadata": {},
   "outputs": [],
   "source": [
    "print(example_array[0])         # first element is at index 0\n",
    "\n",
    "print(example_array[4])         # last element \n",
    "print(example_array[-1])        # also the last element\n",
    "\n",
    "print(example_array[0:3])       # subarray of elements at index 0,1,and 2 (3 not included)\n",
    "print(example_array[:3])        # same subarray as before, 0 is default start\n",
    "print(example_array[0:3:2])     # every other element of the subarray above\n",
    "\n",
    "print(example_array[-2:])       # subarray from second to last element to the end\n",
    "print(example_array[1::3])      # every third element starting with index 1 to the end of the array"
   ]
  },
  {
   "attachments": {},
   "cell_type": "markdown",
   "id": "0d7713bf",
   "metadata": {},
   "source": [
    "The same indexing rules apply to each index in a multi-dimensional array. The array defined below consists of 5 rows and 4 columns. At each row and column index, there is an array of length 3."
   ]
  },
  {
   "cell_type": "code",
   "execution_count": null,
   "id": "f2e889f7",
   "metadata": {},
   "outputs": [],
   "source": [
    "A = np.arange(60).reshape((5,4,3)) # creates an array A with 5 rows, 4 columns, and 3 depth, containing sequential values from 0 to 59 \n",
    "\n",
    "print(len(A))           # the number of rows of A\n",
    "print(A.shape)          # the shape of A\n",
    "\n",
    "print(A[0,0])           # the length 3 array at [0,0]\n",
    "print(A[0,0,2])         # the last element of length 3 array at [0.0]"
   ]
  },
  {
   "attachments": {},
   "cell_type": "markdown",
   "id": "ba070c26",
   "metadata": {},
   "source": [
    "It is also easy to perform basic operations on an array without the need for loops. However, be careful when working with lists. For instance, adding two lists `[1,2]+[3,4]` will result in `[1,2,3,4]`. On the other hand, adding two arrays will perform element-wise addition. For example, `np.array([1,2])+np.array([3,4])` yields `np.array([4,6])`. Therefore, it is always important to verify that the outputs match your expectations."
   ]
  },
  {
   "cell_type": "code",
   "execution_count": null,
   "id": "a8d35038",
   "metadata": {},
   "outputs": [],
   "source": [
    "# creating a new list from example_list\n",
    "new_list = []\n",
    "for num in example_list:\n",
    "    new_list.append(num**2+8)\n",
    "\n",
    "print(new_list)\n",
    "\n",
    "# the same operation on an array\n",
    "print(example_array**2+8)"
   ]
  },
  {
   "attachments": {},
   "cell_type": "markdown",
   "id": "6b1117ec",
   "metadata": {},
   "source": [
    "### <span style=\"color:red\"> Exercise 5</span>\n",
    "\n",
    "Write a function with two parameters, $m$ and $n$, that returns a 2-dimensional array with $m$ rows and $n$ columns. Set the value in the i-th row and j-th column to be $(i+j)\\mod (\\min(m,n))$.\n",
    "\n",
    "Create a new array from the output of your function by multiplying every odd-indexed row by 3 and every even-indexed column by 2.\n",
    "\n",
    "Print the results when $m=6$ and $n=4$.\n",
    "\n",
    "<h3 style=\"background-color:lightblue\"> Write Answers for Exercise 5 Below </h3>\n"
   ]
  },
  {
   "cell_type": "code",
   "execution_count": null,
   "id": "ffd6bbe1",
   "metadata": {},
   "outputs": [],
   "source": []
  },
  {
   "attachments": {},
   "cell_type": "markdown",
   "id": "527c9da3",
   "metadata": {},
   "source": [
    "## <span style=\"color:orange;\"> 4. Plotting </span>\n",
    "\n",
    "We will primarily use the matplotlib.pyplot module for our data visualizations. There are many customizations you can make. To see more examples, glance through the [documentation](https://matplotlib.org/stable/plot_types/index.html).\n"
   ]
  },
  {
   "cell_type": "code",
   "execution_count": null,
   "id": "9139b86a",
   "metadata": {},
   "outputs": [],
   "source": [
    "import matplotlib.pyplot as plt\n",
    "\n",
    "fig, ax = plt.subplots(figsize=(8,4))       # optional to specify figsize\n",
    "\n",
    "x = np.arange(10)                           # we could use np.linspace() to make our graph smoother\n",
    "y = np.sin(x)\n",
    "ax.plot(x, y, '-o', label='label 1') # '-o' makes the curve styled to be a line with points\n",
    "ax.plot(x, y+1, 'r-o', label='label 2') # 'r-o' makes the curve styled to be a red line with points\n",
    "ax.set_title(\"example plot\")\n",
    "ax.set_xlabel(\"x\")\n",
    "ax.set_ylabel(\"y\")\n",
    "ax.legend()\n",
    "plt.show()"
   ]
  },
  {
   "attachments": {},
   "cell_type": "markdown",
   "id": "2b0001f3",
   "metadata": {},
   "source": [
    "### <span style=\"color:red\"> Exercise 6</span>\n",
    "\n"
   ]
  },
  {
   "cell_type": "code",
   "execution_count": 29,
   "id": "9792cdd8",
   "metadata": {},
   "outputs": [],
   "source": [
    "random_dorms = np.random.choice(dorms, size = 100) # creates a new array that chooses a random dorm 100 times"
   ]
  },
  {
   "attachments": {},
   "cell_type": "markdown",
   "id": "9f8d9701",
   "metadata": {},
   "source": [
    "After executing the cell above, create a histogram graphing the frequency of each dorm in the `random_dorms` list.  Here's an example of a [bar chart](https://matplotlib.org/stable/plot_types/basic/bar.html#sphx-glr-plot-types-basic-bar-py).\n",
    "\n",
    "*Hint: Refer to [np.unique](https://numpy.org/doc/stable/reference/generated/numpy.unique.html). Look closely at the optional outputs.*\n",
    "\n",
    "<h3 style=\"background-color:lightblue\"> Write Answers for Exercise 6 Below </h3>"
   ]
  },
  {
   "cell_type": "code",
   "execution_count": null,
   "id": "f6762ffb",
   "metadata": {},
   "outputs": [],
   "source": []
  },
  {
   "attachments": {},
   "cell_type": "markdown",
   "id": "2ae0feff",
   "metadata": {},
   "source": [
    "### <span style=\"color:red\"> Exercise 7</span>\n",
    "\n",
    "Plot a smooth graph of $y=\\sin(x)+1$ on the interval $0 \\leq x \\leq 4$. On the same graph, add a bar chart representing the rectangles in a left Riemann sum on 12 subintervals.\n",
    "\n",
    "<h3 style=\"background-color:lightblue\"> Write Answers for Exercise 7 Below </h3>"
   ]
  },
  {
   "cell_type": "code",
   "execution_count": null,
   "id": "1a7e7798",
   "metadata": {},
   "outputs": [],
   "source": []
  },
  {
   "attachments": {},
   "cell_type": "markdown",
   "id": "d7031ed4",
   "metadata": {},
   "source": [
    "## <span style=\"color:green;\"> Reflection </span>\n",
    "\n",
    "1. Are there any concepts or functions in this lab that you didn't know previously that you believe may be very helpful in later labs?\n",
    "2. Which part of the lab did you find the most challenging?\n",
    "3. Which part of the lab was the easiest?\n",
    "\n",
    "<h3 style=\"background-color:lightblue\"> Write Answers for the Reflection Below </h3>"
   ]
  },
  {
   "attachments": {},
   "cell_type": "markdown",
   "id": "90f42392",
   "metadata": {},
   "source": []
  }
 ],
 "metadata": {
  "interpreter": {
   "hash": "5733b5ebf5ecec2b002a59c36710d44decb4334b28aff8074b4cca610e6649ad"
  },
  "kernelspec": {
   "display_name": "Python 3",
   "language": "python",
   "name": "python3"
  },
  "language_info": {
   "codemirror_mode": {
    "name": "ipython",
    "version": 3
   },
   "file_extension": ".py",
   "mimetype": "text/x-python",
   "name": "python",
   "nbconvert_exporter": "python",
   "pygments_lexer": "ipython3",
   "version": "3.10.6"
  }
 },
 "nbformat": 4,
 "nbformat_minor": 5
}