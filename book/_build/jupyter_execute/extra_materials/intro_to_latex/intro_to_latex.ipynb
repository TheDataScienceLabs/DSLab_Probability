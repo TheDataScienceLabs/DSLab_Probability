{
 "cells": [
  {
   "attachments": {},
   "cell_type": "markdown",
   "id": "a86c853b-b82f-4883-bf03-15a2c05b87db",
   "metadata": {},
   "source": [
    "# Introduction to $\\LaTeX$ #\n",
    "\n",
    "<font size=\"6\"> Extra material </font> <br>\n",
    "<font size=\"3\"> Last updated July 26, 2022 </font>"
   ]
  },
  {
   "attachments": {},
   "cell_type": "markdown",
   "id": "e90879f5-f730-44da-ad7a-be77ee8b2eaa",
   "metadata": {},
   "source": [
    "## <span style=\"color:orange;\"> 00. Content </span>"
   ]
  },
  {
   "attachments": {},
   "cell_type": "markdown",
   "id": "ba827722-0c2f-493b-a2d2-d7f0bda08882",
   "metadata": {},
   "source": [
    "<font size=\"5\"> Mathematics </font>\n",
    "- N/A\n",
    "     \n",
    "<font size=\"5\"> Programming Skills </font>\n",
    "- Latex    \n",
    "    \n",
    "<font size=\"5\"> Embedded Systems </font>\n",
    "- N/A"
   ]
  },
  {
   "attachments": {},
   "cell_type": "markdown",
   "id": "40ef17dd-1c68-43ed-9406-c2b55840c4b5",
   "metadata": {},
   "source": [
    "## <span style=\"color:orange;\"> 0. Required Hardware </span>"
   ]
  },
  {
   "attachments": {},
   "cell_type": "markdown",
   "id": "ec4e4a28-936f-4676-8286-c69f06d2ac08",
   "metadata": {},
   "source": [
    "- N/A"
   ]
  },
  {
   "attachments": {},
   "cell_type": "markdown",
   "id": "d0f19fc1-3d0b-43c1-969c-9385f645fd7a",
   "metadata": {},
   "source": [
    "## <span style=\"color:orange;\"> 1. A Very Brief Introduction to $\\LaTeX$ </span>"
   ]
  },
  {
   "attachments": {},
   "cell_type": "markdown",
   "id": "2535f7b3-5f7d-4742-83a7-71f424710364",
   "metadata": {},
   "source": [
    "Latex (written stylized as $\\LaTeX$) is a very popular, very old, very well-established tool for making typeset documents. The \"x\" should really be a letter chi, $\\chi$, which makes a \"k\" sound -- Latex is pronounced \"law-tek\", or \"lay-tek\". Here are some common ways people use it:\n",
    "\n",
    " - writing submissions to academic journals\n",
    " - writing textbooks\n",
    " - preparing fiction books for publishing\n",
    " - writing assignments and exams for students\n",
    " - making slide presentations (like PowerPoint)\n",
    " - writing letters to their friends\n",
    " \n",
    "Many mathematicians use Latex almost exclusively when preparing written documents. We are going to use only a tiny, tiny fraction of Latex in this course -- the portion which prints formulas nicely. Many Markdown interpreters (including the one that comes with JupyterLab) know how to turn expressions written in Latex into nicely printed expressions. That's how I can write a nice formula like\n",
    "\n",
    "$$\n",
    "e^x = \\sum_{n=0}^\\infty \\frac{x^n}{n!}.\n",
    "$$\n",
    "\n",
    "If you double-click on this cell of the document, you will see the characters which I typed to make that formula happen. Notice the `$$ and $$` which are used to tell Markdown that a formula is happening."
   ]
  },
  {
   "attachments": {},
   "cell_type": "markdown",
   "id": "6e1b8035-a2a9-4ca5-9d7f-ee49522fb5bd",
   "metadata": {},
   "source": [
    "### <span style=\"color:red\"> Exercise 1 </span> (5 pts)\n",
    "\n",
    "Copy and paste the formula from the cell above into the cell below. Change it so that instead of $x$, the variable is $y$.\n",
    "\n",
    "<h3 style=\"background-color:lightblue\"> Write Answers for Exercise 1 Below </h3>"
   ]
  },
  {
   "attachments": {},
   "cell_type": "markdown",
   "id": "b679e679-4dbc-470f-8766-7b1c6a446ac2",
   "metadata": {},
   "source": [
    "One of the reasons Latex is so popular is that you can use the same formulas in different places, and they will show up differently based on context. If you want to put Latex in a line of text (without its own line) you can just put your code between dollar signs (`$`) like this: $e^x = \\sum_{n=0}^\\infty \\frac{x^n}{n!}.$ Notice that the sum is written smaller, so it doesn't break up the text as much, but I used the exact same code.\n",
    "\n",
    "## Escape sequences\n",
    "\n",
    "A lot of the symbols we like to use in math are not on a typical keyboard. If you want a lower case sigma, you are usually out of luck. In Latex you can write a lower case sigma by writing `\\sigma`, which shows up like $\\sigma$. Everything written after a backslash (the symbol `\\`, which is found just under the backspace key on most keyboards) is not printed, but instead is treated like a command. In this case, the command is \"put a letter sigma here\". To do a capital sigma, just type `\\Sigma` with a capital `S`, like so $\\Sigma$.\n",
    "\n",
    "### <span style=\"color:red\"> Exercise 2 </span> (5 pts)\n",
    "\n",
    "Write some Latex code in the cell below to produce an phi, psi, gamma, and delta, first in lower case then in upper case.\n",
    "\n",
    "<h3 style=\"background-color:lightblue\"> Write Answers for Exercise 2 Below </h3>"
   ]
  },
  {
   "attachments": {},
   "cell_type": "markdown",
   "id": "90f128b6-4c70-42a6-b3f5-b4060e7e3a45",
   "metadata": {},
   "source": [
    "## Subscripts, superscripts, and grouping\n",
    "\n",
    "It is really common in math to want to write a superscript like the 2 in $x^2$ or the $r$ in $\\varepsilon_r$. We do that with the `^` and `_` keys (caret and underscore). **Watch out**: Latex is different from Python. In Python, we would write $x^2$ as `x**2`. It can be easy to get mixed up when switching back and forth.\n",
    "\n",
    "Here is another thing to watch out for: the subscript (or superscript) only works on the first thing after it. So, if I try to raise x to the 23rd power with just one caret (`x^23`) I get this: $x^23$. No good! In order to fix this, we will tell the 2 and the 3 that they go together. We use the `{` and `}` symbols (braces) to group things together in Latex. I can type this instead as `x^{23}` which gives $x^{23}$.\n",
    "\n",
    "### <span style=\"color:red\"> Exercise 3 </span> (5 pts)\n",
    "\n",
    "The formula below is all wrong! Put in braces to make it correct.\n",
    "\n",
    "<h3 style=\"background-color:lightblue\"> Write Answers for Exercise 3 Below </h3>"
   ]
  },
  {
   "attachments": {},
   "cell_type": "markdown",
   "id": "10acdb8d-a69c-40dd-a814-0c90e49d8100",
   "metadata": {},
   "source": [
    "$$\n",
    "\\cos(x) = \\sum_k=0^\\infty \\frac{(-1)^k x^2k}{(2k)!}\n",
    "$$"
   ]
  },
  {
   "attachments": {},
   "cell_type": "markdown",
   "id": "1d9d8df9-4cab-410c-bb23-bcf182f2edeb",
   "metadata": {},
   "source": [
    "## Fractions and parentheses\n",
    "\n",
    "Fractions in Latex are a bit unusual in that they act on the *two* symbols which come after them. If I write `\\frac12` that makes $\\frac12$. Usually, fractions have more than one character in the numerator and denominator, so you will usually write a fraction with two pairs of braces, `\\frac{1}{2}`. That is easier to read anyhow, I think. This makes it possible to more complicated fractions, or even fractions inside of fractions.\n",
    "\n",
    "$$\n",
    "\\frac{pq}{p+q} = \\frac{1}{\\frac{1}{p} + \\frac{1}{q}}\n",
    "$$\n",
    "\n",
    "If you are in \"text mode\" (the smaller in-line text you get with `$`) the fractions are smaller, and if you are in \"display mode\" they are bigger. If you want to override that, you could use the command `\\tfrac` which always does the smaller-style fraction, or the command `\\dfrac` which always does the display style fraction.\n",
    "\n",
    "When you have expressions involving fractions, they are often quite a bit taller than a single character. This can lead to ugly expressions:\n",
    "\\begin{align*}\n",
    "1 = \\sum_{n=1}^\\infty (\\frac{1}{2})^n\n",
    "\\end{align*}\n",
    "\n",
    "We would prefer if the parentheses knew what was inside them, so they can get bigger. We can do that with the commands `\\left` and `\\right`, which turn normal parentheses into scaling parentheses.\n",
    "\\begin{align*}\n",
    "1 = \\sum_{n=1}^\\infty \\left( \\frac{1}{2} \\right)^n\n",
    "\\end{align*}"
   ]
  },
  {
   "attachments": {},
   "cell_type": "markdown",
   "id": "2c4a36be-fc81-481f-8bd0-24581735799a",
   "metadata": {},
   "source": [
    "# Getting help\n",
    "\n",
    "Almost nobody knows every Latex command they use by heart. There are lots of ways to get help on the internet. One popular tool is [Detexify](http://detexify.kirelabs.org/classify.html) which can help you find the escape sequence for a symbol you need. Try it out.\n",
    "\n",
    "### <span style=\"color:red\"> Exercise 4 </span> (5 pts)\n",
    "\n",
    "Use Detexify to find the escape sequence for the symbol ![symbol](./symbol.png), then type it using Latex below.\n",
    "\n",
    "<h3 style=\"background-color:lightblue\"> Write Answers for Exercise 4 Below </h3>"
   ]
  },
  {
   "attachments": {},
   "cell_type": "markdown",
   "id": "568ef5ae-71dd-416f-9c0d-213fb8e24bc3",
   "metadata": {},
   "source": []
  },
  {
   "attachments": {},
   "cell_type": "markdown",
   "id": "a25c5506-9df0-46b0-9e62-6de6825c8695",
   "metadata": {
    "tags": []
   },
   "source": [
    "Another powerful way is to copy someone else's working code. One great place to find it is on Wikipedia.\n",
    "\n",
    "### <span style=\"color:red\"> Exercise 5 </span> (5 pts)\n",
    "\n",
    "You have not been told yet how to write a binomial coefficient in Latex. To figure it out, go to [the Wikipedia page for the binomial theorem](https://en.wikipedia.org/wiki/Binomial_theorem) and find this formula:\n",
    "\n",
    "![img](./binomial.png)\n",
    "\n",
    "Go to \"edit source\" on Wikipedia and copy the Latex code you find there to reproduce the formula here below. Then, change the index of summation from a $k$ to an $i$.\n",
    "\n",
    "<h3 style=\"background-color:lightblue\"> Write Answers for Exercise 5 Below </h3>"
   ]
  }
 ],
 "metadata": {
  "kernelspec": {
   "display_name": "Python 3 (ipykernel)",
   "language": "python",
   "name": "python3"
  },
  "language_info": {
   "codemirror_mode": {
    "name": "ipython",
    "version": 3
   },
   "file_extension": ".py",
   "mimetype": "text/x-python",
   "name": "python",
   "nbconvert_exporter": "python",
   "pygments_lexer": "ipython3",
   "version": "3.11.1"
  },
  "vscode": {
   "interpreter": {
    "hash": "31f2aee4e71d21fbe5cf8b01ff0e069b9275f58929596ceb00d14d90e3e16cd6"
   }
  }
 },
 "nbformat": 4,
 "nbformat_minor": 5
}