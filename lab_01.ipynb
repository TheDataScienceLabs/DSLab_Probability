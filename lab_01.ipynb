{
 "cells": [
  {
   "attachments": {},
   "cell_type": "markdown",
   "id": "a86c853b-b82f-4883-bf03-15a2c05b87db",
   "metadata": {},
   "source": [
    "# Week 2: Review of Python\n",
    "\n",
    "<font size=\"6\"> Laboratory 1 </font> <br>\n",
    "<font size=\"3\"> Last updated April 13, 2023 </font>"
   ]
  },
  {
   "cell_type": "markdown",
   "id": "e90879f5-f730-44da-ad7a-be77ee8b2eaa",
   "metadata": {},
   "source": [
    "## <span style=\"color:orange;\"> 00. Content </span>"
   ]
  },
  {
   "attachments": {},
   "cell_type": "markdown",
   "id": "ba827722-0c2f-493b-a2d2-d7f0bda08882",
   "metadata": {},
   "source": [
    "<font size=\"5\"> Mathematics </font>\n",
    "- Functions\n",
    "     \n",
    "<font size=\"5\"> Programming Skills </font>\n",
    "- Data types and basic operations\n",
    "- Lists and arrays\n",
    "- Functions\n",
    "- Loops and comprehension\n",
    "- Plotting\n",
    "    \n",
    "<font size=\"5\"> Embedded Systems </font>\n",
    "- N/A"
   ]
  },
  {
   "cell_type": "markdown",
   "id": "40ef17dd-1c68-43ed-9406-c2b55840c4b5",
   "metadata": {},
   "source": [
    "## <span style=\"color:orange;\"> 0. Required Hardware </span>"
   ]
  },
  {
   "attachments": {},
   "cell_type": "markdown",
   "id": "ec4e4a28-936f-4676-8286-c69f06d2ac08",
   "metadata": {},
   "source": [
    "- N/A"
   ]
  },
  {
   "cell_type": "markdown",
   "id": "60f85e09-35cc-47d9-b1d8-6e88b0fb6416",
   "metadata": {},
   "source": [
    "<h3 style=\"background-color:lightblue\"> Write your name and email below: </h3>\n",
    "\n",
    "**Name:** me \n",
    "\n",
    "**Email:** me @purdue.edu"
   ]
  },
  {
   "attachments": {},
   "cell_type": "markdown",
   "id": "a9b4a375-00e6-40d3-bea2-dcc8a1492083",
   "metadata": {},
   "source": [
    "## <span style=\"color:orange;\"> 1. Datatypes and Operators </span>\n"
   ]
  },
  {
   "attachments": {},
   "cell_type": "markdown",
   "id": "1c9c8752",
   "metadata": {},
   "source": [
    "Let's initialize a variable in a cell."
   ]
  },
  {
   "cell_type": "code",
   "execution_count": null,
   "id": "b71c240f",
   "metadata": {},
   "outputs": [],
   "source": [
    "a = 1"
   ]
  },
  {
   "attachments": {},
   "cell_type": "markdown",
   "id": "cf916bcc",
   "metadata": {},
   "source": [
    "We can still access the variable in the next cell without having to redefine it.\n",
    "However, if you restart the kernel and only run the cell below, you will get an error. "
   ]
  },
  {
   "cell_type": "code",
   "execution_count": null,
   "id": "665ab44c",
   "metadata": {},
   "outputs": [],
   "source": [
    "print(a)"
   ]
  },
  {
   "attachments": {},
   "cell_type": "markdown",
   "id": "1495ee94",
   "metadata": {},
   "source": [
    "Throughout this course we will use the following datatypes in Python.\n",
    "\n",
    "- Boolean (`bool`): Boolean variables are either `True` or `False` and are equivalent to `1` (true) or `0` (false).\n",
    "- String (`str`): Strings contain a sequence of characters.\n",
    "- Numeric (`int`,`float`):\n",
    "    - The `int` datatype holds signed integer values of arbitrary length.\n",
    "    - `float` variables hold floating point numbers. They are only accurate to 15-16 digits.\n",
    "\n",
    "You can check the datatype of a variable in Python with the `type()` function."
   ]
  },
  {
   "cell_type": "code",
   "execution_count": null,
   "id": "e0e41696",
   "metadata": {},
   "outputs": [],
   "source": [
    "type(a)"
   ]
  },
  {
   "attachments": {},
   "cell_type": "markdown",
   "id": "551ada82",
   "metadata": {},
   "source": [
    "| Operation | Description \n",
    "| :---:   |   ----   \n",
    "| `and` | Returns `True` if statements on both sides of the operator are true\n",
    "| `or` | Returns `True` if at least one statement is true\n",
    "| `==` |  Equality; gives `True` or `False`   \n",
    "| `!=` |  Tests if not equal     \n",
    "| `<,<=,>,>=` |  Less than, less than or equal to, greater than, greater than or equal to\n",
    "| `is` |  Used to compare types, NOT values     \n",
    "| `not` |  Negation \n",
    "| `~` |  Complement operator\n",
    "| `+` |  Addition      \n",
    "| `-` |  Subtraction      \n",
    "| `*` |  Multiplication       \n",
    "| `/` |  Division \n",
    "| `**`|  Exponentiation; `a**b` is `a` to the power of `b`\n",
    "| `//` |  Integer division; division without the remainder   \n",
    "| `%` |  Modulo operator; `a%b` returns `a mod b`  \n",
    "| `+=` | `a += 5` is the same as `a = a+5`; replace `+` with any other arithmetic operator (like `-,*,/,//,%`) for the same effect"
   ]
  },
  {
   "attachments": {},
   "cell_type": "markdown",
   "id": "f196343f",
   "metadata": {},
   "source": [
    "## <span style=\"color:orange;\"> 2. Functions and Loops </span>\n",
    "\n",
    "Defining your own functions will be a key skill in this course. Be sure to give your functions descriptive names. It helps you and others to read and interpret your code easily.\n"
   ]
  },
  {
   "cell_type": "code",
   "execution_count": null,
   "id": "542efdf2",
   "metadata": {},
   "outputs": [],
   "source": [
    "def split_message(text, separator):\n",
    "    return text.split(separator)\n",
    "\n",
    "print(split_message(\"happy birthday!\", \" \"))\n",
    "print(split_message(\"bread, milk, eggs\", \", \"))"
   ]
  },
  {
   "attachments": {},
   "cell_type": "markdown",
   "id": "1af3fae9",
   "metadata": {},
   "source": [
    "Loops allow us to move through a list a values. \n",
    "While loops continue executing the loop while a condition is true.\n",
    "For loops will iterate through a list.\n",
    "\n",
    "The `range(start,stop,step)` function returns a sequence of values starting at `start`, ending *before* `end` and incrementing by `step`. By default, `start` is 0 and `step` is 1."
   ]
  },
  {
   "cell_type": "code",
   "execution_count": null,
   "id": "41d9d1df",
   "metadata": {},
   "outputs": [],
   "source": [
    "i = 0\n",
    "while i < 10:\n",
    "    print(i)\n",
    "    i += 1"
   ]
  },
  {
   "cell_type": "code",
   "execution_count": null,
   "id": "172459af",
   "metadata": {},
   "outputs": [],
   "source": [
    "for i in range(10):\n",
    "    print(i)"
   ]
  },
  {
   "cell_type": "code",
   "execution_count": null,
   "id": "20f4ef1b",
   "metadata": {},
   "outputs": [],
   "source": [
    "for i in range(2,13,2): # start a 2, increment by 2 until 12 (13 not included)\n",
    "    print(i)"
   ]
  },
  {
   "cell_type": "code",
   "execution_count": null,
   "id": "50586026",
   "metadata": {},
   "outputs": [],
   "source": [
    "for i in range(20,0,-5): # start at 20, decrease by 5 until 5 (0 not included)\n",
    "    print(i)"
   ]
  },
  {
   "cell_type": "code",
   "execution_count": null,
   "id": "4f6852d1",
   "metadata": {},
   "outputs": [],
   "source": [
    "example_list = [1,1,2,3,5]\n",
    "for num in example_list:\n",
    "    print(num)"
   ]
  },
  {
   "attachments": {},
   "cell_type": "markdown",
   "id": "9af19b32",
   "metadata": {},
   "source": [
    "Python has a nice feature called comprehension that allows us to define lists in one line.\n",
    "It is best to use comprehension when the operation is clear.\n",
    "Don't complicate code for the sake of brevity."
   ]
  },
  {
   "cell_type": "code",
   "execution_count": null,
   "id": "907a1b9b",
   "metadata": {},
   "outputs": [],
   "source": [
    "[i for i in range(10) if i%2==1]"
   ]
  },
  {
   "cell_type": "code",
   "execution_count": null,
   "id": "c5dfe0f5",
   "metadata": {},
   "outputs": [],
   "source": [
    "[num**2+8 for num in example_list]"
   ]
  },
  {
   "attachments": {},
   "cell_type": "markdown",
   "id": "f6dac009",
   "metadata": {},
   "source": [
    "### <span style=\"color:red\"> Exercise </span>\n",
    "\n",
    "When $n$ is a natural number, the factorial of $n$ is \n",
    "$$ n! = n \\cdot (n-1) \\cdot (n-2) \\cdots 2 \\cdot 1. $$\n",
    "We define $0!=1$.\n",
    "\n",
    "Write a function returns $n!$ if the input $n$ is a natural number, otherwise it should print an error message. \n",
    "\n",
    "<h3 style=\"background-color:lightblue\"> Write Answer for Exercise Below </h3>\n"
   ]
  },
  {
   "cell_type": "code",
   "execution_count": null,
   "id": "eea4b7fe",
   "metadata": {},
   "outputs": [],
   "source": []
  },
  {
   "attachments": {},
   "cell_type": "markdown",
   "id": "749b2b4d",
   "metadata": {},
   "source": [
    "### <span style=\"color:red\"> Exercise </span>\n",
    "\n",
    "Write a function with one parameter $n$ that prints the first $n$ rows of the pyramid\n",
    "<pre>\n",
    "   1\n",
    "  2 2\n",
    " 3 3 3\n",
    "4 4 4 4\n",
    "  ...\n",
    "</pre>\n",
    "\n",
    "Call your function for $n=3$ and $n=10$.\n",
    "\n",
    "<h3 style=\"background-color:lightblue\"> Write Answer for Exercise Below </h3>\n"
   ]
  },
  {
   "cell_type": "code",
   "execution_count": null,
   "id": "dd9f912d",
   "metadata": {},
   "outputs": [],
   "source": []
  },
  {
   "attachments": {},
   "cell_type": "markdown",
   "id": "eea1038d",
   "metadata": {},
   "source": [
    "### <span style=\"color:red\"> Exercise </span>\n",
    "\n",
    "A palindrome is a sequence that reads the same forward and backward. Write a function that checks if a given list or string is a palindrome. For example, if the input to your function is `\"level\"` or `\"[2,1,4,5,5,4,1,2]\"`, then the function should return `True`.\n",
    "\n",
    "<h3 style=\"background-color:lightblue\"> Write Answer for Exercise Below </h3>\n"
   ]
  },
  {
   "cell_type": "code",
   "execution_count": null,
   "id": "45d34155",
   "metadata": {},
   "outputs": [],
   "source": []
  },
  {
   "attachments": {},
   "cell_type": "markdown",
   "id": "ab3ee1de",
   "metadata": {},
   "source": [
    "## <span style=\"color:orange;\"> 3. NumPy Arrays </span>\n",
    "\n",
    "So far, we have been using Python lists, but NumPy arrays are similar.\n",
    "Once we import the NumPy library, we can initalize an array like so - "
   ]
  },
  {
   "cell_type": "code",
   "execution_count": null,
   "id": "ae65839a",
   "metadata": {},
   "outputs": [],
   "source": [
    "import numpy as np\n",
    "\n",
    "example_array = np.array(example_list)\n",
    "print(example_array)\n",
    "\n",
    "print(len(example_array))"
   ]
  },
  {
   "attachments": {},
   "cell_type": "markdown",
   "id": "10e18e55",
   "metadata": {},
   "source": [
    "The indexing of arrays is the same as list.\n",
    "Similar to the `range()` function, we can make subarrays from splicing the original array as `example_array[start:stop:step]`. If not specified, the default start is at index 0 and the defualt end is the last index, and the default step size is 1. A negative index will start counting from the end of the array."
   ]
  },
  {
   "cell_type": "code",
   "execution_count": null,
   "id": "8769c7e3",
   "metadata": {},
   "outputs": [],
   "source": [
    "print(example_array[0])         # first element is at index 0\n",
    "\n",
    "print(example_array[4])         # last element \n",
    "print(example_array[-1])        # also the last element\n",
    "\n",
    "print(example_array[0:3])       # subarray of elements at index 0,1,and 2 (3 not included)\n",
    "print(example_array[:3])        # same subarray as before, 0 is default start\n",
    "print(example_array[0:3:2])     # every other element of the subarray above\n",
    "\n",
    "print(example_array[-2:])       # subarray from second to last element to the end\n",
    "print(example_array[1::3])      # every third element starting with index 1 to the end of the array"
   ]
  },
  {
   "attachments": {},
   "cell_type": "markdown",
   "id": "4cb073d5",
   "metadata": {},
   "source": [
    "The same indexing applies for each index in a multi-dimensional array. The array defined below has 5 rows and 4 columns. At each row and column index, there is a length 3 array."
   ]
  },
  {
   "cell_type": "code",
   "execution_count": null,
   "id": "6246a2d3",
   "metadata": {},
   "outputs": [],
   "source": [
    "A = np.arange(60).reshape((5,4,3))\n",
    "\n",
    "print(len(A))           # the number of rows of A\n",
    "print(A.shape)          # the shape of A\n",
    "\n",
    "print(A[0,0])           # length 3 array\n",
    "print(A[0,0,2])         #  the last element of length 3 array at [0.0]"
   ]
  },
  {
   "attachments": {},
   "cell_type": "markdown",
   "id": "117534c4",
   "metadata": {},
   "source": [
    "It's also easy to apply basic operations to an array without using loops. Be careful with operations on lists. For example, adding two lists `[1,2]+[3,4]` will return `[1,2,3,4]`. Adding two arrays though will output element-wise addition - `np.array([1,2])+np.array([3,4])` is `np.array([4,6])`.\n",
    "Always check that your outputs are what you expext."
   ]
  },
  {
   "cell_type": "code",
   "execution_count": null,
   "id": "e7c9ed6f",
   "metadata": {},
   "outputs": [],
   "source": [
    "# creating a new list from example_list\n",
    "new_list = []\n",
    "for num in example_list:\n",
    "    new_list.append(num**2+8)\n",
    "\n",
    "print(new_list)\n",
    "\n",
    "# the same operation on an array\n",
    "print(example_array**2+8)"
   ]
  },
  {
   "attachments": {},
   "cell_type": "markdown",
   "id": "9c9f05e4",
   "metadata": {},
   "source": [
    "### <span style=\"color:red\"> Exercise </span>\n",
    "\n",
    "Write a function with two parameters $m$ and $m$ that returns a 2-dimensional array with $m$ rows and $n$ columns. Set the value in the i-th row and j-th column to be $(i+j)\\mod (\\min(m,n))$.\n",
    "\n",
    "Create a new array from the output of your function with every odd indexed row multiplied by 3 and every even indexed column multiplied by 2.\n",
    "\n",
    "Print the results for $m=6$ and $n=4$.\n",
    "\n",
    "<h3 style=\"background-color:lightblue\"> Write Answer for Exercise Below </h3>\n"
   ]
  },
  {
   "cell_type": "code",
   "execution_count": null,
   "id": "83aa0ceb",
   "metadata": {},
   "outputs": [],
   "source": []
  },
  {
   "attachments": {},
   "cell_type": "markdown",
   "id": "b9ec97b4",
   "metadata": {},
   "source": [
    "## <span style=\"color:orange;\"> 4. Plotting </span>\n",
    "\n",
    "We will primarily use the matplotlib.pyplot module for our data visualizations. There are many customizations you can make. To see more examples, glance through the [documentation](https://matplotlib.org/stable/plot_types/index.html).\n"
   ]
  },
  {
   "cell_type": "code",
   "execution_count": 89,
   "id": "6dfd6fd2",
   "metadata": {},
   "outputs": [
    {
     "data": {
      "image/png": "[encoded data removed]",
      "text/plain": [
       "<Figure size 576x288 with 1 Axes>"
      ]
     },
     "metadata": {
      "needs_background": "light"
     },
     "output_type": "display_data"
    }
   ],
   "source": [
    "import matplotlib.pyplot as plt\n",
    "\n",
    "fig, ax = plt.subplots(figsize=(8,4))       # optional to specify figsize\n",
    "\n",
    "x = np.arange(10)                           # we could use np.linspace() to make our graph smoother\n",
    "y = np.sin(x)\n",
    "ax.plot(x, y, '-o', label='label 1')\n",
    "ax.plot(x, y+1, 'r-o', label='label 2')\n",
    "ax.set_title(\"example plot\")\n",
    "ax.set_xlabel(\"x\")\n",
    "ax.set_ylabel(\"y\")\n",
    "ax.legend()\n",
    "plt.show()"
   ]
  },
  {
   "attachments": {},
   "cell_type": "markdown",
   "id": "7636de42-f083-40b1-8510-b5a0e6a57eeb",
   "metadata": {},
   "source": [
    "### <span style=\"color:red\"> Exercise </span>\n",
    "\n",
    "Write a function that plots\n",
    "$$ f(x) = \\begin{cases}\n",
    "    -\\alpha x^2 - x,& -10\\leq x \\leq 0 \\\\\n",
    "    \\frac{\\alpha}{3}x,&  0 < x \\leq 1 \\\\\n",
    "    2\\alpha - \\frac{5\\alpha}{3}x, & 1 < x \\geq 10\n",
    "\\end{cases}.$$\n",
    "Plot your results for a few values of $\\alpha > 0$.\n",
    "\n",
    "<h3 style=\"background-color:lightblue\"> Write Answer for Exercise Below </h3>"
   ]
  },
  {
   "cell_type": "code",
   "execution_count": null,
   "id": "fc68a9ef",
   "metadata": {},
   "outputs": [],
   "source": []
  },
  {
   "attachments": {},
   "cell_type": "markdown",
   "id": "c85f8f66",
   "metadata": {},
   "source": [
    "### <span style=\"color:red\"> Exercise </span>\n",
    "\n",
    "Plot a smooth graph of $y=\\sin(x)+1$ on the interval $0 \\leq x \\leq 4$. On the same graph, add a bar chart, representing the rectangles in a left Riemann sum on 12 subintervals.\n",
    "\n",
    "*Hint: Here's an example of a [bar chart](https://matplotlib.org/stable/plot_types/basic/bar.html#sphx-glr-plot-types-basic-bar-py).*\n",
    "\n",
    "<h3 style=\"background-color:lightblue\"> Write Answer for Exercise Below </h3>"
   ]
  },
  {
   "cell_type": "code",
   "execution_count": null,
   "id": "1a2ae381-d4f2-49d5-84b6-4a458cf2f5e6",
   "metadata": {},
   "outputs": [],
   "source": []
  },
  {
   "attachments": {},
   "cell_type": "markdown",
   "id": "e907e1a3",
   "metadata": {},
   "source": [
    "## <span style=\"color:green;\"> Reflection </span>\n",
    "\n",
    "__1. What parts of the lab, if any, do you feel you did well? <br>\n",
    "2. What are some things you learned today? <br>\n",
    "3. Are there any topics that could use more clarification? <br>\n",
    "4. Do you have any suggestions on parts of the lab to improve?__\n",
    "\n",
    "<h3 style=\"background-color:lightblue\"> Write Answers for the Reflection Below </h3>"
   ]
  },
  {
   "cell_type": "markdown",
   "id": "58523e79",
   "metadata": {},
   "source": []
  }
 ],
 "metadata": {
  "interpreter": {
   "hash": "5733b5ebf5ecec2b002a59c36710d44decb4334b28aff8074b4cca610e6649ad"
  },
  "kernelspec": {
   "display_name": "Python 3 (ipykernel)",
   "language": "python",
   "name": "python3"
  },
  "language_info": {
   "codemirror_mode": {
    "name": "ipython",
    "version": 3
   },
   "file_extension": ".py",
   "mimetype": "text/x-python",
   "name": "python",
   "nbconvert_exporter": "python",
   "pygments_lexer": "ipython3",
   "version": "3.8.5"
  }
 },
 "nbformat": 4,
 "nbformat_minor": 5
}
