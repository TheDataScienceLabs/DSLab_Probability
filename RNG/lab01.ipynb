{
 "cells": [
  {
   "attachments": {},
   "cell_type": "markdown",
   "id": "a86c853b-b82f-4883-bf03-15a2c05b87db",
   "metadata": {},
   "source": [
    "# Weeks 2 & 3: Random Number Generators\n",
    "\n",
    "<font size=\"6\"> Laboratory 1 </font> <br>\n",
    "<font size=\"3\"> Last updated ? </font>"
   ]
  },
  {
   "attachments": {},
   "cell_type": "markdown",
   "id": "dfe4e5d9",
   "metadata": {},
   "source": [
    "TODO:\n",
    "- add links to files (rng_test_data.txt and pico_temperature.py so far)\n",
    "- number exercises\n",
    "- add wiring instructions (copy/paste from previous DSLabs)\n",
    "- fill in section 00 and 0\n",
    "\n",
    "Grading notes: \n",
    "- last exercise should be worth the most points\n",
    "- TAs could add answers or autograder for the NIST test values on provided data (rng_test_data.txt)"
   ]
  },
  {
   "cell_type": "markdown",
   "id": "e90879f5-f730-44da-ad7a-be77ee8b2eaa",
   "metadata": {},
   "source": [
    "## <span style=\"color:orange;\"> 00. Content </span>"
   ]
  },
  {
   "attachments": {},
   "cell_type": "markdown",
   "id": "ba827722-0c2f-493b-a2d2-d7f0bda08882",
   "metadata": {},
   "source": [
    "<font size=\"5\"> Mathematics </font>\n",
    "- tbd\n",
    "     \n",
    "<font size=\"5\"> Programming Skills </font>\n",
    "- tbd\n",
    "    \n",
    "<font size=\"5\"> Embedded Systems </font>\n",
    "- tbd"
   ]
  },
  {
   "cell_type": "markdown",
   "id": "40ef17dd-1c68-43ed-9406-c2b55840c4b5",
   "metadata": {},
   "source": [
    "## <span style=\"color:orange;\"> 0. Required Hardware </span>"
   ]
  },
  {
   "attachments": {},
   "cell_type": "markdown",
   "id": "ec4e4a28-936f-4676-8286-c69f06d2ac08",
   "metadata": {},
   "source": [
    "- tbd"
   ]
  },
  {
   "cell_type": "markdown",
   "id": "60f85e09-35cc-47d9-b1d8-6e88b0fb6416",
   "metadata": {},
   "source": [
    "<h3 style=\"background-color:lightblue\"> Write your name and email below: </h3>\n",
    "\n",
    "**Name:** me \n",
    "\n",
    "**Email:** me @purdue.edu"
   ]
  },
  {
   "attachments": {},
   "cell_type": "markdown",
   "id": "a9b4a375-00e6-40d3-bea2-dcc8a1492083",
   "metadata": {},
   "source": [
    "## <span style=\"color:orange;\"> 1. Applications </span>\n",
    "\n",
    "Random number generators (RNGs) are the foundation of computer security. The ability to send encrypted messages depends on RNGs. Secure systems are undoubtedly important as the value of our personal data is ever increasing. Whether it's financial information, medical records, or simply messages to a friend, information is protected by generating random numbers, unpredictable enough to prevent a hacker from guessing what's next. Random numbers are needed for a variety of tasks like drawing lottery numbers, choosing random samples for scientific studies, and creating video games.\n",
    "\n",
    "RNGs have a surprisingly long history, dating back 5000 years ago with coin-flipping and dice-rolling as the main methods. Many modern approaches are hardware based as well but much faster than rolling dice repeatedly. For example, in 1996 Silicon Graphics patented a system of random number generation using a wall of lava lamps. The exact state of a lava lamp, let alone multiple, at anytime is too complex to model and predict and so any number based on this chaotic system is secure. Another true RNG is RANDOM.ORG which uses multiple radio recievers capturing atmospheric noise to create its random numbers.\n",
    "\n",
    "True RNGs (TRNGs) are characterized by having no predictable patterns in generated sequences and are generally slow to output a large amount of random numbers. TRNGs are relatively hard to implement as a computer program, so pseudorandom number generators (PRNGs) allow computers to simulate randomness through a deterministic process, or an easy rule for the program to follow. PRNGs need a starting value called a seed and then based on the seed value pulls up a previously created list of random numbers. PRNGs are not always safe enough to use for cryptographic purposes but having a truly random seed makes them less predictable. \n",
    "\n",
    "In this lab, we will create random binary sequence of ones and zeros using different hardware methods and test them mathematically to judge the randomness of the results."
   ]
  },
  {
   "attachments": {},
   "cell_type": "markdown",
   "id": "fde5a2c3",
   "metadata": {},
   "source": [
    "### Binary Numbers\n",
    "\n",
    "We only need a random binary sequence to generate random numbers in any range. The reasons behind this are that we can convert between number bases and that computers store numbers in a finite amount of bits. A bit is the smallest unit of information a computer can store. Bits are either 0 or 1. Python uses 32 or 64 bits to store floating point numbers and integers. \n",
    "\n",
    "We are accustomed to the base-10 number system. We can break down numbers like $9234$ as\n",
    "\\begin{align*}\n",
    "9234 &= 9\\times 1000 + 2\\times 100 + 3\\times 10 + 4\\times 1 \\\\\n",
    "    &= 9\\times 10^3 + 2\\times 10^2 + 3\\times 10^1 + 4\\times 10^0\n",
    "\\end{align*}\n",
    "\n",
    "Similarly, in base-2 (or binary). The binary number 1101 in base-10 is\n",
    "\\begin{align*}\n",
    "1101 &= 1\\times 2^3 + 1\\times 2^2 + 0\\times 2^1 + 1\\times 2^0 \\\\\n",
    "    &= 1\\times 8 + 1\\times 4 + 0\\times 2 + 1\\times 1 \\\\\n",
    "    &= 13\n",
    "\\end{align*}\n",
    "\n",
    "In python, the prefix `0b` tells the computer to interpret the sequence as base-2. To do the reverse, call the `bin` function as demonstrated below."
   ]
  },
  {
   "cell_type": "code",
   "execution_count": null,
   "id": "9d16ff05",
   "metadata": {},
   "outputs": [],
   "source": [
    "x = 0b1101\n",
    "print(x)\n",
    "\n",
    "y = 13\n",
    "print(bin(13))\n",
    "\n",
    "# you can use underscores to make numbers more readable without affecting the value\n",
    "z = 0b_100_001_111_111_001_100_111_001_110_001_0101\n",
    "w = 9_123_456_789\n",
    "print(z == w)"
   ]
  },
  {
   "attachments": {},
   "cell_type": "markdown",
   "id": "5e3edc88",
   "metadata": {},
   "source": [
    "### <span style=\"color:red\"> Exercise </span>\n",
    "\n",
    "Suppose we generate the following random sequence $ 110 000 010 101 111 011 $. Let's separate it into 6 subsequence of length 3.\n",
    "$$ 110 \\quad |\\quad 000 \\quad |\\quad 010 \\quad |\\quad 101 \\quad |\\quad 111 \\quad |\\quad 011$$\n",
    "What is this sequence in base-10?\n",
    "\n",
    "<h3 style=\"background-color:lightblue\"> Write Answer for Exercise Below </h3>"
   ]
  },
  {
   "cell_type": "markdown",
   "id": "afdc04e1",
   "metadata": {},
   "source": []
  },
  {
   "attachments": {},
   "cell_type": "markdown",
   "id": "3264aa68",
   "metadata": {},
   "source": [
    "### <span style=\"color:red\"> Exercise </span>\n",
    "\n",
    "__Part 1:__ What range of integers can we represent using 16 bits?\n",
    "\n",
    "__Part 2:__ What is the minimum length of a random binary sequence needed to get a random number between 0 and 100?\n",
    "\n",
    "<h3 style=\"background-color:lightblue\"> Write Answer for Exercise Below </h3>"
   ]
  },
  {
   "cell_type": "markdown",
   "id": "6ef1db6a",
   "metadata": {},
   "source": []
  },
  {
   "attachments": {},
   "cell_type": "markdown",
   "id": "97b18f62",
   "metadata": {},
   "source": [
    "## <span style=\"color:orange;\"> 2. Evaluating RNGs  </span>\n",
    "\n",
    "The National Institute of Standards and Technology (NIST) defines the standards to assess a random number generator. The NIST Statistical Test Suite is comprised of 15 tests to compare a randomly generated sequence to a theoretically perfectly generated random sequence. All of the tests decribed in this section come directly from NIST's documentation and are still actively used.\n",
    "\n",
    "For the exercises in this section, use the random test data from the file [rng_test_data.txt](add link). The cell below demonstrates how to print the first 3 random numbers from the csv file using different data types. Make sure the file is under the same folder as this lab file in order to run the cell. "
   ]
  },
  {
   "cell_type": "code",
   "execution_count": null,
   "id": "11e1d99a",
   "metadata": {},
   "outputs": [],
   "source": [
    "import numpy as np\n",
    "\n",
    "# importing the first 3 rows of the data as a string\n",
    "# prints the first 3 values as one string\n",
    "x = np.loadtxt(\"rng_test_data.txt\", dtype=str, max_rows=3) \n",
    "seq = ''.join(x)\n",
    "print(seq)\n",
    "\n",
    "# importing all data as a floating point number\n",
    "# prints the first 3 values of the numpy array\n",
    "y = np.loadtxt(\"rng_test_data.txt\") \n",
    "print(y[:3])\n"
   ]
  },
  {
   "attachments": {},
   "cell_type": "markdown",
   "id": "77abeacc",
   "metadata": {},
   "source": [
    "\n",
    "### Monobit Frequency Test\n",
    "\n",
    "An ideal binary random number generator would have approximately the same number of one and zeros in a sequence. The Monobit Frequency Test quantifies how close the fraction of ones in the sequence is to $\\frac12$. The steps of the test are as follows:\n",
    "\n",
    "1. With binary data values $X_1,X_2,\\dots,X_{n}$, apply the transformation $Y_i = 2X_i - 1$ for $i=1,2,\\dots,n$.\n",
    "1. Compute $$ s = \\frac{|Y_1+Y_2+\\cdots+Y_n|}{\\sqrt{n}}.$$\n",
    "1. If $s > 2.57583$, then conclude that the sequence $(X_1,X_2,\\dots,X_n)$ is non-random.\n",
    "\n",
    "According to NIST, the parameter $n$ should be at least 100.\n",
    "\n",
    "### <span style=\"color:red\"> Exercise </span>\n",
    "\n",
    "__Part 1:__ In Step 1, decribe how the ones and zeros in the original random sequence are changed.\n",
    "\n",
    "__Part 2:__ If $|Y_1+Y_2+\\cdots+Y_n|$ is large, what does that imply about the original sequence $(X_1,X_2,\\dots,X_{n})$?\n",
    "\n",
    "__Part 3:__ Implement the test on the test data.\n",
    "\n",
    "<h3 style=\"background-color:lightblue\"> Write Answer for Exercise Below </h3>"
   ]
  },
  {
   "cell_type": "code",
   "execution_count": null,
   "id": "1572c3f2",
   "metadata": {},
   "outputs": [],
   "source": []
  },
  {
   "attachments": {},
   "cell_type": "markdown",
   "id": "810a5dcb",
   "metadata": {},
   "source": [
    "\n",
    "### Monobit Block Frequency Test\n",
    "\n",
    "This test also tests the proportion of ones and zeros in the random sequence but in size $M$ blocks instead of the entire sequence. Here are the steps:\n",
    "\n",
    "1. Separate the binary data values $X_1,X_2,\\dots,X_{M\\cdot N}$ into $N$ non-overlapping blocks of length $M$.\n",
    "1. For each block, compute the proportion of ones that occur in the length $M$ sequence. \n",
    "Denote the proportion of ones in block $i$ by $\\pi_i$ for $i=1,2,\\dots,N$.\n",
    "1. Compute $$ t = 4M \\sum_{i=1}^N \\left(\\pi_i-\\frac12 \\right)^2. $$\n",
    "1. If $G(N/2,t/2) < 0.01$, then conclude that the sequence $(X_1,X_2,\\dots,X_{M\\cdot N})$ is non-random. The function $G$ is the normalized incomplete Gamma function.\n",
    "\n",
    "NIST recommends $20 \\leq M < 100$ and $N \\leq 100$.\n",
    "\n",
    "### <span style=\"color:red\"> Exercise </span>\n",
    "\n",
    "__Part 1:__ If $t$ is large, what does that imply about the original sequence $(X_1,X_2,\\dots,X_{M\\cdot N})$\n",
    "\n",
    "__Part 2:__ Choose appropriate values for $M$ and $N$. Implement the test on the test data.\n",
    "\n",
    "<h3 style=\"background-color:lightblue\"> Write Answer for Exercise Below </h3>"
   ]
  },
  {
   "cell_type": "code",
   "execution_count": null,
   "id": "21f3d361",
   "metadata": {},
   "outputs": [],
   "source": [
    "# here's how to import and use the normalized incomplete Gamma function.\n",
    "from scipy.special import gammaincc as G\n",
    "\n",
    "G(N/2, t/2) # first define N and t"
   ]
  },
  {
   "attachments": {},
   "cell_type": "markdown",
   "id": "509a5ef4",
   "metadata": {},
   "source": [
    "### Cumulative Sum Test\n",
    "\n",
    "This test helps determine if the cumulative sum of the adjusted partial sequences is too large or small. For many non-random sequences the cumulative sums will stray from zero. Here are the steps:\n",
    "\n",
    "1. With binary data values $X_1,X_2,\\dots,X_{n}$, apply the transformation $Y_i = 2X_i - 1$ for $i=1,2,\\dots,n$.\n",
    "1. Compute the forward partial sums\n",
    "\\begin{align*}\n",
    "    S_1 &= Y_1 \\\\\n",
    "    S_2 &= Y_1+Y_2 \\\\\n",
    "    S_3 &= Y_1+Y_2+Y_3\\\\\n",
    "    \\vdots \\\\\n",
    "    S_n &= Y_1 + Y_2 + \\cdots Y_n \\\\\n",
    "\\end{align*} \n",
    "and the backward partial sums\n",
    "\\begin{align*}\n",
    "    T_1 &= Y_n \\\\\n",
    "    T_2 &= Y_n+Y_{n-1} \\\\\n",
    "    \\vdots \\\\\n",
    "    T_n &= Y_n + Y_{n-1} + \\cdots Y_1 \\\\\n",
    "\\end{align*}\n",
    "1. Find $$z_{\\text{forward}} = \\max\\{|S_1|,|S_2|,\\dots,|S_n|\\}, \\quad z_{\\text{backward}} = \\max\\{|T_1|,|T_2|,\\dots,|T_n|\\}.$$\n",
    "1. Compute\n",
    "\\begin{equation*}\n",
    "    \\rho = 1 -\n",
    "        \\sum_{k=\\lfloor \\frac{-n/z+1}{4} \\rfloor}^{\\lfloor \\frac{n/z-1}{4} \\rfloor} \n",
    "            \\left[ \\Phi\\left(\\frac{(4k+1)z}{\\sqrt{n}}\\right) - \n",
    "                    \\Phi\\left(\\frac{(4k-1)z}{\\sqrt{n}}\\right) \\right]  +\n",
    "        \\sum_{k=\\lfloor \\frac{-n/z-3}{4} \\rfloor}^{\\lfloor \\frac{n/z-1}{4} \\rfloor} \n",
    "            \\left[ \\Phi\\left(\\frac{(4k+3)z}{\\sqrt{n}}\\right) - \n",
    "                    \\Phi\\left(\\frac{(4k+1)z}{\\sqrt{n}}\\right) \\right]\n",
    "\\end{equation*} \n",
    "for $z=z_{\\text{forward}}$ and $z=z_{\\text{backward}}$.\n",
    "The function $\\Phi$ is the cumulative distribution function (cdf) of the standard normal distribution, and $\\lfloor \\cdot \\rfloor$ is the floor function which returns the largest integer less than or equal to the input.\n",
    "1. If $\\rho < 0.01$, then conclude that the sequence $(X_1,X_2,\\dots,X_{n})$ is non-random.\n",
    "\n",
    "\n",
    "### <span style=\"color:red\"> Exercise </span>\n",
    "\n",
    "Choose a value for $n$. NIST suggests $n \\geq 100$. Implement the test forwards and backwards on the test data.\n",
    "\n",
    "<h3 style=\"background-color:lightblue\"> Write Answer for Exercise Below </h3>"
   ]
  },
  {
   "cell_type": "code",
   "execution_count": null,
   "id": "24f57a46",
   "metadata": {},
   "outputs": [],
   "source": [
    "# here's how to import and use the cdf of the standard normal distribution\n",
    "from scipy.stats import norm\n",
    "import numpy as np\n",
    "\n",
    "norm.cdf(x) # first define x \n",
    "\n",
    "np.floor(1.2)"
   ]
  },
  {
   "attachments": {},
   "cell_type": "markdown",
   "id": "9dce0ba4",
   "metadata": {},
   "source": [
    "### Runs Test\n",
    "\n",
    "The runs test measures how much the random sequence oscillates between zero and one. The test formalizes that for a true random sequence, the probability the next value in the sequence is different than the previous value follows a binomial distribution.\n",
    "\n",
    "A run is a series of values of one kind. For example, $0011010000100111$ has 8 runs. \n",
    "Here are the steps:\n",
    "\n",
    "1. Count the number of runs $R$ in the sequence $(X_1,X_2,\\dots,X_n)$.\n",
    "1. Let $n_0$ be the number of zeros and $n_1$ the number of ones in the sequence. Compute $$q = \\frac{|R - \\overline{R}|}{u}$$ where $$\\overline{R} = \\frac{2n_0n_1}{n}+1,\\quad u^2=\\frac{2n_0n_1(2n_0n_1-n_0-n_1)}{n^2(n+1)}.$$\n",
    "$\\overline{R}$ is the expected number of runs in the sequence.\n",
    "1. If $q > 2.57583$, then conclude that the sequence $(X_1,X_2,\\dots,X_n)$ is non-random.\n",
    "\n",
    "### <span style=\"color:red\"> Exercise </span>\n",
    "\n",
    "Choose a value for $n$. NIST suggests $n \\geq 100$. Implement the test on the test data.\n",
    "\n",
    "<h3 style=\"background-color:lightblue\"> Write Answer for Exercise Below </h3>"
   ]
  },
  {
   "cell_type": "markdown",
   "id": "4a3a389f",
   "metadata": {},
   "source": []
  },
  {
   "attachments": {},
   "cell_type": "markdown",
   "id": "6d9e368e",
   "metadata": {},
   "source": [
    "## <span style=\"color:orange;\"> 3. Making an RNG </span>\n",
    "\n",
    "### Method A\n",
    "We will use the Raspberry Pi Pico's internal temperature sensor. The Pico has 2MB onboard memory or flash storage, so we can save some small files of sensor data directly on the Pico. Download [pico_temperature.py](add link). The purpose of the script is to take 12 temperature readings in total measuring once every $0.25$ seconds and saves them to a file called `temp.txt` on the Pico.\n",
    "\n",
    "You only need to place the Pico in the breadboard and connect it to your computer with the USB cable. Open Thonny, run `pico_temperature.py`. After the script is done running, move the `temp.txt` file that is stored on the Pico into the folder you are currently working in, and delete `temp.txt` from the Pico’s storage. Modify `pico_temperature.py` as needed to take more measurements or change how often measurements are taken. \n",
    "\n",
    "__converting voltage to binary and keeping x number of bits__"
   ]
  },
  {
   "attachments": {},
   "cell_type": "markdown",
   "id": "aea48cae",
   "metadata": {},
   "source": [
    "### Method B\n",
    "\n",
    "The next method involves data taken from sensing your heartbeat. \n",
    "\n",
    "__Move info Camilo wrote about the sensor itself to here since this lab is first?__\n",
    "\n",
    "\n"
   ]
  },
  {
   "attachments": {},
   "cell_type": "markdown",
   "id": "a06fb04c",
   "metadata": {},
   "source": [
    "### Method C\n",
    "\n",
    "A camera, like any sensor, is susceptible to noise, and we can make use of this noise for an RNG. Follow the wiring instructions below to connect the camera component and Pico.\n",
    "Our cameras return a $96\\times 96$ grayscale image. If we capture a noisy scene, then we can unravel the image into a $96^2=9216$ length random sequence and transform that into a binary sequence based on parity (whether the values are even or odd). You may choose how to transform the $96\\times 96$ image array into a 1-dimensional sequence.\n",
    "\n",
    "For the noisy scene, we'll use __...the floor? bags of dyed/undyed grains of rice?__"
   ]
  },
  {
   "cell_type": "code",
   "execution_count": null,
   "id": "73b5f1f0",
   "metadata": {},
   "outputs": [],
   "source": [
    "# how to read/save images"
   ]
  },
  {
   "attachments": {},
   "cell_type": "markdown",
   "id": "806d3ce5",
   "metadata": {},
   "source": [
    "### Method D\n",
    "\n",
    "The Mersenne Twister is a PRNG implemented in many products including Python. It gets its name from a special type of prime number called a Mersenne prime. Mersenne primes are prime numbers of the form $2^p-1$ and as of Dec 2022, we have only discovered 51 (and verified 48) Mersenne primes. The details of the Mersenne Twister algorithm are beyond the scope of this lab, but surprisingly the algorithm itself doesn't involve any complex arithmetic operations like multiplication or addition.\n",
    "\n",
    "Here's a quick example on how to use the `randint` funciton from Python's random module which relies on the Mersenne Twister.\n"
   ]
  },
  {
   "cell_type": "code",
   "execution_count": null,
   "id": "83104e72",
   "metadata": {},
   "outputs": [],
   "source": [
    "from random import randint\n",
    "\n",
    "x = [randint(0,1) for i in range(5)]\n",
    "print(x)"
   ]
  },
  {
   "attachments": {},
   "cell_type": "markdown",
   "id": "3140c3d5",
   "metadata": {},
   "source": [
    "### <span style=\"color:red\"> Exercise </span>\n",
    "\n",
    "Compare the pass rates among the random number generators using Method A, B, C, and D based on at least 10 runs (that's 40 random sequences in total from data you collected). A successful run means a random sequence passed all 5 tests (Monobit Frequency, Monobit Block Frequency, Forward Cumulative Sum, Backward Cumulative Sum, and Runs).\n",
    "\n",
    "In two paragraphs, summarize your results. Include details of the parameters you chose for the tests and RNGs. Which generators seem to be doing well? Is there one test that fails frequently? Do you think further testing is necessary? Why or why not?\n",
    "\n",
    "<h3 style=\"background-color:lightblue\"> Write Answer for Exercise Below </h3>"
   ]
  },
  {
   "cell_type": "code",
   "execution_count": null,
   "id": "039da2a8",
   "metadata": {},
   "outputs": [],
   "source": [
    "# to help manage your files,\n",
    "# in the same directory as this lab .ipynb file, create a folder called folder_of_data \n",
    "# and move rng_test_data.txt into the folder\n",
    "# then you can load your data with the updated path to rng_test_data.txt\n",
    "x = np.loadtxt(\"folder_of_data/rng_test_data.txt\", dtype=str, max_rows=3) \n",
    "seq = ''.join(x)\n",
    "print(seq)\n",
    "\n",
    "# another tip for file naming\n",
    "# it is easy to load your files if you name them well\n",
    "for run_number in range(1,10+1):\n",
    "    print(f\"method_A/run_{run_number}.txt\")"
   ]
  },
  {
   "cell_type": "markdown",
   "id": "721a6c92",
   "metadata": {},
   "source": []
  },
  {
   "cell_type": "markdown",
   "id": "e6524592",
   "metadata": {},
   "source": [
    "## <span style=\"color:green;\"> Reflection </span>\n",
    "\n",
    "Do not skip! It will be graded but only on completion.\n",
    "\n",
    "__1. What parts of the lab, if any, do you feel you did well? <br>\n",
    "2. What are some things you learned today? <br>\n",
    "3. Are there any topics that could use more clarification? <br>\n",
    "4. Do you have any suggestions on parts of the lab to improve?__\n",
    "\n",
    "<h3 style=\"background-color:lightblue\"> Write Answers for the Reflection Below </h3>"
   ]
  },
  {
   "cell_type": "markdown",
   "id": "19dfaeca",
   "metadata": {},
   "source": []
  }
 ],
 "metadata": {
  "interpreter": {
   "hash": "5733b5ebf5ecec2b002a59c36710d44decb4334b28aff8074b4cca610e6649ad"
  },
  "kernelspec": {
   "display_name": "Python 3 (ipykernel)",
   "language": "python",
   "name": "python3"
  },
  "language_info": {
   "codemirror_mode": {
    "name": "ipython",
    "version": 3
   },
   "file_extension": ".py",
   "mimetype": "text/x-python",
   "name": "python",
   "nbconvert_exporter": "python",
   "pygments_lexer": "ipython3",
   "version": "3.8.5"
  }
 },
 "nbformat": 4,
 "nbformat_minor": 5
}
